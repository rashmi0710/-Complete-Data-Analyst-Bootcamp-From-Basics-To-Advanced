{
 "cells": [
  {
   "cell_type": "markdown",
   "id": "61c4a540",
   "metadata": {},
   "source": [
    "<h1 align=\"center\"> Histogram and Skewness</h1>"
   ]
  },
  {
   "cell_type": "markdown",
   "id": "9816e6b4",
   "metadata": {},
   "source": [
    "---\n",
    "\n",
    "### **Definition**\n",
    "\n",
    "A **Histogram** is a graphical representation that shows the **frequency distribution** of a dataset.  \n",
    "It uses **bars** to represent how often different ranges of values occur.\n",
    "\n",
    "**Skewness** measures the **asymmetry** of a data distribution.  \n",
    "It tells whether the data is **symmetrical**, **left-skewed**, or **right-skewed**.\n",
    "\n",
    "---\n",
    "\n",
    "### **Formula for Skewness**\n",
    "\n",
    "$\n",
    "\\text{Skewness} = \\frac{3(\\text{Mean} - \\text{Median})}{\\text{Standard Deviation}}\n",
    "$\n",
    "\n",
    "- **Skewness = 0** → Perfectly symmetrical (normal) distribution  \n",
    "- **Skewness > 0** → Positively (right) skewed distribution  \n",
    "- **Skewness < 0** → Negatively (left) skewed distribution  \n",
    "\n",
    "---\n",
    "\n",
    "### **Example**\n",
    "\n",
    "We can observe skewness in different types of datasets:\n",
    "\n",
    "- **Normal Distribution:** mean = median = mode  \n",
    "- **Right-Skewed Distribution:** longer tail on the right  \n",
    "- **Left-Skewed Distribution:** longer tail on the left  \n",
    "\n",
    "---\n",
    "\n",
    "### **Example Output**\n",
    "\n",
    "<p align=\"center\">\n",
    "  <img src=\"skewness.png\"/>\n",
    "</p>\n",
    "\n",
    "---\n",
    "\n",
    "### **Interpretation**\n",
    "\n",
    "| **Type of Distribution** | **Shape** | **Relation Between Mean, Median, Mode** | **Skewness Value** |\n",
    "|---------------------------|------------|------------------------------------------|--------------------|\n",
    "| **Normal** | Symmetrical (Bell-shaped) | mean = median = mode | 0 |\n",
    "| **Right-Skewed** | Tail towards right | mean > median > mode | Positive |\n",
    "| **Left-Skewed** | Tail towards left | mean < median < mode | Negative |\n",
    "\n",
    "---\n",
    "\n",
    "### **Summary**\n",
    "\n",
    "- A **Histogram** displays data distribution.  \n",
    "- The **KDE curve** helps visualize smooth trends in data.  \n",
    "- **Skewness** indicates whether data leans to one side.  \n",
    "- Together, they reveal how your dataset is **spread**, **centered**, and **balanced**.\n",
    "\n",
    "---\n"
   ]
  },
  {
   "cell_type": "code",
   "execution_count": null,
   "id": "a6667225",
   "metadata": {},
   "outputs": [],
   "source": []
  }
 ],
 "metadata": {
  "kernelspec": {
   "display_name": "data_env",
   "language": "python",
   "name": "python3"
  },
  "language_info": {
   "codemirror_mode": {
    "name": "ipython",
    "version": 3
   },
   "file_extension": ".py",
   "mimetype": "text/x-python",
   "name": "python",
   "nbconvert_exporter": "python",
   "pygments_lexer": "ipython3",
   "version": "3.10.0"
  }
 },
 "nbformat": 4,
 "nbformat_minor": 5
}
