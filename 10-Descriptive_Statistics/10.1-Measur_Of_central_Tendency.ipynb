{
 "cells": [
  {
   "cell_type": "markdown",
   "id": "089a8bb9",
   "metadata": {},
   "source": [
    "<h1 align=\"center\">MEASURE OF CENTRAL TENDENCY</h1>"
   ]
  },
  {
   "cell_type": "markdown",
   "id": "21fbeafd",
   "metadata": {},
   "source": [
    "#### Defination \n",
    "\n",
    "Measures of central tendency are statistical metrics that describe the center point or typical value of a dataset. They provide a single value that summarizes a set of data by identifying the central position within that dataset."
   ]
  },
  {
   "cell_type": "markdown",
   "id": "7d4d5287",
   "metadata": {},
   "source": [
    "1. ***MEAN*** \n",
    "2. ***MEDIAN*** \n",
    "3. ***MODE***"
   ]
  },
  {
   "cell_type": "markdown",
   "id": "900b2626",
   "metadata": {},
   "source": [
    "#### <b>Mean</b>\n",
    "\n",
    "It is the sum of all values divided by the number of values.  \n",
    "\n",
    "| Type | Symbol | Formula | Description |\n",
    "|------|---------|----------|--------------|\n",
    "| **Population Mean** | $\\mu$ | $$\\mu = \\frac{\\sum_{i=1}^{N} X_i}{N}$$ | Population size = **N** |\n",
    "| **Sample Mean** | $\\bar{X}$ | $$\\bar{X} = \\frac{\\sum_{i=1}^{n} X_i}{n}$$ | Sample size = **n** |\n",
    "\n",
    "#### <b>Mean Characteristics</b>\n",
    "1. Affected by extreme outliers \n",
    "2. Used for interval and ratio data\n",
    "\n",
    "#### Why Mean is Extremely Affected by Outliers  \n",
    " \n",
    "\n",
    "| Dataset | Values | Mean |\n",
    "|----------|---------|------|\n",
    "| **A (No Outlier)** | 10, 12, 13, 14, 15 | $$\\bar{X} = \\frac{10+12+13+14+15}{5} = 12.8$$ |\n",
    "| **B (With Outlier)** | 10, 12, 13, 14, 100 | $$\\bar{X} = \\frac{10+12+13+14+100}{5} = 29.8$$ |\n",
    "\n",
    "Even though both datasets are almost the same, adding one extreme value (**100**) in Dataset B increased the mean from **12.8 to 29.8**.  \n",
    "\n",
    "**Conclusion:**  \n",
    "The **mean** is highly sensitive to extreme values (outliers), as a single large or small number can significantly shift the average.\n",
    "\n",
    "\n"
   ]
  },
  {
   "cell_type": "markdown",
   "id": "01a59d6b",
   "metadata": {},
   "source": [
    "#### "
   ]
  },
  {
   "cell_type": "markdown",
   "id": "46e7b843",
   "metadata": {},
   "source": [
    "#### **Median**  \n",
    "\n",
    "The **Median** is the **middle value** of an ordered dataset (either ascending or descending).  \n",
    "It divides the data into **two equal halves**, such that 50% of the values lie below it and 50% above it.  \n",
    "It is a measure of **central tendency** and is **less affected by extreme values (outliers)** compared to the mean.\n",
    "\n",
    "---\n",
    "\n",
    "#### Formula for Median  \n",
    "\n",
    "| Case | Formula | Description |\n",
    "|------|----------|-------------|\n",
    "| **Odd number of observations** | $$\\text{Median} = X_{\\frac{n+1}{2}}$$ | The middle value of the ordered data |\n",
    "| **Even number of observations** | $$\\text{Median} = \\frac{X_{\\frac{n}{2}} + X_{\\frac{n}{2}+1}}{2}$$ | Average of the two middle values |\n",
    "\n",
    "Where:  \n",
    "- \\( n \\) = total number of observations  \n",
    "- \\( X_i \\) = ith observation when data is arranged in order  \n",
    "\n",
    "---\n",
    "\n",
    "#### Example  \n",
    "\n",
    "**Dataset A (Odd number of observations):**  \n",
    "10, 12, 13, 14, 15  \n",
    "$\\text{Median} = X_{\\frac{5+1}{2}} = X_3 = 13$  \n",
    "\n",
    "**Dataset B (Even number of observations):**  \n",
    "10, 12, 13, 14, 16, 18  \n",
    "$\\text{Median} = \\frac{X_3 + X_4}{2} = \\frac{13 + 14}{2} = 13.5$ \n",
    " \n",
    "\n",
    "---\n",
    "\n",
    "**Key Point:**  \n",
    "- The **median** represents the center of the data.  \n",
    "- It is **not influenced** by extremely high or low values (outliers).  \n",
    "- It is especially useful when data is **skewed** or contains **outliers**.\n"
   ]
  },
  {
   "cell_type": "markdown",
   "id": "3f69b1df",
   "metadata": {},
   "source": [
    "#### <b>Mode</b>  \n",
    "\n",
    "The **Mode** is the value that occurs **most frequently** in a dataset.  \n",
    "It represents the **highest frequency** among all observations and is useful for **categorical as well as numerical data**.  \n",
    "\n",
    "---\n",
    "\n",
    "#### Formula  \n",
    "\n",
    "For **ungrouped data:**\n",
    "\n",
    "$\n",
    "\\text{Mode} = \\text{Most frequent value in the dataset}\n",
    "$\n",
    "\n",
    "For **grouped data:**\n",
    "\n",
    "$\n",
    "\\text{Mode} = L + \\left( \\frac{f_m - f_{1}}{2f_m - f_{1} - f_{2}} \\right) \\times h\n",
    "$\n",
    "\n",
    "Where:  \n",
    "- \\( L \\) = Lower boundary of the modal class  \n",
    "- \\( f_m \\) = Frequency of the modal class  \n",
    "- \\( f_{1} \\) = Frequency of the class before the modal class  \n",
    "- \\( f_{2} \\) = Frequency of the class after the modal class  \n",
    "- \\( h \\) = Class width  \n",
    "\n",
    "---\n",
    "\n",
    "#### Example (Ungrouped Data)\n",
    "\n",
    "Dataset: 3, 4, 4, 5, 6, 6, 6, 7, 8  \n",
    "\n",
    "$\n",
    "\\text{Mode} = 6\n",
    "$\n",
    "\n",
    "The value **6** appears most frequently, so it is the mode.  \n",
    "\n",
    "---\n",
    "\n",
    "#### Example (Grouped Data)\n",
    "\n",
    "| Class Interval | Frequency |\n",
    "|----------------|------------|\n",
    "| 0 – 10 | 5 |\n",
    "| 10 – 20 | 8 |\n",
    "| 20 – 30 | 12 |\n",
    "| 30 – 40 | 9 |\n",
    "| 40 – 50 | 6 |\n",
    "\n",
    "Here,  \n",
    "- Modal class = **20 – 30** (highest frequency = 12)  \n",
    "- \\( L = 20 \\)  \n",
    "- \\( f_m = 12 \\), \\( f_{1} = 8 \\), \\( f_{2} = 9 \\), \\( h = 10 \\)\n",
    "\n",
    "$\n",
    "\\text{Mode} = 20 + \\left( \\frac{12 - 8}{(2 \\times 12) - 8 - 9} \\right) \\times 10\n",
    "$\n",
    "\n",
    "$\n",
    "\\text{Mode} = 20 + \\left( \\frac{4}{24 - 17} \\right) \\times 10 = 20 + \\frac{4}{7} \\times 10 = 20 + 5.7 = 25.7\n",
    "$\n",
    "\n",
    "**Conclusion:**  \n",
    "- The **mode** represents the most common value.  \n",
    "- For **grouped data**, the mode is **estimated** using the formula above.  \n",
    "- The **mode** is not affected by extreme values and is especially useful for **categorical** data.\n"
   ]
  },
  {
   "cell_type": "markdown",
   "id": "d40087c0",
   "metadata": {},
   "source": [
    "#### Types of skewness\n",
    "\n",
    "<div align=\"center\">\n",
    "  <img src=\"normal.png\" alt=\"Normal Distribution\" width=\"300\" style=\"display:inline-block; margin:10px;\">\n",
    "  <img src=\"right_skewed.png\" alt=\"Right-Skewed Distribution\" width=\"300\" style=\"display:inline-block; margin:10px;\">\n",
    "  <img src=\"left_sekwed.png\" alt=\"Left-Skewed Distribution\" width=\"300\" style=\"display:inline-block; margin:10px;\">\n",
    "</div>\n"
   ]
  },
  {
   "cell_type": "markdown",
   "id": "bb2479ab",
   "metadata": {},
   "source": []
  }
 ],
 "metadata": {
  "kernelspec": {
   "display_name": "data_env",
   "language": "python",
   "name": "python3"
  },
  "language_info": {
   "codemirror_mode": {
    "name": "ipython",
    "version": 3
   },
   "file_extension": ".py",
   "mimetype": "text/x-python",
   "name": "python",
   "nbconvert_exporter": "python",
   "pygments_lexer": "ipython3",
   "version": "3.10.0"
  }
 },
 "nbformat": 4,
 "nbformat_minor": 5
}
