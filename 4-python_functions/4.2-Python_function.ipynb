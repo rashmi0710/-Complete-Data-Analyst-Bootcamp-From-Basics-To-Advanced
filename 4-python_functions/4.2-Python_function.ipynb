{
 "cells": [
  {
   "cell_type": "markdown",
   "id": "a72bdada",
   "metadata": {},
   "source": [
    "Function Example"
   ]
  },
  {
   "cell_type": "code",
   "execution_count": 2,
   "metadata": {},
   "outputs": [
    {
     "name": "stdout",
     "output_type": "stream",
     "text": [
      "77.0\n",
      "25.0\n"
     ]
    }
   ],
   "source": [
    "def convert_temperatue(temp,unit):\n",
    "    \"\"\"this function converts temperature between celsius and Fahrenheit\"\"\"\n",
    "    if unit=='C':\n",
    "        return temp*9/5 +32 # celsius to fahrenheit\n",
    "    elif unit == \"F\":\n",
    "        return (temp-32)*5/9\n",
    "    else:\n",
    "        return None\n",
    "\n",
    "print(convert_temperatue(25,'C'))\n",
    "print(convert_temperatue(77,'F'))"
   ]
  },
  {
   "cell_type": "code",
   "execution_count": 5,
   "metadata": {},
   "outputs": [
    {
     "name": "stdout",
     "output_type": "stream",
     "text": [
      "True\n",
      "False\n"
     ]
    }
   ],
   "source": [
    "##password strength checker \n",
    "def is_strong_Password(password):\n",
    "    \"\"\"this function checks if the password is strong or not\"\"\"\n",
    "    if len(password)<8:\n",
    "        return False\n",
    "    if not any(char.isdigit() for char in password):\n",
    "        return False\n",
    "    if not any (char.islower() for char in password):\n",
    "        return False\n",
    "    if not any (char.isupper() for char in password):\n",
    "        return False\n",
    "    if not any (char in '!@#$%^&*()_+' for char in password):\n",
    "        return False\n",
    "    return True\n",
    "\n",
    "# calling the function \n",
    "print(is_strong_Password(\"Rashmi12233@\"))\n",
    "print(is_strong_Password(\"Rashmi12\"))\n"
   ]
  },
  {
   "cell_type": "code",
   "execution_count": 7,
   "metadata": {},
   "outputs": [
    {
     "data": {
      "text/plain": [
       "38.7"
      ]
     },
     "execution_count": 7,
     "metadata": {},
     "output_type": "execute_result"
    }
   ],
   "source": [
    "def calculate_total_cost(cart):\n",
    "    total_cost = 0\n",
    "    for item in cart:\n",
    "        total_cost += item['price']*item['quantity']\n",
    "    return total_cost\n",
    "cart = [\n",
    "    {'name': 'apple', 'price': 0.5, 'quantity': 4},\n",
    "    {'name': 'banana', 'price': 0.3, 'quantity': 6},\n",
    "    {'name': 'orange', 'price': 0.6, 'quantity': 3},\n",
    "    {'name': 'grapes', 'price': 2.0, 'quantity': 2},\n",
    "    {'name': 'mango', 'price': 1.5, 'quantity': 5},\n",
    "    {'name': 'pineapple', 'price': 3.0, 'quantity': 1},\n",
    "    {'name': 'strawberry', 'price': 0.2, 'quantity': 20},\n",
    "    {'name': 'blueberry', 'price': 0.1, 'quantity': 50},\n",
    "    {'name': 'kiwi', 'price': 0.8, 'quantity': 7},\n",
    "    {'name': 'watermelon', 'price': 4.0, 'quantity': 1}\n",
    "]\n",
    "\n",
    "# calling the function \n",
    "calculate_total_cost(cart)\n"
   ]
  },
  {
   "cell_type": "code",
   "execution_count": 11,
   "metadata": {},
   "outputs": [
    {
     "name": "stdout",
     "output_type": "stream",
     "text": [
      "True\n",
      "False\n"
     ]
    }
   ],
   "source": [
    "## check if a string is plaindrome \n",
    "#aba \n",
    "\n",
    "def is_plaindrome(s):\n",
    "    s=s.lower().replace(\" \",\"\")\n",
    "    return s==s[::-1]\n",
    "\n",
    "print(is_plaindrome(\"No lemon, no melon\"))\n",
    "print(is_plaindrome(\"hellloe\"))"
   ]
  },
  {
   "cell_type": "code",
   "execution_count": 12,
   "metadata": {},
   "outputs": [
    {
     "name": "stdout",
     "output_type": "stream",
     "text": [
      "720\n"
     ]
    }
   ],
   "source": [
    "# calculate the factorials of a number using recursion \n",
    "def factorial(n):\n",
    "    if n == 0:\n",
    "        return 1\n",
    "    else:\n",
    "        return n*factorial(n-1)\n",
    "    \n",
    "print(factorial(6))"
   ]
  },
  {
   "cell_type": "code",
   "execution_count": 14,
   "metadata": {},
   "outputs": [
    {
     "name": "stdout",
     "output_type": "stream",
     "text": [
      "{'python': 7, 'is': 2, 'a': 1, 'powerful': 1, 'programming': 1, 'language': 1, 'easy': 1, 'to': 1, 'learn': 1, 'and': 3, 'widely': 1, 'used': 1, 'in': 1, 'data': 1, 'science': 1, 'web': 1, 'development': 1, 'automation': 1, 'artificial': 1, 'intelligence': 1, 'many': 2, 'developers': 1, 'love': 1, 'because': 1, 'of': 1, 'its': 1, 'simplicity': 1, 'readability': 1, 'learning': 1, 'can': 1, 'open': 1, 'up': 1, 'career': 1, 'opportunities': 1}\n"
     ]
    }
   ],
   "source": [
    "#a function to read a file and count the frequnecy of each word \n",
    "\n",
    "def count_word_freq(file_path):\n",
    "    word_count={}\n",
    "    with open(file_path,'r') as file:\n",
    "        for line in file:\n",
    "            words=line.split()\n",
    "            for word in words:\n",
    "                word=word.lower().strip('.,!?;:\"\\'')\n",
    "                word_count[word]=word_count.get(word,0)+1\n",
    "    return word_count\n",
    "\n",
    "file_path = 'sample.txt'\n",
    "word_frequnecy= count_word_freq(file_path)\n",
    "print(word_frequnecy)"
   ]
  },
  {
   "cell_type": "code",
   "execution_count": 15,
   "metadata": {},
   "outputs": [
    {
     "name": "stdout",
     "output_type": "stream",
     "text": [
      "test@example.com: True\n",
      "invalid-email: False\n",
      "hello.world@domain.co: True\n",
      "abc@.com: False\n"
     ]
    }
   ],
   "source": [
    "#validate a email address\n",
    "def validate_email(email):\n",
    "    \"\"\"\n",
    "    Validates an email address without using regular expressions.\n",
    "    Returns True if valid, False otherwise.\n",
    "    \"\"\"\n",
    "    if \"@\" not in email or email.count(\"@\") != 1:\n",
    "        return False\n",
    "\n",
    "    username, domain = email.split(\"@\")\n",
    "\n",
    "    # Basic checks\n",
    "    if not username or not domain:\n",
    "        return False\n",
    "    if \".\" not in domain:\n",
    "        return False\n",
    "    if domain.startswith(\".\") or domain.endswith(\".\"):\n",
    "        return False\n",
    "    if \"..\" in email:\n",
    "        return False\n",
    "\n",
    "    # Check for invalid characters\n",
    "    allowed_chars = \"abcdefghijklmnopqrstuvwxyzABCDEFGHIJKLMNOPQRSTUVWXYZ0123456789._%+-\"\n",
    "    for char in username:\n",
    "        if char not in allowed_chars:\n",
    "            return False\n",
    "\n",
    "    return True\n",
    "\n",
    "# Example usage\n",
    "emails = [\"test@example.com\", \"invalid-email\", \"hello.world@domain.co\", \"abc@.com\"]\n",
    "for e in emails:\n",
    "    print(f\"{e}: {validate_email(e)}\")\n"
   ]
  },
  {
   "cell_type": "code",
   "execution_count": null,
   "metadata": {},
   "outputs": [],
   "source": []
  },
  {
   "cell_type": "code",
   "execution_count": null,
   "metadata": {},
   "outputs": [],
   "source": []
  },
  {
   "cell_type": "code",
   "execution_count": null,
   "metadata": {},
   "outputs": [],
   "source": []
  },
  {
   "cell_type": "code",
   "execution_count": null,
   "metadata": {},
   "outputs": [],
   "source": []
  },
  {
   "cell_type": "code",
   "execution_count": null,
   "metadata": {},
   "outputs": [],
   "source": []
  },
  {
   "cell_type": "code",
   "execution_count": null,
   "metadata": {},
   "outputs": [],
   "source": []
  },
  {
   "cell_type": "code",
   "execution_count": null,
   "metadata": {},
   "outputs": [],
   "source": []
  },
  {
   "cell_type": "code",
   "execution_count": null,
   "metadata": {},
   "outputs": [],
   "source": []
  },
  {
   "cell_type": "code",
   "execution_count": null,
   "metadata": {},
   "outputs": [],
   "source": []
  },
  {
   "cell_type": "code",
   "execution_count": null,
   "metadata": {},
   "outputs": [],
   "source": []
  },
  {
   "cell_type": "code",
   "execution_count": null,
   "metadata": {},
   "outputs": [],
   "source": []
  },
  {
   "cell_type": "code",
   "execution_count": null,
   "metadata": {},
   "outputs": [],
   "source": []
  },
  {
   "cell_type": "code",
   "execution_count": null,
   "metadata": {},
   "outputs": [],
   "source": []
  },
  {
   "cell_type": "code",
   "execution_count": null,
   "metadata": {},
   "outputs": [],
   "source": []
  },
  {
   "cell_type": "code",
   "execution_count": null,
   "id": "9dfbe93e",
   "metadata": {},
   "outputs": [],
   "source": []
  },
  {
   "cell_type": "code",
   "execution_count": null,
   "id": "ad3c1299",
   "metadata": {},
   "outputs": [],
   "source": []
  },
  {
   "cell_type": "code",
   "execution_count": null,
   "id": "abb2f8b2",
   "metadata": {},
   "outputs": [],
   "source": []
  },
  {
   "cell_type": "markdown",
   "id": "98f5fb04",
   "metadata": {},
   "source": []
  }
 ],
 "metadata": {
  "kernelspec": {
   "display_name": "data_env",
   "language": "python",
   "name": "python3"
  },
  "language_info": {
   "codemirror_mode": {
    "name": "ipython",
    "version": 3
   },
   "file_extension": ".py",
   "mimetype": "text/x-python",
   "name": "python",
   "nbconvert_exporter": "python",
   "pygments_lexer": "ipython3",
   "version": "3.10.0"
  }
 },
 "nbformat": 4,
 "nbformat_minor": 5
}
