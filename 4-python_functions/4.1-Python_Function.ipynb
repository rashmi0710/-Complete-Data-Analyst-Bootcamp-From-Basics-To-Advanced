{
 "cells": [
  {
   "cell_type": "markdown",
   "id": "63a6a00b",
   "metadata": {},
   "source": [
    "A function is a block of code which only runs when it is called.\n",
    "\n",
    "You can pass data, known as parameters, into a function.\n",
    "\n",
    "A function can return data as a result."
   ]
  },
  {
   "cell_type": "code",
   "execution_count": null,
   "id": "00066415",
   "metadata": {},
   "outputs": [],
   "source": [
    "# syntax\n",
    "def function_name(parameters):\n",
    "    \"\"\"\"docstring\"\"\"\n",
    "    #function body\n",
    "    return expression \n"
   ]
  },
  {
   "cell_type": "code",
   "execution_count": null,
   "id": "0ba51745",
   "metadata": {},
   "outputs": [
    {
     "name": "stdout",
     "output_type": "stream",
     "text": [
      "the number is odd\n"
     ]
    }
   ],
   "source": [
    "## why functions?\n",
    "def evenOrOdd(num): #parameter\n",
    "    \"\"\"this function finds even or odd\"\"\"\n",
    "    if num%2==0:\n",
    "        print(\"the number is even\")\n",
    "    else:\n",
    "        print(\"the number is odd\")\n",
    "\n",
    "# calling function \n",
    "evenOrOdd(5) # arguement"
   ]
  },
  {
   "cell_type": "code",
   "execution_count": 5,
   "id": "d4c0af6d",
   "metadata": {},
   "outputs": [
    {
     "data": {
      "text/plain": [
       "11"
      ]
     },
     "execution_count": 5,
     "metadata": {},
     "output_type": "execute_result"
    }
   ],
   "source": [
    "## function with multiple parameter \n",
    "\n",
    "def add(a,b):\n",
    "    \"\"\"adding two number \"\"\"\n",
    "    return a+b\n",
    "\n",
    "add(5,6)"
   ]
  },
  {
   "cell_type": "code",
   "execution_count": 8,
   "id": "5658c6dd",
   "metadata": {},
   "outputs": [
    {
     "name": "stdout",
     "output_type": "stream",
     "text": [
      "hellow!! rashmi thankyou for visting our webapp\n"
     ]
    }
   ],
   "source": [
    "## default parameter \n",
    "def greet(name=\"rashmi\"):\n",
    "    print(f\"hellow!! {name} thankyou for visting our webapp\")\n",
    "\n",
    "greet(\"rashmi\")"
   ]
  },
  {
   "cell_type": "code",
   "execution_count": 9,
   "id": "4face055",
   "metadata": {},
   "outputs": [
    {
     "name": "stdout",
     "output_type": "stream",
     "text": [
      "hellow!! rashmi thankyou for visting our webapp\n"
     ]
    }
   ],
   "source": [
    "greet()"
   ]
  },
  {
   "cell_type": "code",
   "execution_count": null,
   "id": "48170657",
   "metadata": {},
   "outputs": [],
   "source": [
    "## variable length arguements \n",
    "## positional and keywords arguements \n",
    "\n",
    "# positional arguement\n",
    "def print_numbers(*args):\n",
    "    for number in args:\n",
    "        print(number)"
   ]
  },
  {
   "cell_type": "code",
   "execution_count": 14,
   "id": "e5fdab9e",
   "metadata": {},
   "outputs": [
    {
     "name": "stdout",
     "output_type": "stream",
     "text": [
      "1\n",
      "2\n",
      "3\n",
      "4\n",
      "5\n",
      "6\n",
      "7\n",
      "8\n",
      "9\n",
      "rashmi\n"
     ]
    }
   ],
   "source": [
    "print_numbers(1,2,3,4,5,6,7,8,9,\"rashmi\")"
   ]
  },
  {
   "cell_type": "code",
   "execution_count": 15,
   "id": "0300439d",
   "metadata": {},
   "outputs": [],
   "source": [
    "#keyword arguements all the parameters will be in the from of key values pair\n",
    "\n",
    "def print_Details(**kwargs):\n",
    "    for key,value in kwargs.items():\n",
    "        print(f\"{key}:{value}\")"
   ]
  },
  {
   "cell_type": "code",
   "execution_count": 17,
   "id": "c3dc7792",
   "metadata": {},
   "outputs": [
    {
     "name": "stdout",
     "output_type": "stream",
     "text": [
      "name:rashmi\n",
      "age:36\n",
      "country:India\n"
     ]
    }
   ],
   "source": [
    "print_Details(name=\"rashmi\",age=36,country=\"India\")"
   ]
  },
  {
   "cell_type": "code",
   "execution_count": 19,
   "id": "a8b99279",
   "metadata": {},
   "outputs": [],
   "source": [
    "def print_Details(*args, **kwargs):\n",
    "    for val in args:\n",
    "        print(f\"positional arguement :{val}\")\n",
    "    for key,value in kwargs.items():\n",
    "        print(f\"{key}:{value}\")"
   ]
  },
  {
   "cell_type": "code",
   "execution_count": 20,
   "id": "554eaa4a",
   "metadata": {},
   "outputs": [
    {
     "name": "stdout",
     "output_type": "stream",
     "text": [
      "positional arguement :1\n",
      "positional arguement :2\n",
      "positional arguement :3\n",
      "positional arguement :4\n",
      "positional arguement :5\n",
      "positional arguement :6\n",
      "positional arguement :7\n",
      "positional arguement :8\n",
      "positional arguement :9\n",
      "positional arguement :rama\n",
      "name:rashmi\n",
      "age:36\n",
      "country:India\n"
     ]
    }
   ],
   "source": [
    "print_Details(1,2,3,4,5,6,7,8,9,\"rama\",name=\"rashmi\",age=36,country=\"India\")"
   ]
  },
  {
   "cell_type": "code",
   "execution_count": 22,
   "id": "dc229811",
   "metadata": {},
   "outputs": [
    {
     "data": {
      "text/plain": [
       "(6, 2)"
      ]
     },
     "execution_count": 22,
     "metadata": {},
     "output_type": "execute_result"
    }
   ],
   "source": [
    "### return multiple parameters \n",
    "def multiply(a,b):\n",
    "    return a*b,a\n",
    "\n",
    "multiply(2,3)"
   ]
  },
  {
   "cell_type": "code",
   "execution_count": null,
   "id": "a7ed6059",
   "metadata": {},
   "outputs": [],
   "source": []
  }
 ],
 "metadata": {
  "kernelspec": {
   "display_name": "data_env",
   "language": "python",
   "name": "python3"
  },
  "language_info": {
   "codemirror_mode": {
    "name": "ipython",
    "version": 3
   },
   "file_extension": ".py",
   "mimetype": "text/x-python",
   "name": "python",
   "nbconvert_exporter": "python",
   "pygments_lexer": "ipython3",
   "version": "3.10.0"
  }
 },
 "nbformat": 4,
 "nbformat_minor": 5
}
