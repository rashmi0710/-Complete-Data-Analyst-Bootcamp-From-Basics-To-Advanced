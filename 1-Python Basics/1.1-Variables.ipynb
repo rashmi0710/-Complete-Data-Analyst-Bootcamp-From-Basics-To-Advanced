{
 "cells": [
  {
   "cell_type": "markdown",
   "id": "aca52e7d",
   "metadata": {},
   "source": [
    "A variable in Python is a name that refers to a value or data stored in memory, allowing programmers to store, reuse, and manipulate information easily throughout a program. Variables are created by simply assigning a value to a name using the equals sign (=), and their type is determined automatically based on the value assigned—there is no need for explicit type declaration.\n",
    "\n",
    "Key Points About Variables in Python\n",
    "Variables act as containers for storing data values such as numbers, text, lists, and more.\n",
    "\n",
    "Variable names can include letters, numbers, and underscores but must not start with a number or use Python keywords.\n",
    "\n",
    "Python variables are case-sensitive (so Age and age are different).\n",
    "\n",
    "Variables can change type by reassignment (e.g., a variable can be an integer now and a string later).\n",
    "\n"
   ]
  },
  {
   "cell_type": "code",
   "execution_count": 1,
   "id": "8612116f",
   "metadata": {},
   "outputs": [
    {
     "name": "stdout",
     "output_type": "stream",
     "text": [
      "5\n",
      "Riya\n",
      "3.14\n",
      "True\n"
     ]
    }
   ],
   "source": [
    "# declaring and assigning Variables\n",
    "\n",
    "x = 5            # x is an integer\n",
    "name = \"Riya\"    # name is a string\n",
    "pi = 3.14        # pi is a float\n",
    "is_valid = True  # is_valid is a boolean\n",
    "\n",
    "print(x)\n",
    "print(name)\n",
    "print(pi)\n",
    "print(is_valid)"
   ]
  },
  {
   "cell_type": "code",
   "execution_count": 5,
   "id": "1f0e5027",
   "metadata": {},
   "outputs": [],
   "source": [
    "# naming coventions\n",
    "# variable name should be description \n",
    "# they must start with a letter or an \"_\" and contains letter,number and underscroes\n",
    "# variables names are case senstive \n",
    "\n",
    "#valid variables names \n",
    "frist_name = \"Rashmi\"\n",
    "last_name = \"Dongre\""
   ]
  },
  {
   "cell_type": "code",
   "execution_count": null,
   "id": "c3883939",
   "metadata": {},
   "outputs": [],
   "source": [
    "# invalid variable names \n",
    "#2age = 30\n",
    "#frist-name = \"rashmi\"\n",
    "#@name = \"rashmi\""
   ]
  },
  {
   "cell_type": "code",
   "execution_count": 12,
   "id": "9eb9e2e0",
   "metadata": {},
   "outputs": [],
   "source": [
    "# case sensitivity \n",
    "name = \"Rashmi\"\n",
    "Name = \"Rashmi\""
   ]
  },
  {
   "cell_type": "code",
   "execution_count": 30,
   "id": "d7e31a62",
   "metadata": {},
   "outputs": [
    {
     "name": "stdout",
     "output_type": "stream",
     "text": [
      "<class 'str'>\n"
     ]
    }
   ],
   "source": [
    "# undersating variables types \n",
    "# python is dynamically typed, typed of a varible is determined at runtime\n",
    "age = 25  #int\n",
    "height = 525.01 #flot\n",
    "name = \"rashmi\" #str\n",
    "is_student = True #bool\n",
    "\n",
    "print(type(name))"
   ]
  },
  {
   "cell_type": "code",
   "execution_count": 25,
   "id": "8ff5e6c7",
   "metadata": {},
   "outputs": [
    {
     "data": {
      "text/plain": [
       "float"
      ]
     },
     "execution_count": 25,
     "metadata": {},
     "output_type": "execute_result"
    }
   ],
   "source": [
    "#type checking and conversion\n",
    "type(height)"
   ]
  },
  {
   "cell_type": "code",
   "execution_count": 17,
   "id": "bf0721dd",
   "metadata": {},
   "outputs": [
    {
     "name": "stdout",
     "output_type": "stream",
     "text": [
      "<class 'int'>\n",
      "23\n",
      "<class 'str'>\n"
     ]
    }
   ],
   "source": [
    "age = 23\n",
    "print(type(age))\n",
    "\n",
    "# type conversion\n",
    "age_str = str(age)\n",
    "print(age_str)\n",
    "print(type(age_str))"
   ]
  },
  {
   "cell_type": "code",
   "execution_count": 18,
   "id": "7f490ca0",
   "metadata": {},
   "outputs": [
    {
     "name": "stdout",
     "output_type": "stream",
     "text": [
      "<class 'str'>\n"
     ]
    }
   ],
   "source": [
    "age = '23'\n",
    "int(age)\n",
    "print(type(age))"
   ]
  },
  {
   "cell_type": "code",
   "execution_count": 26,
   "id": "4c1ca52b",
   "metadata": {},
   "outputs": [
    {
     "ename": "ValueError",
     "evalue": "invalid literal for int() with base 10: 'my name is rashmi'",
     "output_type": "error",
     "traceback": [
      "\u001b[1;31m---------------------------------------------------------------------------\u001b[0m",
      "\u001b[1;31mValueError\u001b[0m                                Traceback (most recent call last)",
      "Cell \u001b[1;32mIn[26], line 2\u001b[0m\n\u001b[0;32m      1\u001b[0m name \u001b[38;5;241m=\u001b[39m \u001b[38;5;124m\"\u001b[39m\u001b[38;5;124mmy name is rashmi\u001b[39m\u001b[38;5;124m\"\u001b[39m\n\u001b[1;32m----> 2\u001b[0m \u001b[38;5;28;43mint\u001b[39;49m\u001b[43m(\u001b[49m\u001b[43mname\u001b[49m\u001b[43m)\u001b[49m\n",
      "\u001b[1;31mValueError\u001b[0m: invalid literal for int() with base 10: 'my name is rashmi'"
     ]
    }
   ],
   "source": [
    "name = \"my name is rashmi\"\n",
    "int(name)"
   ]
  },
  {
   "cell_type": "markdown",
   "id": "1ac50158",
   "metadata": {},
   "source": [
    "will produce an error because the string \"my name is rashmi\" contains non-numeric characters and cannot be converted to an integer using int().\n",
    "\n",
    "Explanation:\n",
    "The int() function can only convert strings that represent valid integers (e.g., \"123\", \"-45\").\n",
    "\n",
    "If the string contains letters or spaces, like in this example, Python raises a ValueError."
   ]
  },
  {
   "cell_type": "code",
   "execution_count": 27,
   "id": "24a89559",
   "metadata": {},
   "outputs": [
    {
     "data": {
      "text/plain": [
       "float"
      ]
     },
     "execution_count": 27,
     "metadata": {},
     "output_type": "execute_result"
    }
   ],
   "source": [
    "heigth = 5.11\n",
    "type(height)"
   ]
  },
  {
   "cell_type": "code",
   "execution_count": 29,
   "id": "38e6aec4",
   "metadata": {},
   "outputs": [
    {
     "data": {
      "text/plain": [
       "5"
      ]
     },
     "execution_count": 29,
     "metadata": {},
     "output_type": "execute_result"
    }
   ],
   "source": [
    "int(heigth)"
   ]
  },
  {
   "cell_type": "code",
   "execution_count": 31,
   "id": "a301f4c2",
   "metadata": {},
   "outputs": [
    {
     "data": {
      "text/plain": [
       "5.0"
      ]
     },
     "execution_count": 31,
     "metadata": {},
     "output_type": "execute_result"
    }
   ],
   "source": [
    "float(int(heigth))"
   ]
  },
  {
   "cell_type": "code",
   "execution_count": 33,
   "id": "3f1e1511",
   "metadata": {},
   "outputs": [
    {
     "name": "stdout",
     "output_type": "stream",
     "text": [
      "10 <class 'int'>\n",
      "Hello <class 'str'>\n",
      "3.14 <class 'float'>\n"
     ]
    }
   ],
   "source": [
    "# Dynamic Typing \n",
    "# python allows the type of a variable to chnage as the program executes\n",
    "x = 10      # x is an integer\n",
    "print(x, type(x))\n",
    "\n",
    "x = \"Hello\"  # Now x is a string\n",
    "print(x, type(x))\n",
    "\n",
    "x = 3.14    # Now x is a float\n",
    "print(x, type(x))\n"
   ]
  },
  {
   "cell_type": "code",
   "execution_count": 37,
   "id": "48d64507",
   "metadata": {},
   "outputs": [
    {
     "name": "stdout",
     "output_type": "stream",
     "text": [
      "23 <class 'str'>\n"
     ]
    }
   ],
   "source": [
    "## input \n",
    "age = input(\"what is your age\")\n",
    "print(age,type(age))"
   ]
  },
  {
   "cell_type": "code",
   "execution_count": 38,
   "id": "8d046d9e",
   "metadata": {},
   "outputs": [
    {
     "name": "stdout",
     "output_type": "stream",
     "text": [
      "23 <class 'int'>\n"
     ]
    }
   ],
   "source": [
    "age = int(input(\"what is your age\"))\n",
    "print(age,type(age))"
   ]
  },
  {
   "cell_type": "code",
   "execution_count": 42,
   "id": "a0d55493",
   "metadata": {},
   "outputs": [
    {
     "name": "stdout",
     "output_type": "stream",
     "text": [
      "Sum : 63.0\n",
      "diffrence : 49.0\n",
      "Product : 392.0\n",
      "quotient : 8.0\n"
     ]
    }
   ],
   "source": [
    "# buliding simple calculator\n",
    "num1 = float(input(\"please enter the frist num\"));\n",
    "num2 = float(input(\"please enter the second num\"));\n",
    "\n",
    "sum = num1 + num2\n",
    "diffrence = num1 - num2\n",
    "product = num1 *  num2\n",
    "quotient = num1 / num2\n",
    "\n",
    "print(\"Sum :\", sum)\n",
    "print(\"diffrence :\", diffrence)\n",
    "print(\"Product :\", product)\n",
    "print(\"quotient :\", quotient)"
   ]
  },
  {
   "cell_type": "code",
   "execution_count": null,
   "id": "faa9b8c4",
   "metadata": {},
   "outputs": [],
   "source": []
  }
 ],
 "metadata": {
  "kernelspec": {
   "display_name": "Python (data_env)",
   "language": "python",
   "name": "data_env"
  },
  "language_info": {
   "codemirror_mode": {
    "name": "ipython",
    "version": 3
   },
   "file_extension": ".py",
   "mimetype": "text/x-python",
   "name": "python",
   "nbconvert_exporter": "python",
   "pygments_lexer": "ipython3",
   "version": "3.10.0"
  }
 },
 "nbformat": 4,
 "nbformat_minor": 5
}
