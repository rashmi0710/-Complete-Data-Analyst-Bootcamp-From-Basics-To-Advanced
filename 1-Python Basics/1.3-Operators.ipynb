{
 "cells": [
  {
   "cell_type": "markdown",
   "id": "69a0ca44",
   "metadata": {},
   "source": [
    "\n",
    "Python divides the operators in the following groups:\n",
    "\n",
    " Arithmetic operators, Assignment operators, Comparison operators, Logical operators, Identity operators, Membership operators, Bitwise operators\n"
   ]
  },
  {
   "cell_type": "markdown",
   "id": "968c92f7",
   "metadata": {},
   "source": [
    "#Arithmetic operators"
   ]
  },
  {
   "cell_type": "code",
   "execution_count": 1,
   "id": "7a2c769a",
   "metadata": {},
   "outputs": [
    {
     "name": "stdout",
     "output_type": "stream",
     "text": [
      "Addition (a + b): 14\n",
      "Subtraction (a - b): -4\n",
      "Multiplication (a * b): 45\n",
      "Division (a / b): 0.5555555555555556\n",
      "Floor Division (a // b): 0\n",
      "Modulus (a % b): 5\n",
      "Exponentiation (a ** b): 1953125\n"
     ]
    }
   ],
   "source": [
    "# Program to demonstrate all arithmetic operators\n",
    "\n",
    "# Taking input from the user\n",
    "a = 5\n",
    "b = 9\n",
    "\n",
    "# Addition\n",
    "print(\"Addition (a + b):\", a + b)\n",
    "\n",
    "# Subtraction\n",
    "print(\"Subtraction (a - b):\", a - b)\n",
    "\n",
    "# Multiplication\n",
    "print(\"Multiplication (a * b):\", a * b)\n",
    "\n",
    "# Division (floating point)\n",
    "print(\"Division (a / b):\", a / b)\n",
    "\n",
    "# Floor Division (quotient without remainder)\n",
    "print(\"Floor Division (a // b):\", a // b)\n",
    "\n",
    "# Modulus (remainder)\n",
    "print(\"Modulus (a % b):\", a % b)\n",
    "\n",
    "# Exponentiation (power)\n",
    "print(\"Exponentiation (a ** b):\", a ** b)\n"
   ]
  },
  {
   "cell_type": "markdown",
   "id": "52cf5259",
   "metadata": {},
   "source": [
    "#Assignment operators"
   ]
  },
  {
   "cell_type": "code",
   "execution_count": 3,
   "id": "d3470719",
   "metadata": {},
   "outputs": [
    {
     "name": "stdout",
     "output_type": "stream",
     "text": [
      "c = 5\n",
      "c += b -> 14\n",
      "c -= b -> 5\n",
      "c *= b -> 45\n",
      "c /= b -> 5.0\n",
      "c %= b -> 5.0\n",
      "c **= b -> 1953125.0\n",
      "c //= b -> 217013.0\n"
     ]
    }
   ],
   "source": [
    "c = a\n",
    "print(\"c =\", c)\n",
    "c += b\n",
    "print(\"c += b ->\", c)\n",
    "c -= b\n",
    "print(\"c -= b ->\", c)\n",
    "c *= b\n",
    "print(\"c *= b ->\", c)\n",
    "c /= b\n",
    "print(\"c /= b ->\", c)\n",
    "c %= b\n",
    "print(\"c %= b ->\", c)\n",
    "c **= b\n",
    "print(\"c **= b ->\", c)\n",
    "c //= b\n",
    "print(\"c //= b ->\", c)"
   ]
  },
  {
   "cell_type": "markdown",
   "id": "3e0faf2b",
   "metadata": {},
   "source": [
    "Comparison Operators"
   ]
  },
  {
   "cell_type": "code",
   "execution_count": 5,
   "id": "9015bcc7",
   "metadata": {},
   "outputs": [
    {
     "name": "stdout",
     "output_type": "stream",
     "text": [
      "a == b: False\n",
      "a != b: True\n",
      "a > b: True\n",
      "a < b: False\n",
      "a >= b: True\n",
      "a <= b: False\n"
     ]
    }
   ],
   "source": [
    "a = 9 \n",
    "b = 6\n",
    "print(\"a == b:\", a == b)\n",
    "print(\"a != b:\", a != b)\n",
    "print(\"a > b:\", a > b)\n",
    "print(\"a < b:\", a < b)\n",
    "print(\"a >= b:\", a >= b)\n",
    "print(\"a <= b:\", a <= b)"
   ]
  },
  {
   "cell_type": "markdown",
   "id": "486d32ec",
   "metadata": {},
   "source": [
    "Logical operators"
   ]
  },
  {
   "cell_type": "code",
   "execution_count": 6,
   "id": "d9194db7",
   "metadata": {},
   "outputs": [
    {
     "name": "stdout",
     "output_type": "stream",
     "text": [
      "x and y: False\n",
      "x or y: True\n",
      "not x: False\n"
     ]
    }
   ],
   "source": [
    "x = True\n",
    "y = False\n",
    "print(\"x and y:\", x and y)\n",
    "print(\"x or y:\", x or y)\n",
    "print(\"not x:\", not x)"
   ]
  },
  {
   "cell_type": "markdown",
   "id": "152f922d",
   "metadata": {},
   "source": [
    "Identity Operators"
   ]
  },
  {
   "cell_type": "code",
   "execution_count": 7,
   "id": "7589e491",
   "metadata": {},
   "outputs": [
    {
     "name": "stdout",
     "output_type": "stream",
     "text": [
      "a is b: False\n",
      "a is not b: True\n"
     ]
    }
   ],
   "source": [
    "print(\"a is b:\", a is b)\n",
    "print(\"a is not b:\", a is not b)"
   ]
  },
  {
   "cell_type": "markdown",
   "id": "ef565e09",
   "metadata": {},
   "source": [
    "Membership Operators"
   ]
  },
  {
   "cell_type": "code",
   "execution_count": 8,
   "id": "20b457de",
   "metadata": {},
   "outputs": [
    {
     "name": "stdout",
     "output_type": "stream",
     "text": [
      "a in my_list: False\n",
      "b not in my_list: True\n"
     ]
    }
   ],
   "source": [
    "my_list = [1, 2, 3, 10]\n",
    "print(\"a in my_list:\", a in my_list)\n",
    "print(\"b not in my_list:\", b not in my_list)"
   ]
  },
  {
   "cell_type": "markdown",
   "id": "7da94a5f",
   "metadata": {},
   "source": [
    "Bitwise Operators"
   ]
  },
  {
   "cell_type": "code",
   "execution_count": 9,
   "id": "b6b3cabf",
   "metadata": {},
   "outputs": [
    {
     "name": "stdout",
     "output_type": "stream",
     "text": [
      "a & b = 0\n",
      "a | b = 15\n",
      "a ^ b = 15\n",
      "~a = -10\n",
      "a << 1 = 18\n",
      "a >> 1 = 4\n"
     ]
    }
   ],
   "source": [
    "print(\"a & b =\", a & b)   # AND\n",
    "print(\"a | b =\", a | b)   # OR\n",
    "print(\"a ^ b =\", a ^ b)   # XOR\n",
    "print(\"~a =\", ~a)         # NOT\n",
    "print(\"a << 1 =\", a << 1) # Left shift\n",
    "print(\"a >> 1 =\", a >> 1) # Right shift\n"
   ]
  }
 ],
 "metadata": {
  "kernelspec": {
   "display_name": "Python (data_env)",
   "language": "python",
   "name": "data_env"
  },
  "language_info": {
   "codemirror_mode": {
    "name": "ipython",
    "version": 3
   },
   "file_extension": ".py",
   "mimetype": "text/x-python",
   "name": "python",
   "nbconvert_exporter": "python",
   "pygments_lexer": "ipython3",
   "version": "3.10.0"
  }
 },
 "nbformat": 4,
 "nbformat_minor": 5
}
