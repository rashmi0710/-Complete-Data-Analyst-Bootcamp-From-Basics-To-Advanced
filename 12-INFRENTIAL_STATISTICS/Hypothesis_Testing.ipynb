{
 "cells": [
  {
   "cell_type": "markdown",
   "id": "9d44b615",
   "metadata": {},
   "source": [
    "## Inferential Statistics\n",
    "\n",
    "**Inferential statistics** is a branch of statistics that allows researchers to make **predictions or inferences** about a larger population based on a **smaller sample**.  \n",
    "It is widely used in fields like **science, business, economics, and social sciences**, where decisions are made based on sample data rather than studying the entire population.\n",
    "\n",
    "---\n",
    "\n",
    "### Hypothesis Testing\n",
    "\n",
    "Steps involved in hypothesis testing:\n",
    "\n",
    "1. **State the Null Hypothesis (H₀):**  \n",
    "   This is the assumption you begin with — usually a statement of **no difference** or **no effect**.\n",
    "\n",
    "2. **State the Alternative Hypothesis (H₁):**  \n",
    "   This is the **opposite of the null hypothesis**, representing what you aim to prove.\n",
    "\n",
    "3. **Perform Experiment / Statistical Analysis:**  \n",
    "   Conduct experiments or apply statistical tests on the sample data to evaluate the hypotheses.\n",
    "\n",
    "4. **Make a Decision:**  \n",
    "   Based on the test results, **accept or reject the null hypothesis (H₀)**.\n",
    "\n",
    "---\n",
    "\n",
    "### Example\n",
    "\n",
    "> **Question:**  \n",
    "> A college in District A claims that its average pass percentage of students is **85%**.  \n",
    "> A new college opened in the same district, and a **sample of 100 students** showed a **pass percentage of 90%** with a **standard deviation of 4%**.  \n",
    "> Does the new college have a significantly different pass percentage?\n",
    "\n",
    "---\n",
    "\n",
    "### Step 1: Null Hypothesis (H₀)\n",
    "There is **no significant difference** between the pass percentage of the new college and the district average.  \n",
    "\\[\n",
    "H₀: \\mu = 85\\%\n",
    "\\]\n",
    "\n",
    "### Step 2: Alternative Hypothesis (H₁)\n",
    "There **is a significant difference** between the pass percentage of the new college and the district average.  \n",
    "\\[\n",
    "H₁: \\mu \\neq 85\\%\n",
    "\\]\n",
    "\n",
    "---"
   ]
  },
  {
   "cell_type": "markdown",
   "id": "660e2229",
   "metadata": {},
   "source": []
  }
 ],
 "metadata": {
  "kernelspec": {
   "display_name": "data_env",
   "language": "python",
   "name": "python3"
  },
  "language_info": {
   "name": "python",
   "version": "3.10.0"
  }
 },
 "nbformat": 4,
 "nbformat_minor": 5
}
