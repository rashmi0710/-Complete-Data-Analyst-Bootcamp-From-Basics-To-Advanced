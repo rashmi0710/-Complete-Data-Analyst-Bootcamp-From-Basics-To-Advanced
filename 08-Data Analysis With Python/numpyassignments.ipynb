{
 "cells": [
  {
   "cell_type": "markdown",
   "metadata": {},
   "source": [
    "# Module: NumPy Assignments\n",
    "## Lesson: NumPy\n",
    "### Assignment 1: Array Creation and Manipulation\n",
    "\n",
    "1. Create a NumPy array of shape (5, 5) filled with random integers between 1 and 20. Replace all the elements in the third column with 1.\n",
    "2. Create a NumPy array of shape (4, 4) with values from 1 to 16. Replace the diagonal elements with 0.\n",
    "\n",
    "### Assignment 2: Array Indexing and Slicing\n",
    "\n",
    "1. Create a NumPy array of shape (6, 6) with values from 1 to 36. Extract the sub-array consisting of the 3rd to 5th rows and 2nd to 4th columns.\n",
    "2. Create a NumPy array of shape (5, 5) with random integers. Extract the elements on the border.\n",
    "\n",
    "### Assignment 3: Array Operations\n",
    "\n",
    "1. Create two NumPy arrays of shape (3, 4) filled with random integers. Perform element-wise addition, subtraction, multiplication, and division.\n",
    "2. Create a NumPy array of shape (4, 4) with values from 1 to 16. Compute the row-wise and column-wise sum.\n",
    "\n",
    "### Assignment 4: Statistical Operations\n",
    "\n",
    "1. Create a NumPy array of shape (5, 5) filled with random integers. Compute the mean, median, standard deviation, and variance of the array.\n",
    "2. Create a NumPy array of shape (3, 3) with values from 1 to 9. Normalize the array (i.e., scale the values to have a mean of 0 and a standard deviation of 1).\n",
    "\n",
    "### Assignment 5: Broadcasting\n",
    "\n",
    "1. Create a NumPy array of shape (3, 3) filled with random integers. Add a 1D array of shape (3,) to each row of the 2D array using broadcasting.\n",
    "2. Create a NumPy array of shape (4, 4) filled with random integers. Subtract a 1D array of shape (4,) from each column of the 2D array using broadcasting.\n",
    "\n",
    "### Assignment 6: Linear Algebra\n",
    "\n",
    "1. Create a NumPy array of shape (3, 3) representing a matrix. Compute its determinant, inverse, and eigenvalues.\n",
    "2. Create two NumPy arrays of shape (2, 3) and (3, 2). Perform matrix multiplication on these arrays.\n",
    "\n",
    "### Assignment 7: Advanced Array Manipulation\n",
    "\n",
    "1. Create a NumPy array of shape (3, 3) with values from 1 to 9. Reshape the array to shape (1, 9) and then to shape (9, 1).\n",
    "2. Create a NumPy array of shape (5, 5) filled with random integers. Flatten the array and then reshape it back to (5, 5).\n",
    "\n",
    "### Assignment 8: Fancy Indexing and Boolean Indexing\n",
    "\n",
    "1. Create a NumPy array of shape (5, 5) filled with random integers. Use fancy indexing to extract the elements at the corners of the array.\n",
    "2. Create a NumPy array of shape (4, 4) filled with random integers. Use boolean indexing to set all elements greater than 10 to 10.\n",
    "\n",
    "### Assignment 9: Structured Arrays\n",
    "\n",
    "1. Create a structured array with fields 'name' (string), 'age' (integer), and 'weight' (float). Add some data and sort the array by age.\n",
    "2. Create a structured array with fields 'x' and 'y' (both integers). Add some data and compute the Euclidean distance between each pair of points.\n",
    "\n",
    "### Assignment 10: Masked Arrays\n",
    "\n",
    "1. Create a masked array of shape (4, 4) with random integers and mask the elements greater than 10. Compute the sum of the unmasked elements.\n",
    "2. Create a masked array of shape (3, 3) with random integers and mask the diagonal elements. Replace the masked elements with the mean of the unmasked elements."
   ]
  },
  {
   "cell_type": "code",
   "execution_count": 1,
   "id": "1180d7bd",
   "metadata": {},
   "outputs": [],
   "source": [
    "import numpy as np"
   ]
  },
  {
   "cell_type": "code",
   "execution_count": 6,
   "metadata": {},
   "outputs": [
    {
     "data": {
      "text/plain": [
       "array([[ 9, 13,  9, 11, 17],\n",
       "       [19, 15, 14, 19,  1],\n",
       "       [11, 12,  9,  8,  2],\n",
       "       [ 0,  4,  4, 15,  1],\n",
       "       [ 7, 14, 15,  4,  3]], dtype=int32)"
      ]
     },
     "execution_count": 6,
     "metadata": {},
     "output_type": "execute_result"
    }
   ],
   "source": [
    "# 1. Create a NumPy array of shape (5, 5) filled with random integers between 1 and 20. Replace all the elements in the third column with 1.\n",
    "# 2. Create a NumPy array of shape (4, 4) with values from 1 to 16. Replace the diagonal elements with 0.\n",
    "arr1 = np.random.randint(20,size=(5,5))\n",
    "arr1\n"
   ]
  },
  {
   "cell_type": "code",
   "execution_count": 7,
   "id": "b149bb36",
   "metadata": {},
   "outputs": [
    {
     "data": {
      "text/plain": [
       "array([[ 9, 13,  9,  1, 17],\n",
       "       [19, 15, 14,  1,  1],\n",
       "       [11, 12,  9,  1,  2],\n",
       "       [ 0,  4,  4,  1,  1],\n",
       "       [ 7, 14, 15,  1,  3]], dtype=int32)"
      ]
     },
     "execution_count": 7,
     "metadata": {},
     "output_type": "execute_result"
    }
   ],
   "source": [
    "arr1[0:,3] = 1\n",
    "arr1"
   ]
  },
  {
   "cell_type": "code",
   "execution_count": 12,
   "id": "eacbab5c",
   "metadata": {},
   "outputs": [
    {
     "data": {
      "text/plain": [
       "array([[ 0, 15,  1,  9],\n",
       "       [ 1,  0,  1,  2],\n",
       "       [ 0,  4,  0, 10],\n",
       "       [13,  0, 14,  0]], dtype=int32)"
      ]
     },
     "execution_count": 12,
     "metadata": {},
     "output_type": "execute_result"
    }
   ],
   "source": [
    "arr2 = np.random.randint(16,size=(4,4))\n",
    "np.fill_diagonal(arr2, 0)\n",
    "arr2"
   ]
  },
  {
   "cell_type": "markdown",
   "id": "03dd7215",
   "metadata": {},
   "source": [
    "## Assignment 2\n",
    "1. Create a NumPy array of shape (6, 6) with values from 1 to 36. Extract the sub-array consisting of the 3rd to 5th rows and 2nd to 4th columns.\n",
    "2. Create a NumPy array of shape (5, 5) with random integers. Extract the elements on the border."
   ]
  },
  {
   "cell_type": "code",
   "execution_count": 16,
   "id": "9ce79683",
   "metadata": {},
   "outputs": [
    {
     "data": {
      "text/plain": [
       "array([[ 1,  2,  3,  4,  5,  6],\n",
       "       [ 7,  8,  9, 10, 11, 12],\n",
       "       [13, 14, 15, 16, 17, 18],\n",
       "       [19, 20, 21, 22, 23, 24],\n",
       "       [25, 26, 27, 28, 29, 30],\n",
       "       [31, 32, 33, 34, 35, 36]])"
      ]
     },
     "execution_count": 16,
     "metadata": {},
     "output_type": "execute_result"
    }
   ],
   "source": [
    "arr3 = np.arange(1,37).reshape(6,6)\n",
    "arr3"
   ]
  },
  {
   "cell_type": "code",
   "execution_count": 17,
   "id": "3983eb8a",
   "metadata": {},
   "outputs": [
    {
     "name": "stdout",
     "output_type": "stream",
     "text": [
      "[[14 15 16]\n",
      " [20 21 22]\n",
      " [26 27 28]]\n"
     ]
    }
   ],
   "source": [
    "print(arr3[2:5,1:4])"
   ]
  },
  {
   "cell_type": "code",
   "execution_count": 18,
   "id": "a3610383",
   "metadata": {},
   "outputs": [
    {
     "name": "stdout",
     "output_type": "stream",
     "text": [
      "Original Array:\n",
      " [[26 62 33 43 78]\n",
      " [63 76  9 64 81]\n",
      " [80 39 79 70  6]\n",
      " [32 45 69 75 53]\n",
      " [77 77 40 46 37]]\n"
     ]
    }
   ],
   "source": [
    "arr4 = np.random.randint(1, 100, (5, 5))\n",
    "print(\"Original Array:\\n\", arr4)"
   ]
  },
  {
   "cell_type": "code",
   "execution_count": 23,
   "id": "440e2b5a",
   "metadata": {},
   "outputs": [],
   "source": [
    "border_element = np.concatenate([arr4[0, :], arr4[-1, :], arr4[1:-1,0], arr4[1:-1,-1]]\n",
    ")"
   ]
  },
  {
   "cell_type": "code",
   "execution_count": 24,
   "id": "40b2a813",
   "metadata": {},
   "outputs": [
    {
     "name": "stdout",
     "output_type": "stream",
     "text": [
      "[26 62 33 43 78 77 77 40 46 37 63 80 32 81  6 53]\n"
     ]
    }
   ],
   "source": [
    "print(border_element)"
   ]
  },
  {
   "cell_type": "markdown",
   "id": "edbb1db9",
   "metadata": {},
   "source": [
    "### Assignment 3: Array Operations\n",
    "\n",
    "1. Create two NumPy arrays of shape (3, 4) filled with random integers. Perform element-wise addition, subtraction, multiplication, and division.\n",
    "2. Create a NumPy array of shape (4, 4) with values from 1 to 16. Compute the row-wise and column-wise sum."
   ]
  },
  {
   "cell_type": "code",
   "execution_count": null,
   "id": "b3818ea7",
   "metadata": {},
   "outputs": [
    {
     "data": {
      "text/plain": [
       "array([[94, 42, 80,  3],\n",
       "       [75, 37, 34, 92],\n",
       "       [ 2, 80,  5, 26]], dtype=int32)"
      ]
     },
     "execution_count": 26,
     "metadata": {},
     "output_type": "execute_result"
    }
   ],
   "source": [
    "arr5 = np.random.randint(1, 100, (3,4))\n",
    "arr6 = np.random.randint(1, 100, (3,4))\n",
    "print(arr5)\n",
    "print(arr6)"
   ]
  },
  {
   "cell_type": "code",
   "execution_count": 28,
   "id": "18779ce8",
   "metadata": {},
   "outputs": [
    {
     "name": "stdout",
     "output_type": "stream",
     "text": [
      "ADDITION:\n",
      " [[154  51 179   9]\n",
      " [174 114  87  93]\n",
      " [ 90 114  60 124]]\n",
      "SUBSTRACTION:\n",
      " [[ 34  33 -19  -3]\n",
      " [-24 -40 -19  91]\n",
      " [-86  46 -50 -72]]\n",
      "MULTIPLICATION:\n",
      " [[5640  378 7920   18]\n",
      " [7425 2849 1802   92]\n",
      " [ 176 2720  275 2548]]\n",
      "DIVISION:\n",
      " [[1.56666667e+00 4.66666667e+00 8.08080808e-01 5.00000000e-01]\n",
      " [7.57575758e-01 4.80519481e-01 6.41509434e-01 9.20000000e+01]\n",
      " [2.27272727e-02 2.35294118e+00 9.09090909e-02 2.65306122e-01]]\n"
     ]
    }
   ],
   "source": [
    "arr_Addition = arr5 + arr6\n",
    "arr_Substraction = arr5 - arr6\n",
    "arr_Multiplication = arr5 * arr6\n",
    "arr_Divison = arr5 / arr6\n",
    "\n",
    "print('ADDITION:\\n',arr_Addition)\n",
    "print('SUBSTRACTION:\\n',arr_Substraction)\n",
    "print('MULTIPLICATION:\\n',arr_Multiplication)\n",
    "print('DIVISION:\\n',arr_Divison)"
   ]
  },
  {
   "cell_type": "code",
   "execution_count": 29,
   "id": "866bd33a",
   "metadata": {},
   "outputs": [
    {
     "data": {
      "text/plain": [
       "array([[ 1,  2,  3,  4],\n",
       "       [ 5,  6,  7,  8],\n",
       "       [ 9, 10, 11, 12],\n",
       "       [13, 14, 15, 16]])"
      ]
     },
     "execution_count": 29,
     "metadata": {},
     "output_type": "execute_result"
    }
   ],
   "source": [
    "arr7 = np.arange(1,17).reshape(4,4)\n",
    "arr7"
   ]
  },
  {
   "cell_type": "code",
   "execution_count": 33,
   "id": "3751cd46",
   "metadata": {},
   "outputs": [
    {
     "name": "stdout",
     "output_type": "stream",
     "text": [
      "10\n",
      "26\n",
      "42\n",
      "58\n"
     ]
    }
   ],
   "source": [
    "print(arr7[0, :].sum())\n",
    "print(arr7[1, :].sum())\n",
    "print(arr7[2, :].sum())\n",
    "print(arr7[3, :].sum())"
   ]
  },
  {
   "cell_type": "code",
   "execution_count": 35,
   "id": "63fc082e",
   "metadata": {},
   "outputs": [
    {
     "name": "stdout",
     "output_type": "stream",
     "text": [
      "28\n",
      "32\n",
      "36\n",
      "40\n"
     ]
    }
   ],
   "source": [
    "print(arr7[:, 0].sum())\n",
    "print(arr7[:, 1].sum())\n",
    "print(arr7[:, 2].sum())\n",
    "print(arr7[:, 3].sum())"
   ]
  },
  {
   "cell_type": "code",
   "execution_count": 36,
   "id": "9fb64c7a",
   "metadata": {},
   "outputs": [
    {
     "name": "stdout",
     "output_type": "stream",
     "text": [
      "Column-wise Sum: [28 32 36 40]\n"
     ]
    }
   ],
   "source": [
    "col_sum = np.sum(arr7, axis=0)\n",
    "print(\"Column-wise Sum:\", col_sum)\n"
   ]
  },
  {
   "cell_type": "code",
   "execution_count": 38,
   "id": "d586ab0e",
   "metadata": {},
   "outputs": [
    {
     "name": "stdout",
     "output_type": "stream",
     "text": [
      "Row-wise Sum: [10 26 42 58]\n"
     ]
    }
   ],
   "source": [
    "row_sum = np.sum(arr7, axis=1)\n",
    "print(\"Row-wise Sum:\", row_sum)\n"
   ]
  },
  {
   "cell_type": "markdown",
   "id": "4439f478",
   "metadata": {},
   "source": [
    "### Assignment 4: Statistical Operations\n",
    "\n",
    "1. Create a NumPy array of shape (5, 5) filled with random integers. Compute the mean, median, standard deviation, and variance of the array.\n",
    "2. Create a NumPy array of shape (3, 3) with values from 1 to 9. Normalize the array (i.e., scale the values to have a mean of 0 and a standard deviation of 1)."
   ]
  },
  {
   "cell_type": "code",
   "execution_count": null,
   "id": "e06f2fc1",
   "metadata": {},
   "outputs": [
    {
     "name": "stdout",
     "output_type": "stream",
     "text": [
      "ARRAY:\n",
      " [[28 49 80 59 85]\n",
      " [35  9 18 61 22]\n",
      " [26 59 69 95 19]\n",
      " [16 44 44 94 87]\n",
      " [15 33  2 15 88]]\n",
      "MEAN:\n",
      " 46.08\n"
     ]
    }
   ],
   "source": [
    "arr8 = np.random.randint(1, 100, (5,5))\n",
    "print('ARRAY:\\n',arr8)\n"
   ]
  },
  {
   "cell_type": "code",
   "execution_count": 50,
   "id": "7d3e1303",
   "metadata": {},
   "outputs": [
    {
     "name": "stdout",
     "output_type": "stream",
     "text": [
      "MEAN:\n",
      " 46.08\n",
      "STANDARD DEVIATION:\n",
      " 29.09696891430446\n",
      "VARIENCE:\n",
      " 846.6336\n"
     ]
    }
   ],
   "source": [
    "print('MEAN:\\n',np.mean(arr8))\n",
    "print('STANDARD DEVIATION:\\n',np.std(arr8))\n",
    "print('VARIENCE:\\n',np.var(arr8))"
   ]
  },
  {
   "cell_type": "code",
   "execution_count": 52,
   "id": "34a184e2",
   "metadata": {},
   "outputs": [
    {
     "data": {
      "text/plain": [
       "array([[4, 8, 6],\n",
       "       [5, 1, 5],\n",
       "       [7, 4, 4]], dtype=int32)"
      ]
     },
     "execution_count": 52,
     "metadata": {},
     "output_type": "execute_result"
    }
   ],
   "source": [
    "arr9 = np.random.randint(1, 10, (3,3))\n",
    "arr9"
   ]
  },
  {
   "cell_type": "code",
   "execution_count": 53,
   "id": "8f6014bf",
   "metadata": {},
   "outputs": [
    {
     "name": "stdout",
     "output_type": "stream",
     "text": [
      "normalized data: \n",
      " [[-0.46499055  1.62746694  0.58123819]\n",
      " [ 0.05812382 -2.03433368  0.05812382]\n",
      " [ 1.10435257 -0.46499055 -0.46499055]]\n"
     ]
    }
   ],
   "source": [
    "mean = np.mean(arr9)\n",
    "standard_deviation = np.std(arr9)\n",
    "\n",
    "normalized_data = (arr9 - mean)/ standard_deviation\n",
    "print(\"normalized data: \\n\", normalized_data)"
   ]
  },
  {
   "cell_type": "markdown",
   "id": "17406c95",
   "metadata": {},
   "source": [
    "### Assignment 5: Broadcasting\n",
    "\n",
    "1. Create a NumPy array of shape (3, 3) filled with random integers. Add a 1D array of shape (3,) to each row of the 2D array using broadcasting.\n",
    "2. Create a NumPy array of shape (4, 4) filled with random integers. Subtract a 1D array of shape (4,) from each column of the 2D array using broadcasting."
   ]
  },
  {
   "cell_type": "code",
   "execution_count": null,
   "id": "84c3ec76",
   "metadata": {},
   "outputs": [
    {
     "name": "stdout",
     "output_type": "stream",
     "text": [
      "Original 2D array:\n",
      " [[10  5  8]\n",
      " [ 2  6  9]\n",
      " [ 9  8  7]]\n",
      "1D array to add:\n",
      " [1 2 3]\n",
      "Result after broadcasting addition:\n",
      " [[11  7 11]\n",
      " [ 3  8 12]\n",
      " [10 10 10]]\n"
     ]
    }
   ],
   "source": [
    "\n",
    "# Create a 3x3 array with random integers between 1 and 10\n",
    "arr_2d = np.random.randint(1, 11, size=(3, 3))\n",
    "print(\"Original 2D array:\\n\", arr_2d)\n",
    "\n",
    "# Create a 1D array of shape (3,)\n",
    "arr_1d = np.array([1, 2, 3])\n",
    "print(\"1D array to add:\\n\", arr_1d)\n",
    "\n",
    "# Add 1D array to each row using broadcasting\n",
    "result = arr_2d + arr_1d\n",
    "print(\"Result after broadcasting addition:\\n\", result)\n"
   ]
  },
  {
   "cell_type": "code",
   "execution_count": 55,
   "id": "d647d62e",
   "metadata": {},
   "outputs": [
    {
     "name": "stdout",
     "output_type": "stream",
     "text": [
      "Original 4x4 array:\n",
      " [[10 10  8  8]\n",
      " [ 1  4  2  9]\n",
      " [ 8  6  8  5]\n",
      " [ 2  5  9  8]]\n",
      "1D array to subtract:\n",
      " [1 2 3 4]\n",
      "Result after broadcasting subtraction:\n",
      " [[ 9  9  7  7]\n",
      " [-1  2  0  7]\n",
      " [ 5  3  5  2]\n",
      " [-2  1  5  4]]\n"
     ]
    }
   ],
   "source": [
    "# Create a 4x4 array with random integers between 1 and 10\n",
    "arr_2d_col = np.random.randint(1, 11, size=(4, 4))\n",
    "print(\"Original 4x4 array:\\n\", arr_2d_col)\n",
    "\n",
    "# Create a 1D array of shape (4,)\n",
    "arr_1d_col = np.array([1, 2, 3, 4])\n",
    "print(\"1D array to subtract:\\n\", arr_1d_col)\n",
    "\n",
    "# Subtract 1D array from each column using broadcasting\n",
    "result_col = arr_2d_col - arr_1d_col.reshape(-1, 1)  # reshape to (4,1)\n",
    "print(\"Result after broadcasting subtraction:\\n\", result_col)\n"
   ]
  },
  {
   "cell_type": "markdown",
   "id": "8341d02e",
   "metadata": {},
   "source": [
    "### Assignment 6: Linear Algebra\n",
    "\n",
    "1. Create a NumPy array of shape (3, 3) representing a matrix. Compute its determinant, inverse, and eigenvalues.\n",
    "2. Create two NumPy arrays of shape (2, 3) and (3, 2). Perform matrix multiplication on these arrays."
   ]
  },
  {
   "cell_type": "code",
   "execution_count": 56,
   "id": "896916ba",
   "metadata": {},
   "outputs": [
    {
     "name": "stdout",
     "output_type": "stream",
     "text": [
      "Matrix:\n",
      " [[10  6 10]\n",
      " [ 4  7 10]\n",
      " [ 3  6  5]]\n",
      "\n",
      "Determinant: -159.99999999999994\n",
      "\n",
      "Inverse:\n",
      " [[ 0.15625 -0.1875   0.0625 ]\n",
      " [-0.0625  -0.125    0.375  ]\n",
      " [-0.01875  0.2625  -0.2875 ]]\n",
      "\n",
      "Eigenvalues:\n",
      " [19.47250169  4.39644402 -1.86894571]\n"
     ]
    }
   ],
   "source": [
    "# Create a 3x3 matrix with random integers between 1 and 10\n",
    "matrix = np.random.randint(1, 11, size=(3, 3))\n",
    "print(\"Matrix:\\n\", matrix)\n",
    "\n",
    "# Compute determinant\n",
    "det = np.linalg.det(matrix)\n",
    "print(\"\\nDeterminant:\", det)\n",
    "\n",
    "# Compute inverse (only if determinant is not zero)\n",
    "if det != 0:\n",
    "    inv = np.linalg.inv(matrix)\n",
    "    print(\"\\nInverse:\\n\", inv)\n",
    "else:\n",
    "    print(\"\\nMatrix is singular, inverse does not exist.\")\n",
    "\n",
    "# Compute eigenvalues\n",
    "eigvals = np.linalg.eigvals(matrix)\n",
    "print(\"\\nEigenvalues:\\n\", eigvals)\n"
   ]
  },
  {
   "cell_type": "code",
   "execution_count": 57,
   "id": "988b0c93",
   "metadata": {},
   "outputs": [
    {
     "name": "stdout",
     "output_type": "stream",
     "text": [
      "Matrix A (2x3):\n",
      " [[8 2 7]\n",
      " [6 9 4]]\n",
      "\n",
      "Matrix B (3x2):\n",
      " [[6 5]\n",
      " [2 7]\n",
      " [3 8]]\n",
      "\n",
      "Result of A x B (2x2):\n",
      " [[ 73 110]\n",
      " [ 66 125]]\n"
     ]
    }
   ],
   "source": [
    "# Create two arrays\n",
    "A = np.random.randint(1, 11, size=(2, 3))\n",
    "B = np.random.randint(1, 11, size=(3, 2))\n",
    "\n",
    "print(\"Matrix A (2x3):\\n\", A)\n",
    "print(\"\\nMatrix B (3x2):\\n\", B)\n",
    "\n",
    "# Perform matrix multiplication\n",
    "C = np.matmul(A, B)  # or A @ B\n",
    "print(\"\\nResult of A x B (2x2):\\n\", C)\n"
   ]
  },
  {
   "cell_type": "markdown",
   "id": "714a70de",
   "metadata": {},
   "source": [
    "### Assignment 7: Advanced Array Manipulation\n",
    "\n",
    "1. Create a NumPy array of shape (3, 3) with values from 1 to 9. Reshape the array to shape (1, 9) and then to shape (9, 1).\n",
    "2. Create a NumPy array of shape (5, 5) filled with random integers. Flatten the array and then reshape it back to (5, 5)."
   ]
  },
  {
   "cell_type": "code",
   "execution_count": 61,
   "id": "7ddddadc",
   "metadata": {},
   "outputs": [
    {
     "name": "stdout",
     "output_type": "stream",
     "text": [
      "Original array:\n",
      " [[1 2 3]\n",
      " [4 5 6]\n",
      " [7 8 9]]\n",
      "\n",
      "Reshaped to (1, 9):\n",
      " [[1 2 3 4 5 6 7 8 9]]\n",
      "\n",
      "Reshaped to (9, 1):\n",
      " [[1]\n",
      " [2]\n",
      " [3]\n",
      " [4]\n",
      " [5]\n",
      " [6]\n",
      " [7]\n",
      " [8]\n",
      " [9]]\n"
     ]
    }
   ],
   "source": [
    "# Create array from 1 to 9\n",
    "arr10 = np.arange(1, 10).reshape(3, 3)\n",
    "print(\"Original array:\\n\", arr10)\n",
    "\n",
    "# Reshape to (1, 9)\n",
    "arr_row = arr10.reshape(1, 9)\n",
    "print(\"\\nReshaped to (1, 9):\\n\", arr_row)\n",
    "\n",
    "# Reshape to (9, 1)\n",
    "arr_col = arr10.reshape(9, 1)\n",
    "print(\"\\nReshaped to (9, 1):\\n\", arr_col)\n"
   ]
  },
  {
   "cell_type": "code",
   "execution_count": 60,
   "id": "94acd048",
   "metadata": {},
   "outputs": [
    {
     "name": "stdout",
     "output_type": "stream",
     "text": [
      "\n",
      "Original 5x5 array:\n",
      " [[12  8 17 14 10]\n",
      " [20  2  6 11  6]\n",
      " [ 4  3  6 16 10]\n",
      " [13 19 12 10  4]\n",
      " [ 8 12  6  4 17]]\n",
      "\n",
      "Flattened array:\n",
      " [12  8 17 14 10 20  2  6 11  6  4  3  6 16 10 13 19 12 10  4  8 12  6  4\n",
      " 17]\n",
      "\n",
      "Reshaped back to (5,5):\n",
      " [[12  8 17 14 10]\n",
      " [20  2  6 11  6]\n",
      " [ 4  3  6 16 10]\n",
      " [13 19 12 10  4]\n",
      " [ 8 12  6  4 17]]\n"
     ]
    }
   ],
   "source": [
    "arr11 = np.random.randint(1, 21, size=(5, 5))\n",
    "print(\"\\nOriginal 5x5 array:\\n\", arr11)\n",
    "\n",
    "# Flatten\n",
    "flat = arr11.flatten()\n",
    "print(\"\\nFlattened array:\\n\", flat)\n",
    "\n",
    "# Reshape back to (5,5)\n",
    "reshaped = flat.reshape(5, 5)\n",
    "print(\"\\nReshaped back to (5,5):\\n\", reshaped)\n"
   ]
  },
  {
   "cell_type": "markdown",
   "id": "7a7bc687",
   "metadata": {},
   "source": [
    "### Assignment 8: Fancy Indexing and Boolean Indexing\n",
    "\n",
    "1. Create a NumPy array of shape (5, 5) filled with random integers. Use fancy indexing to extract the elements at the corners of the array.\n",
    "2. Create a NumPy array of shape (4, 4) filled with random integers. Use boolean indexing to set all elements greater than 10 to 10."
   ]
  },
  {
   "cell_type": "code",
   "execution_count": 62,
   "id": "7e611b10",
   "metadata": {},
   "outputs": [
    {
     "name": "stdout",
     "output_type": "stream",
     "text": [
      "\n",
      "5x5 Array:\n",
      " [[ 2  9 20 11  3]\n",
      " [19  6  7  6 20]\n",
      " [ 9  3  7 19 11]\n",
      " [13 20  3 11 20]\n",
      " [10  2 13 18  2]]\n",
      "\n",
      "Corners of the array: [ 2  3 10  2]\n"
     ]
    }
   ],
   "source": [
    "arr12 = np.random.randint(1, 21, size=(5, 5))\n",
    "print(\"\\n5x5 Array:\\n\", arr12)\n",
    "\n",
    "# Corners: top-left, top-right, bottom-left, bottom-right\n",
    "corners = arr12[[0,0,4,4], [0,4,0,4]]\n",
    "print(\"\\nCorners of the array:\", corners)"
   ]
  },
  {
   "cell_type": "code",
   "execution_count": 63,
   "id": "480913fa",
   "metadata": {},
   "outputs": [
    {
     "name": "stdout",
     "output_type": "stream",
     "text": [
      "\n",
      "Original 4x4 array:\n",
      " [[11  5 20 12]\n",
      " [10  7 14  5]\n",
      " [11 17 12  5]\n",
      " [13 13  6 17]]\n",
      "\n",
      "After capping values >10:\n",
      " [[10  5 10 10]\n",
      " [10  7 10  5]\n",
      " [10 10 10  5]\n",
      " [10 10  6 10]]\n"
     ]
    }
   ],
   "source": [
    "arr14 = np.random.randint(5, 21, size=(4, 4))\n",
    "print(\"\\nOriginal 4x4 array:\\n\", arr14)\n",
    "\n",
    "# Set elements greater than 10 to 10\n",
    "arr14[arr14 > 10] = 10\n",
    "print(\"\\nAfter capping values >10:\\n\", arr14)\n"
   ]
  },
  {
   "cell_type": "markdown",
   "id": "b5614226",
   "metadata": {},
   "source": [
    "### Assignment 9: Structured Arrays\n",
    "\n",
    "1. Create a structured array with fields 'name' (string), 'age' (integer), and 'weight' (float). Add some data and sort the array by age.\n",
    "2. Create a structured array with fields 'x' and 'y' (both integers). Add some data and compute the Euclidean distance between each pair of points."
   ]
  },
  {
   "cell_type": "code",
   "execution_count": 64,
   "id": "060e5b97",
   "metadata": {},
   "outputs": [
    {
     "name": "stdout",
     "output_type": "stream",
     "text": [
      "\n",
      "Structured Array:\n",
      " [('Alice', 25, 55. ) ('Bob', 22, 70.5) ('Charlie', 28, 68. )]\n",
      "\n",
      "Sorted by age:\n",
      " [('Bob', 22, 70.5) ('Alice', 25, 55. ) ('Charlie', 28, 68. )]\n"
     ]
    }
   ],
   "source": [
    "# Define structured dtype\n",
    "dtype = [('name', 'U10'), ('age', 'i4'), ('weight', 'f4')]\n",
    "\n",
    "# Create array\n",
    "data = np.array([('Alice', 25, 55.0),\n",
    "                 ('Bob', 22, 70.5),\n",
    "                 ('Charlie', 28, 68.0)], dtype=dtype)\n",
    "\n",
    "print(\"\\nStructured Array:\\n\", data)\n",
    "\n",
    "# Sort by age\n",
    "sorted_by_age = np.sort(data, order='age')\n",
    "print(\"\\nSorted by age:\\n\", sorted_by_age)\n"
   ]
  },
  {
   "cell_type": "code",
   "execution_count": 65,
   "id": "405c4acd",
   "metadata": {},
   "outputs": [
    {
     "name": "stdout",
     "output_type": "stream",
     "text": [
      "\n",
      "Points:\n",
      " [(1, 2) (4, 6) (0, 0)]\n",
      "Distance between point 0 and 1: 5.0\n",
      "Distance between point 0 and 2: 2.23606797749979\n",
      "Distance between point 1 and 2: 7.211102550927978\n"
     ]
    }
   ],
   "source": [
    "dtype_points = [('x', 'i4'), ('y', 'i4')]\n",
    "points = np.array([(1,2), (4,6), (0,0)], dtype=dtype_points)\n",
    "print(\"\\nPoints:\\n\", points)\n",
    "\n",
    "# Compute pairwise Euclidean distances\n",
    "for i in range(len(points)):\n",
    "    for j in range(i+1, len(points)):\n",
    "        dist = np.sqrt((points[i]['x'] - points[j]['x'])**2 + (points[i]['y'] - points[j]['y'])**2)\n",
    "        print(f\"Distance between point {i} and {j}: {dist}\")\n"
   ]
  },
  {
   "cell_type": "markdown",
   "id": "3ce842d7",
   "metadata": {},
   "source": [
    "### Assignment 10: Masked Arrays\n",
    "\n",
    "1. Create a masked array of shape (4, 4) with random integers and mask the elements greater than 10. Compute the sum of the unmasked elements.\n",
    "2. Create a masked array of shape (3, 3) with random integers and mask the diagonal elements. Replace the masked elements with the mean of the unmasked elements."
   ]
  },
  {
   "cell_type": "code",
   "execution_count": 66,
   "id": "459f5cf1",
   "metadata": {},
   "outputs": [
    {
     "name": "stdout",
     "output_type": "stream",
     "text": [
      "\n",
      "Original 4x4 array:\n",
      " [[ 8 17 19 20]\n",
      " [13  7 11  5]\n",
      " [18 20 16 15]\n",
      " [20  9  8 19]]\n",
      "\n",
      "Masked array:\n",
      " [[8 -- -- --]\n",
      " [-- 7 -- 5]\n",
      " [-- -- -- --]\n",
      " [-- 9 8 --]]\n",
      "\n",
      "Sum of unmasked elements: 37\n"
     ]
    }
   ],
   "source": [
    "arr15 = np.random.randint(5, 21, size=(4, 4))\n",
    "print(\"\\nOriginal 4x4 array:\\n\", arr15)\n",
    "\n",
    "masked_arr = np.ma.masked_greater(arr15, 10)\n",
    "print(\"\\nMasked array:\\n\", masked_arr)\n",
    "\n",
    "# Sum of unmasked elements\n",
    "sum_unmasked = masked_arr.sum()\n",
    "print(\"\\nSum of unmasked elements:\", sum_unmasked)\n"
   ]
  },
  {
   "cell_type": "code",
   "execution_count": 67,
   "id": "84f392cc",
   "metadata": {},
   "outputs": [
    {
     "name": "stdout",
     "output_type": "stream",
     "text": [
      "\n",
      "Original 3x3 array:\n",
      " [[18  4  9]\n",
      " [ 7 10 16]\n",
      " [16  1  6]]\n",
      "\n",
      "Masked diagonal array:\n",
      " [[-- 4 9]\n",
      " [7 -- 16]\n",
      " [16 1 --]]\n",
      "\n",
      "Diagonal replaced with mean:\n",
      " [[ 8  4  9]\n",
      " [ 7  8 16]\n",
      " [16  1  8]]\n"
     ]
    }
   ],
   "source": [
    "arr16 = np.random.randint(1, 21, size=(3, 3))\n",
    "print(\"\\nOriginal 3x3 array:\\n\", arr16)\n",
    "\n",
    "masked_diag = np.ma.masked_array(arr16, mask=np.eye(3, dtype=bool))\n",
    "print(\"\\nMasked diagonal array:\\n\", masked_diag)\n",
    "\n",
    "# Mean of unmasked elements\n",
    "mean_unmasked = masked_diag.mean()\n",
    "\n",
    "# Fill masked elements with mean\n",
    "filled = masked_diag.filled(mean_unmasked)\n",
    "print(\"\\nDiagonal replaced with mean:\\n\", filled)\n"
   ]
  },
  {
   "cell_type": "code",
   "execution_count": null,
   "id": "f7e59e5b",
   "metadata": {},
   "outputs": [],
   "source": []
  }
 ],
 "metadata": {
  "kernelspec": {
   "display_name": "data_env",
   "language": "python",
   "name": "python3"
  },
  "language_info": {
   "codemirror_mode": {
    "name": "ipython",
    "version": 3
   },
   "file_extension": ".py",
   "mimetype": "text/x-python",
   "name": "python",
   "nbconvert_exporter": "python",
   "pygments_lexer": "ipython3",
   "version": "3.10.0"
  }
 },
 "nbformat": 4,
 "nbformat_minor": 5
}
