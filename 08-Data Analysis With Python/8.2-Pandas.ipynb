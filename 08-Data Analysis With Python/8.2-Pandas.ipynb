{
 "cells": [
  {
   "cell_type": "markdown",
   "id": "787c8beb",
   "metadata": {},
   "source": [
    "# Pandas-DataFrame And Series"
   ]
  },
  {
   "cell_type": "markdown",
   "id": "cd8f07fd",
   "metadata": {},
   "source": [
    "pandas is a powerful data manipulation librabry in python, widely used for data analytics and data cleaning.It provides two primary data structures : Series and DataFrame. A series is a one-dimensional array-like object, while a DAtaFrame is two-dimensional, size-mutable, and potentially heterogeneous tabular data structure with labeled axes (row and columns)."
   ]
  },
  {
   "cell_type": "code",
   "execution_count": 1,
   "id": "595748bb",
   "metadata": {},
   "outputs": [],
   "source": [
    "import pandas as pd"
   ]
  },
  {
   "cell_type": "markdown",
   "id": "8b1d0400",
   "metadata": {},
   "source": [
    "# Series\n",
    "\n",
    "is a one-dimensional labelled array that can hold data of any type. It is mostly used to represent a single column or row of data."
   ]
  },
  {
   "cell_type": "code",
   "execution_count": 2,
   "id": "57538599",
   "metadata": {},
   "outputs": [
    {
     "name": "stdout",
     "output_type": "stream",
     "text": [
      "series \n",
      " 0    1\n",
      "1    2\n",
      "2    3\n",
      "3    4\n",
      "4    5\n",
      "dtype: int64\n"
     ]
    }
   ],
   "source": [
    "data = [1,2,3,4,5]\n",
    "series=pd.Series(data)\n",
    "print(\"series \\n\", series)"
   ]
  },
  {
   "cell_type": "code",
   "execution_count": 4,
   "id": "93edfed8",
   "metadata": {},
   "outputs": [
    {
     "name": "stdout",
     "output_type": "stream",
     "text": [
      "a    1\n",
      "b    2\n",
      "c    3\n",
      "d    4\n",
      "dtype: int64\n"
     ]
    }
   ],
   "source": [
    "### creating a Series from Dictionary\n",
    "data={'a':1,'b':2,'c':3,'d':4}\n",
    "series_dictionary =pd.Series(data)\n",
    "print(series_dictionary)"
   ]
  },
  {
   "cell_type": "code",
   "execution_count": 5,
   "id": "9a3aa11c",
   "metadata": {},
   "outputs": [
    {
     "data": {
      "text/plain": [
       "a    10\n",
       "b    20\n",
       "c    30\n",
       "dtype: int64"
      ]
     },
     "execution_count": 5,
     "metadata": {},
     "output_type": "execute_result"
    }
   ],
   "source": [
    "data=[10,20,30]\n",
    "indexs=['a','b','c']\n",
    "pd.Series(data,index=indexs)"
   ]
  },
  {
   "cell_type": "markdown",
   "id": "38641a04",
   "metadata": {},
   "source": [
    "## DataFrame"
   ]
  },
  {
   "cell_type": "code",
   "execution_count": 7,
   "id": "eb10a5ad",
   "metadata": {},
   "outputs": [
    {
     "name": "stdout",
     "output_type": "stream",
     "text": [
      "     Name  Age       City\n",
      "0  rashmi   33  Bangalore\n",
      "1    ruhi   56     ranchi\n",
      "2  ragini   39    Bangkok\n",
      "<class 'pandas.core.frame.DataFrame'>\n"
     ]
    }
   ],
   "source": [
    "data = {\n",
    "    'Name':['rashmi','ruhi','ragini'],\n",
    "    'Age':[33,56,39],\n",
    "    'City':['Bangalore','ranchi','Bangkok']\n",
    "\n",
    "}\n",
    "\n",
    "df = pd.DataFrame(data)\n",
    "print(df)\n",
    "print(type(df))"
   ]
  },
  {
   "cell_type": "code",
   "execution_count": 10,
   "id": "f30ca2a9",
   "metadata": {},
   "outputs": [
    {
     "name": "stdout",
     "output_type": "stream",
     "text": [
      "      Name  Age       City\n",
      "0   Rashmi   23  Bangalore\n",
      "1    Nancy   24  Bangalore\n",
      "2     Mahi   23     Mumbai\n",
      "3  Devyani   20     Nagpur\n",
      "<class 'pandas.core.frame.DataFrame'>\n"
     ]
    }
   ],
   "source": [
    "# create a Data frame from a list of dictionaries \n",
    "\n",
    "data = [\n",
    "    {'Name':'Rashmi','Age':23,'City':'Bangalore'},\n",
    "    {'Name':'Nancy','Age':24,'City':'Bangalore'},\n",
    "    {'Name':'Mahi','Age':23,'City':'Mumbai'},\n",
    "    {'Name':'Devyani','Age':20,'City':'Nagpur'}\n",
    "]\n",
    "df_1 = pd.DataFrame(data)\n",
    "print(df_1)\n",
    "print(type(df_1))"
   ]
  },
  {
   "cell_type": "markdown",
   "id": "4bf4d59a",
   "metadata": {},
   "source": [
    "how to read csv using pandas"
   ]
  },
  {
   "cell_type": "code",
   "execution_count": 25,
   "id": "e88c2940",
   "metadata": {},
   "outputs": [
    {
     "data": {
      "text/html": [
       "<div>\n",
       "<style scoped>\n",
       "    .dataframe tbody tr th:only-of-type {\n",
       "        vertical-align: middle;\n",
       "    }\n",
       "\n",
       "    .dataframe tbody tr th {\n",
       "        vertical-align: top;\n",
       "    }\n",
       "\n",
       "    .dataframe thead th {\n",
       "        text-align: right;\n",
       "    }\n",
       "</style>\n",
       "<table border=\"1\" class=\"dataframe\">\n",
       "  <thead>\n",
       "    <tr style=\"text-align: right;\">\n",
       "      <th></th>\n",
       "      <th>Date</th>\n",
       "      <th>Category</th>\n",
       "      <th>Value</th>\n",
       "      <th>Product</th>\n",
       "      <th>Sales</th>\n",
       "      <th>Region</th>\n",
       "    </tr>\n",
       "  </thead>\n",
       "  <tbody>\n",
       "    <tr>\n",
       "      <th>0</th>\n",
       "      <td>2023-01-01</td>\n",
       "      <td>A</td>\n",
       "      <td>28.0</td>\n",
       "      <td>Product1</td>\n",
       "      <td>754.0</td>\n",
       "      <td>East</td>\n",
       "    </tr>\n",
       "    <tr>\n",
       "      <th>1</th>\n",
       "      <td>2023-01-02</td>\n",
       "      <td>B</td>\n",
       "      <td>39.0</td>\n",
       "      <td>Product3</td>\n",
       "      <td>110.0</td>\n",
       "      <td>North</td>\n",
       "    </tr>\n",
       "    <tr>\n",
       "      <th>2</th>\n",
       "      <td>2023-01-03</td>\n",
       "      <td>C</td>\n",
       "      <td>32.0</td>\n",
       "      <td>Product2</td>\n",
       "      <td>398.0</td>\n",
       "      <td>East</td>\n",
       "    </tr>\n",
       "    <tr>\n",
       "      <th>3</th>\n",
       "      <td>2023-01-04</td>\n",
       "      <td>B</td>\n",
       "      <td>8.0</td>\n",
       "      <td>Product1</td>\n",
       "      <td>522.0</td>\n",
       "      <td>East</td>\n",
       "    </tr>\n",
       "    <tr>\n",
       "      <th>4</th>\n",
       "      <td>2023-01-05</td>\n",
       "      <td>B</td>\n",
       "      <td>26.0</td>\n",
       "      <td>Product3</td>\n",
       "      <td>869.0</td>\n",
       "      <td>North</td>\n",
       "    </tr>\n",
       "  </tbody>\n",
       "</table>\n",
       "</div>"
      ],
      "text/plain": [
       "         Date Category  Value   Product  Sales Region\n",
       "0  2023-01-01        A   28.0  Product1  754.0   East\n",
       "1  2023-01-02        B   39.0  Product3  110.0  North\n",
       "2  2023-01-03        C   32.0  Product2  398.0   East\n",
       "3  2023-01-04        B    8.0  Product1  522.0   East\n",
       "4  2023-01-05        B   26.0  Product3  869.0  North"
      ]
     },
     "execution_count": 25,
     "metadata": {},
     "output_type": "execute_result"
    }
   ],
   "source": [
    "df_2 = pd.read_csv('data_1.csv')\n",
    "df_2.head(5)"
   ]
  },
  {
   "cell_type": "markdown",
   "id": "11eb03ef",
   "metadata": {},
   "source": [
    "how to accessing data from dataframe"
   ]
  },
  {
   "cell_type": "code",
   "execution_count": 16,
   "id": "b4d84350",
   "metadata": {},
   "outputs": [
    {
     "data": {
      "text/plain": [
       "0     A\n",
       "1     B\n",
       "2     C\n",
       "3     B\n",
       "4     B\n",
       "5     B\n",
       "6     A\n",
       "7     C\n",
       "8     C\n",
       "9     A\n",
       "10    B\n",
       "11    B\n",
       "12    A\n",
       "13    A\n",
       "14    A\n",
       "15    C\n",
       "16    C\n",
       "17    C\n",
       "18    A\n",
       "19    A\n",
       "20    C\n",
       "21    C\n",
       "22    B\n",
       "23    C\n",
       "24    A\n",
       "25    C\n",
       "26    C\n",
       "27    C\n",
       "28    B\n",
       "29    C\n",
       "30    B\n",
       "31    A\n",
       "32    B\n",
       "33    C\n",
       "34    C\n",
       "35    B\n",
       "36    C\n",
       "37    C\n",
       "38    C\n",
       "39    A\n",
       "40    B\n",
       "41    C\n",
       "42    A\n",
       "43    A\n",
       "44    A\n",
       "45    B\n",
       "46    B\n",
       "47    B\n",
       "48    C\n",
       "49    C\n",
       "Name: Category, dtype: object"
      ]
     },
     "execution_count": 16,
     "metadata": {},
     "output_type": "execute_result"
    }
   ],
   "source": [
    "df_2['Category']"
   ]
  },
  {
   "cell_type": "code",
   "execution_count": 37,
   "id": "42cc5b1f",
   "metadata": {},
   "outputs": [
    {
     "name": "stdout",
     "output_type": "stream",
     "text": [
      "2023-01-01\n",
      "    Value   Product\n",
      "2    32.0  Product2\n",
      "3     8.0  Product1\n",
      "4    26.0  Product3\n",
      "5    54.0  Product3\n",
      "6    16.0  Product1\n",
      "7    89.0  Product1\n",
      "8    37.0  Product3\n",
      "9    22.0  Product2\n",
      "10    7.0  Product1\n"
     ]
    }
   ],
   "source": [
    "# # row info\n",
    "# loc → Label-based selection\n",
    "\n",
    "# You select data using row/column labels.\n",
    "print(df_2.loc[0,'Date'])\n",
    "print(df_2.loc[2:10,['Value','Product']])"
   ]
  },
  {
   "cell_type": "code",
   "execution_count": 39,
   "id": "83c33e92",
   "metadata": {},
   "outputs": [
    {
     "name": "stdout",
     "output_type": "stream",
     "text": [
      "2023-01-01\n",
      "         Date Category\n",
      "0  2023-01-01        A\n",
      "1  2023-01-02        B\n",
      "2  2023-01-03        C\n",
      "3  2023-01-04        B\n",
      "4  2023-01-05        B\n",
      "5  2023-01-06        B\n",
      "6  2023-01-07        A\n",
      "7  2023-01-08        C\n",
      "8  2023-01-09        C\n",
      "9  2023-01-10        A\n"
     ]
    }
   ],
   "source": [
    "# 2. iloc → Index-based selection\n",
    "# You select data using row/column integer positions.\n",
    "# Using iloc (index-based)\n",
    "print(df_2.iloc[0, 0])          \n",
    "print(df_2.iloc[0:10, 0:2])      \n"
   ]
  },
  {
   "cell_type": "code",
   "execution_count": 45,
   "id": "c7b1e071",
   "metadata": {},
   "outputs": [
    {
     "name": "stdout",
     "output_type": "stream",
     "text": [
      "32.0\n"
     ]
    }
   ],
   "source": [
    "print(df_2.iat[2,2])"
   ]
  },
  {
   "cell_type": "markdown",
   "id": "8630cbe9",
   "metadata": {},
   "source": [
    "Data Manipulation with DataFrame"
   ]
  },
  {
   "cell_type": "code",
   "execution_count": 46,
   "id": "01b71acf",
   "metadata": {},
   "outputs": [
    {
     "data": {
      "text/html": [
       "<div>\n",
       "<style scoped>\n",
       "    .dataframe tbody tr th:only-of-type {\n",
       "        vertical-align: middle;\n",
       "    }\n",
       "\n",
       "    .dataframe tbody tr th {\n",
       "        vertical-align: top;\n",
       "    }\n",
       "\n",
       "    .dataframe thead th {\n",
       "        text-align: right;\n",
       "    }\n",
       "</style>\n",
       "<table border=\"1\" class=\"dataframe\">\n",
       "  <thead>\n",
       "    <tr style=\"text-align: right;\">\n",
       "      <th></th>\n",
       "      <th>Name</th>\n",
       "      <th>Age</th>\n",
       "      <th>City</th>\n",
       "    </tr>\n",
       "  </thead>\n",
       "  <tbody>\n",
       "    <tr>\n",
       "      <th>0</th>\n",
       "      <td>rashmi</td>\n",
       "      <td>33</td>\n",
       "      <td>Bangalore</td>\n",
       "    </tr>\n",
       "    <tr>\n",
       "      <th>1</th>\n",
       "      <td>ruhi</td>\n",
       "      <td>56</td>\n",
       "      <td>ranchi</td>\n",
       "    </tr>\n",
       "    <tr>\n",
       "      <th>2</th>\n",
       "      <td>ragini</td>\n",
       "      <td>39</td>\n",
       "      <td>Bangkok</td>\n",
       "    </tr>\n",
       "  </tbody>\n",
       "</table>\n",
       "</div>"
      ],
      "text/plain": [
       "     Name  Age       City\n",
       "0  rashmi   33  Bangalore\n",
       "1    ruhi   56     ranchi\n",
       "2  ragini   39    Bangkok"
      ]
     },
     "execution_count": 46,
     "metadata": {},
     "output_type": "execute_result"
    }
   ],
   "source": [
    "df"
   ]
  },
  {
   "cell_type": "code",
   "execution_count": 47,
   "id": "81e0c168",
   "metadata": {},
   "outputs": [
    {
     "data": {
      "text/html": [
       "<div>\n",
       "<style scoped>\n",
       "    .dataframe tbody tr th:only-of-type {\n",
       "        vertical-align: middle;\n",
       "    }\n",
       "\n",
       "    .dataframe tbody tr th {\n",
       "        vertical-align: top;\n",
       "    }\n",
       "\n",
       "    .dataframe thead th {\n",
       "        text-align: right;\n",
       "    }\n",
       "</style>\n",
       "<table border=\"1\" class=\"dataframe\">\n",
       "  <thead>\n",
       "    <tr style=\"text-align: right;\">\n",
       "      <th></th>\n",
       "      <th>Name</th>\n",
       "      <th>Age</th>\n",
       "      <th>City</th>\n",
       "      <th>Salary</th>\n",
       "    </tr>\n",
       "  </thead>\n",
       "  <tbody>\n",
       "    <tr>\n",
       "      <th>0</th>\n",
       "      <td>rashmi</td>\n",
       "      <td>33</td>\n",
       "      <td>Bangalore</td>\n",
       "      <td>50000</td>\n",
       "    </tr>\n",
       "    <tr>\n",
       "      <th>1</th>\n",
       "      <td>ruhi</td>\n",
       "      <td>56</td>\n",
       "      <td>ranchi</td>\n",
       "      <td>60000</td>\n",
       "    </tr>\n",
       "    <tr>\n",
       "      <th>2</th>\n",
       "      <td>ragini</td>\n",
       "      <td>39</td>\n",
       "      <td>Bangkok</td>\n",
       "      <td>70000</td>\n",
       "    </tr>\n",
       "  </tbody>\n",
       "</table>\n",
       "</div>"
      ],
      "text/plain": [
       "     Name  Age       City  Salary\n",
       "0  rashmi   33  Bangalore   50000\n",
       "1    ruhi   56     ranchi   60000\n",
       "2  ragini   39    Bangkok   70000"
      ]
     },
     "execution_count": 47,
     "metadata": {},
     "output_type": "execute_result"
    }
   ],
   "source": [
    "df['Salary']=[50000,60000,70000]\n",
    "df"
   ]
  },
  {
   "cell_type": "code",
   "execution_count": null,
   "id": "49c50f6c",
   "metadata": {},
   "outputs": [
    {
     "data": {
      "text/html": [
       "<div>\n",
       "<style scoped>\n",
       "    .dataframe tbody tr th:only-of-type {\n",
       "        vertical-align: middle;\n",
       "    }\n",
       "\n",
       "    .dataframe tbody tr th {\n",
       "        vertical-align: top;\n",
       "    }\n",
       "\n",
       "    .dataframe thead th {\n",
       "        text-align: right;\n",
       "    }\n",
       "</style>\n",
       "<table border=\"1\" class=\"dataframe\">\n",
       "  <thead>\n",
       "    <tr style=\"text-align: right;\">\n",
       "      <th></th>\n",
       "      <th>Name</th>\n",
       "      <th>Age</th>\n",
       "      <th>City</th>\n",
       "    </tr>\n",
       "  </thead>\n",
       "  <tbody>\n",
       "    <tr>\n",
       "      <th>0</th>\n",
       "      <td>rashmi</td>\n",
       "      <td>33</td>\n",
       "      <td>Bangalore</td>\n",
       "    </tr>\n",
       "    <tr>\n",
       "      <th>1</th>\n",
       "      <td>ruhi</td>\n",
       "      <td>56</td>\n",
       "      <td>ranchi</td>\n",
       "    </tr>\n",
       "    <tr>\n",
       "      <th>2</th>\n",
       "      <td>ragini</td>\n",
       "      <td>39</td>\n",
       "      <td>Bangkok</td>\n",
       "    </tr>\n",
       "  </tbody>\n",
       "</table>\n",
       "</div>"
      ],
      "text/plain": [
       "     Name  Age       City\n",
       "0  rashmi   33  Bangalore\n",
       "1    ruhi   56     ranchi\n",
       "2  ragini   39    Bangkok"
      ]
     },
     "execution_count": 49,
     "metadata": {},
     "output_type": "execute_result"
    }
   ],
   "source": [
    "# remove a column\n",
    "# it is not permanent\n",
    "df.drop('Salary',axis=1)"
   ]
  },
  {
   "cell_type": "code",
   "execution_count": 50,
   "id": "489479cb",
   "metadata": {},
   "outputs": [],
   "source": [
    "# remove a column\n",
    "# to make it permanent \n",
    "df.drop('Salary',axis=1,inplace=True)"
   ]
  },
  {
   "cell_type": "code",
   "execution_count": 51,
   "id": "3827cbc0",
   "metadata": {},
   "outputs": [
    {
     "data": {
      "text/html": [
       "<div>\n",
       "<style scoped>\n",
       "    .dataframe tbody tr th:only-of-type {\n",
       "        vertical-align: middle;\n",
       "    }\n",
       "\n",
       "    .dataframe tbody tr th {\n",
       "        vertical-align: top;\n",
       "    }\n",
       "\n",
       "    .dataframe thead th {\n",
       "        text-align: right;\n",
       "    }\n",
       "</style>\n",
       "<table border=\"1\" class=\"dataframe\">\n",
       "  <thead>\n",
       "    <tr style=\"text-align: right;\">\n",
       "      <th></th>\n",
       "      <th>Name</th>\n",
       "      <th>Age</th>\n",
       "      <th>City</th>\n",
       "    </tr>\n",
       "  </thead>\n",
       "  <tbody>\n",
       "    <tr>\n",
       "      <th>0</th>\n",
       "      <td>rashmi</td>\n",
       "      <td>33</td>\n",
       "      <td>Bangalore</td>\n",
       "    </tr>\n",
       "    <tr>\n",
       "      <th>1</th>\n",
       "      <td>ruhi</td>\n",
       "      <td>56</td>\n",
       "      <td>ranchi</td>\n",
       "    </tr>\n",
       "    <tr>\n",
       "      <th>2</th>\n",
       "      <td>ragini</td>\n",
       "      <td>39</td>\n",
       "      <td>Bangkok</td>\n",
       "    </tr>\n",
       "  </tbody>\n",
       "</table>\n",
       "</div>"
      ],
      "text/plain": [
       "     Name  Age       City\n",
       "0  rashmi   33  Bangalore\n",
       "1    ruhi   56     ranchi\n",
       "2  ragini   39    Bangkok"
      ]
     },
     "execution_count": 51,
     "metadata": {},
     "output_type": "execute_result"
    }
   ],
   "source": [
    "df"
   ]
  },
  {
   "cell_type": "code",
   "execution_count": 52,
   "id": "9e023fbb",
   "metadata": {},
   "outputs": [],
   "source": [
    "# add age to the column \n",
    "df['Age'] = df['Age']+1"
   ]
  },
  {
   "cell_type": "code",
   "execution_count": 53,
   "id": "77d8863c",
   "metadata": {},
   "outputs": [
    {
     "data": {
      "text/html": [
       "<div>\n",
       "<style scoped>\n",
       "    .dataframe tbody tr th:only-of-type {\n",
       "        vertical-align: middle;\n",
       "    }\n",
       "\n",
       "    .dataframe tbody tr th {\n",
       "        vertical-align: top;\n",
       "    }\n",
       "\n",
       "    .dataframe thead th {\n",
       "        text-align: right;\n",
       "    }\n",
       "</style>\n",
       "<table border=\"1\" class=\"dataframe\">\n",
       "  <thead>\n",
       "    <tr style=\"text-align: right;\">\n",
       "      <th></th>\n",
       "      <th>Name</th>\n",
       "      <th>Age</th>\n",
       "      <th>City</th>\n",
       "    </tr>\n",
       "  </thead>\n",
       "  <tbody>\n",
       "    <tr>\n",
       "      <th>0</th>\n",
       "      <td>rashmi</td>\n",
       "      <td>34</td>\n",
       "      <td>Bangalore</td>\n",
       "    </tr>\n",
       "    <tr>\n",
       "      <th>1</th>\n",
       "      <td>ruhi</td>\n",
       "      <td>57</td>\n",
       "      <td>ranchi</td>\n",
       "    </tr>\n",
       "    <tr>\n",
       "      <th>2</th>\n",
       "      <td>ragini</td>\n",
       "      <td>40</td>\n",
       "      <td>Bangkok</td>\n",
       "    </tr>\n",
       "  </tbody>\n",
       "</table>\n",
       "</div>"
      ],
      "text/plain": [
       "     Name  Age       City\n",
       "0  rashmi   34  Bangalore\n",
       "1    ruhi   57     ranchi\n",
       "2  ragini   40    Bangkok"
      ]
     },
     "execution_count": 53,
     "metadata": {},
     "output_type": "execute_result"
    }
   ],
   "source": [
    "df"
   ]
  },
  {
   "cell_type": "code",
   "execution_count": 54,
   "id": "9561b676",
   "metadata": {},
   "outputs": [],
   "source": [
    "df.drop(0,inplace=True)"
   ]
  },
  {
   "cell_type": "code",
   "execution_count": 55,
   "id": "86fe148d",
   "metadata": {},
   "outputs": [
    {
     "data": {
      "text/html": [
       "<div>\n",
       "<style scoped>\n",
       "    .dataframe tbody tr th:only-of-type {\n",
       "        vertical-align: middle;\n",
       "    }\n",
       "\n",
       "    .dataframe tbody tr th {\n",
       "        vertical-align: top;\n",
       "    }\n",
       "\n",
       "    .dataframe thead th {\n",
       "        text-align: right;\n",
       "    }\n",
       "</style>\n",
       "<table border=\"1\" class=\"dataframe\">\n",
       "  <thead>\n",
       "    <tr style=\"text-align: right;\">\n",
       "      <th></th>\n",
       "      <th>Name</th>\n",
       "      <th>Age</th>\n",
       "      <th>City</th>\n",
       "    </tr>\n",
       "  </thead>\n",
       "  <tbody>\n",
       "    <tr>\n",
       "      <th>1</th>\n",
       "      <td>ruhi</td>\n",
       "      <td>57</td>\n",
       "      <td>ranchi</td>\n",
       "    </tr>\n",
       "    <tr>\n",
       "      <th>2</th>\n",
       "      <td>ragini</td>\n",
       "      <td>40</td>\n",
       "      <td>Bangkok</td>\n",
       "    </tr>\n",
       "  </tbody>\n",
       "</table>\n",
       "</div>"
      ],
      "text/plain": [
       "     Name  Age     City\n",
       "1    ruhi   57   ranchi\n",
       "2  ragini   40  Bangkok"
      ]
     },
     "execution_count": 55,
     "metadata": {},
     "output_type": "execute_result"
    }
   ],
   "source": [
    "df"
   ]
  },
  {
   "cell_type": "code",
   "execution_count": 57,
   "id": "b665dfa9",
   "metadata": {},
   "outputs": [
    {
     "data": {
      "text/html": [
       "<div>\n",
       "<style scoped>\n",
       "    .dataframe tbody tr th:only-of-type {\n",
       "        vertical-align: middle;\n",
       "    }\n",
       "\n",
       "    .dataframe tbody tr th {\n",
       "        vertical-align: top;\n",
       "    }\n",
       "\n",
       "    .dataframe thead th {\n",
       "        text-align: right;\n",
       "    }\n",
       "</style>\n",
       "<table border=\"1\" class=\"dataframe\">\n",
       "  <thead>\n",
       "    <tr style=\"text-align: right;\">\n",
       "      <th></th>\n",
       "      <th>Date</th>\n",
       "      <th>Category</th>\n",
       "      <th>Value</th>\n",
       "      <th>Product</th>\n",
       "      <th>Sales</th>\n",
       "      <th>Region</th>\n",
       "    </tr>\n",
       "  </thead>\n",
       "  <tbody>\n",
       "    <tr>\n",
       "      <th>0</th>\n",
       "      <td>2023-01-01</td>\n",
       "      <td>A</td>\n",
       "      <td>28.0</td>\n",
       "      <td>Product1</td>\n",
       "      <td>754.0</td>\n",
       "      <td>East</td>\n",
       "    </tr>\n",
       "    <tr>\n",
       "      <th>1</th>\n",
       "      <td>2023-01-02</td>\n",
       "      <td>B</td>\n",
       "      <td>39.0</td>\n",
       "      <td>Product3</td>\n",
       "      <td>110.0</td>\n",
       "      <td>North</td>\n",
       "    </tr>\n",
       "    <tr>\n",
       "      <th>2</th>\n",
       "      <td>2023-01-03</td>\n",
       "      <td>C</td>\n",
       "      <td>32.0</td>\n",
       "      <td>Product2</td>\n",
       "      <td>398.0</td>\n",
       "      <td>East</td>\n",
       "    </tr>\n",
       "    <tr>\n",
       "      <th>3</th>\n",
       "      <td>2023-01-04</td>\n",
       "      <td>B</td>\n",
       "      <td>8.0</td>\n",
       "      <td>Product1</td>\n",
       "      <td>522.0</td>\n",
       "      <td>East</td>\n",
       "    </tr>\n",
       "    <tr>\n",
       "      <th>4</th>\n",
       "      <td>2023-01-05</td>\n",
       "      <td>B</td>\n",
       "      <td>26.0</td>\n",
       "      <td>Product3</td>\n",
       "      <td>869.0</td>\n",
       "      <td>North</td>\n",
       "    </tr>\n",
       "  </tbody>\n",
       "</table>\n",
       "</div>"
      ],
      "text/plain": [
       "         Date Category  Value   Product  Sales Region\n",
       "0  2023-01-01        A   28.0  Product1  754.0   East\n",
       "1  2023-01-02        B   39.0  Product3  110.0  North\n",
       "2  2023-01-03        C   32.0  Product2  398.0   East\n",
       "3  2023-01-04        B    8.0  Product1  522.0   East\n",
       "4  2023-01-05        B   26.0  Product3  869.0  North"
      ]
     },
     "execution_count": 57,
     "metadata": {},
     "output_type": "execute_result"
    }
   ],
   "source": [
    "df_2.head(5)"
   ]
  },
  {
   "cell_type": "code",
   "execution_count": 58,
   "id": "b80050a1",
   "metadata": {},
   "outputs": [
    {
     "name": "stdout",
     "output_type": "stream",
     "text": [
      "data types:\n",
      " Date         object\n",
      "Category     object\n",
      "Value       float64\n",
      "Product      object\n",
      "Sales       float64\n",
      "Region       object\n",
      "dtype: object\n"
     ]
    }
   ],
   "source": [
    "# display the data types of each column \n",
    "print(\"data types:\\n\",df_2.dtypes)"
   ]
  },
  {
   "cell_type": "code",
   "execution_count": 59,
   "id": "71e70954",
   "metadata": {},
   "outputs": [
    {
     "name": "stdout",
     "output_type": "stream",
     "text": [
      "Statistical summar:\n",
      " <bound method NDFrame.describe of           Date Category  Value   Product  Sales Region\n",
      "0   2023-01-01        A   28.0  Product1  754.0   East\n",
      "1   2023-01-02        B   39.0  Product3  110.0  North\n",
      "2   2023-01-03        C   32.0  Product2  398.0   East\n",
      "3   2023-01-04        B    8.0  Product1  522.0   East\n",
      "4   2023-01-05        B   26.0  Product3  869.0  North\n",
      "5   2023-01-06        B   54.0  Product3  192.0   West\n",
      "6   2023-01-07        A   16.0  Product1  936.0   East\n",
      "7   2023-01-08        C   89.0  Product1  488.0   West\n",
      "8   2023-01-09        C   37.0  Product3  772.0   West\n",
      "9   2023-01-10        A   22.0  Product2  834.0   West\n",
      "10  2023-01-11        B    7.0  Product1  842.0  North\n",
      "11  2023-01-12        B   60.0  Product2    NaN   West\n",
      "12  2023-01-13        A   70.0  Product3  628.0  South\n",
      "13  2023-01-14        A   69.0  Product1  423.0   East\n",
      "14  2023-01-15        A   47.0  Product2  893.0   West\n",
      "15  2023-01-16        C    NaN  Product1  895.0  North\n",
      "16  2023-01-17        C   93.0  Product2  511.0  South\n",
      "17  2023-01-18        C    NaN  Product1  108.0   West\n",
      "18  2023-01-19        A   31.0  Product2  578.0   West\n",
      "19  2023-01-20        A   59.0  Product1  736.0   East\n",
      "20  2023-01-21        C   82.0  Product3  606.0  South\n",
      "21  2023-01-22        C   37.0  Product2  992.0  South\n",
      "22  2023-01-23        B   62.0  Product3  942.0  North\n",
      "23  2023-01-24        C   92.0  Product2  342.0   West\n",
      "24  2023-01-25        A   24.0  Product2  458.0   East\n",
      "25  2023-01-26        C   95.0  Product1  584.0   West\n",
      "26  2023-01-27        C   71.0  Product2  619.0  North\n",
      "27  2023-01-28        C   56.0  Product2  224.0  North\n",
      "28  2023-01-29        B    NaN  Product3  617.0  North\n",
      "29  2023-01-30        C   51.0  Product2  737.0  South\n",
      "30  2023-01-31        B   50.0  Product3  735.0   West\n",
      "31  2023-02-01        A   17.0  Product2  189.0   West\n",
      "32  2023-02-02        B   63.0  Product3  338.0  South\n",
      "33  2023-02-03        C   27.0  Product3    NaN   East\n",
      "34  2023-02-04        C   70.0  Product3  669.0   West\n",
      "35  2023-02-05        B   60.0  Product2    NaN   West\n",
      "36  2023-02-06        C   36.0  Product3  177.0   East\n",
      "37  2023-02-07        C    2.0  Product1    NaN  North\n",
      "38  2023-02-08        C   94.0  Product1  408.0  South\n",
      "39  2023-02-09        A   62.0  Product1  155.0   West\n",
      "40  2023-02-10        B   15.0  Product1  578.0   East\n",
      "41  2023-02-11        C   97.0  Product1  256.0   East\n",
      "42  2023-02-12        A   93.0  Product3  164.0   West\n",
      "43  2023-02-13        A   43.0  Product3  949.0   East\n",
      "44  2023-02-14        A   96.0  Product3  830.0   East\n",
      "45  2023-02-15        B   99.0  Product2  599.0   West\n",
      "46  2023-02-16        B    6.0  Product1  938.0  South\n",
      "47  2023-02-17        B   69.0  Product3  143.0   West\n",
      "48  2023-02-18        C   65.0  Product3  182.0  North\n",
      "49  2023-02-19        C   11.0  Product3  708.0  North>\n"
     ]
    }
   ],
   "source": [
    "# display the data types of each column \n",
    "print(\"Statistical summar:\\n\",df_2.describe)"
   ]
  },
  {
   "cell_type": "code",
   "execution_count": 61,
   "id": "54b1b562",
   "metadata": {},
   "outputs": [
    {
     "name": "stdout",
     "output_type": "stream",
     "text": [
      "Mean value by category:\n",
      " Category\n",
      "A    48.357143\n",
      "B    44.142857\n",
      "C    59.842105\n",
      "Name: Value, dtype: float64\n"
     ]
    }
   ],
   "source": [
    "grouped = df_2.groupby('Category')['Value'].mean()\n",
    "print(\"Mean value by category:\\n\",grouped)"
   ]
  },
  {
   "cell_type": "code",
   "execution_count": 56,
   "id": "63eee3d3",
   "metadata": {},
   "outputs": [
    {
     "name": "stdout",
     "output_type": "stream",
     "text": [
      "<class 'pandas.core.frame.DataFrame'>\n",
      "RangeIndex: 50 entries, 0 to 49\n",
      "Data columns (total 6 columns):\n",
      " #   Column    Non-Null Count  Dtype  \n",
      "---  ------    --------------  -----  \n",
      " 0   Date      50 non-null     object \n",
      " 1   Category  50 non-null     object \n",
      " 2   Value     47 non-null     float64\n",
      " 3   Product   50 non-null     object \n",
      " 4   Sales     46 non-null     float64\n",
      " 5   Region    50 non-null     object \n",
      "dtypes: float64(2), object(4)\n",
      "memory usage: 2.5+ KB\n",
      "None\n"
     ]
    }
   ],
   "source": [
    "print(df_2.info()) "
   ]
  },
  {
   "cell_type": "code",
   "execution_count": 62,
   "id": "05a60268",
   "metadata": {},
   "outputs": [
    {
     "data": {
      "text/html": [
       "<div>\n",
       "<style scoped>\n",
       "    .dataframe tbody tr th:only-of-type {\n",
       "        vertical-align: middle;\n",
       "    }\n",
       "\n",
       "    .dataframe tbody tr th {\n",
       "        vertical-align: top;\n",
       "    }\n",
       "\n",
       "    .dataframe thead th {\n",
       "        text-align: right;\n",
       "    }\n",
       "</style>\n",
       "<table border=\"1\" class=\"dataframe\">\n",
       "  <thead>\n",
       "    <tr style=\"text-align: right;\">\n",
       "      <th></th>\n",
       "      <th>Value</th>\n",
       "      <th>Sales</th>\n",
       "    </tr>\n",
       "  </thead>\n",
       "  <tbody>\n",
       "    <tr>\n",
       "      <th>count</th>\n",
       "      <td>47.000000</td>\n",
       "      <td>46.000000</td>\n",
       "    </tr>\n",
       "    <tr>\n",
       "      <th>mean</th>\n",
       "      <td>51.744681</td>\n",
       "      <td>557.130435</td>\n",
       "    </tr>\n",
       "    <tr>\n",
       "      <th>std</th>\n",
       "      <td>29.050532</td>\n",
       "      <td>274.598584</td>\n",
       "    </tr>\n",
       "    <tr>\n",
       "      <th>min</th>\n",
       "      <td>2.000000</td>\n",
       "      <td>108.000000</td>\n",
       "    </tr>\n",
       "    <tr>\n",
       "      <th>25%</th>\n",
       "      <td>27.500000</td>\n",
       "      <td>339.000000</td>\n",
       "    </tr>\n",
       "    <tr>\n",
       "      <th>50%</th>\n",
       "      <td>54.000000</td>\n",
       "      <td>591.500000</td>\n",
       "    </tr>\n",
       "    <tr>\n",
       "      <th>75%</th>\n",
       "      <td>70.000000</td>\n",
       "      <td>767.500000</td>\n",
       "    </tr>\n",
       "    <tr>\n",
       "      <th>max</th>\n",
       "      <td>99.000000</td>\n",
       "      <td>992.000000</td>\n",
       "    </tr>\n",
       "  </tbody>\n",
       "</table>\n",
       "</div>"
      ],
      "text/plain": [
       "           Value       Sales\n",
       "count  47.000000   46.000000\n",
       "mean   51.744681  557.130435\n",
       "std    29.050532  274.598584\n",
       "min     2.000000  108.000000\n",
       "25%    27.500000  339.000000\n",
       "50%    54.000000  591.500000\n",
       "75%    70.000000  767.500000\n",
       "max    99.000000  992.000000"
      ]
     },
     "execution_count": 62,
     "metadata": {},
     "output_type": "execute_result"
    }
   ],
   "source": [
    "df_2.describe()"
   ]
  },
  {
   "cell_type": "code",
   "execution_count": null,
   "id": "4e1d3e71",
   "metadata": {},
   "outputs": [],
   "source": []
  }
 ],
 "metadata": {
  "kernelspec": {
   "display_name": "data_env",
   "language": "python",
   "name": "python3"
  },
  "language_info": {
   "codemirror_mode": {
    "name": "ipython",
    "version": 3
   },
   "file_extension": ".py",
   "mimetype": "text/x-python",
   "name": "python",
   "nbconvert_exporter": "python",
   "pygments_lexer": "ipython3",
   "version": "3.10.0"
  }
 },
 "nbformat": 4,
 "nbformat_minor": 5
}
