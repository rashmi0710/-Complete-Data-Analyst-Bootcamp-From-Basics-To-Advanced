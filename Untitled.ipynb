{
 "cells": [
  {
   "cell_type": "markdown",
   "id": "e4e50e76-edc3-487b-8d9e-fad1fb6a99bd",
   "metadata": {},
   "source": [
    "# PYTHON BASICS "
   ]
  },
  {
   "cell_type": "code",
   "execution_count": 3,
   "id": "3f46e0b1-3ad2-43a1-92ce-dc3c7ad9ca31",
   "metadata": {},
   "outputs": [
    {
     "name": "stdout",
     "output_type": "stream",
     "text": [
      "Rashmi\n",
      "Ranu\n"
     ]
    }
   ],
   "source": [
    "# Basic Syntax Rules in Python\n",
    "\n",
    "# Python is case-sensitive:\n",
    "# - 'name', 'Name', and 'NAME' are treated as three different variables.\n",
    "\n",
    "# Defining two variables with the same letters but different cases\n",
    "name = \"Rashmi\"   # variable 'name' (lowercase n) stores the string \"Rashmi\"\n",
    "Name = \"Ranu\"     # variable 'Name' (uppercase N) stores the string \"Ranu\"\n",
    "\n",
    "# Printing the variables\n",
    "print(name)   # Output: Rashmi (prints value of 'name')\n",
    "print(Name)   # Output: Ranu (prints value of 'Name')\n",
    "\n",
    "# If we try to use a variable with a different case (e.g., NAME),\n",
    "# Python will give an error because 'NAME' is not defined.\n",
    "# Example:\n",
    "# print(NAME)  # NameError: name 'NAME' is not defined\n"
   ]
  },
  {
   "cell_type": "code",
   "execution_count": null,
   "id": "582fc04f-e210-48d2-a241-07d5d94678ee",
   "metadata": {},
   "outputs": [],
   "source": [
    "#Identation\n",
    "# Python uses indentation to define "
   ]
  }
 ],
 "metadata": {
  "kernelspec": {
   "display_name": "Python (data_env)",
   "language": "python",
   "name": "data_env"
  },
  "language_info": {
   "codemirror_mode": {
    "name": "ipython",
    "version": 3
   },
   "file_extension": ".py",
   "mimetype": "text/x-python",
   "name": "python",
   "nbconvert_exporter": "python",
   "pygments_lexer": "ipython3",
   "version": "3.10.0"
  }
 },
 "nbformat": 4,
 "nbformat_minor": 5
}
