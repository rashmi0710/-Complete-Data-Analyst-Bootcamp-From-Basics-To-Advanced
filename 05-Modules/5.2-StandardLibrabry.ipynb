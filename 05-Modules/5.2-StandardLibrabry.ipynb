{
 "cells": [
  {
   "cell_type": "markdown",
   "id": "5200735f",
   "metadata": {},
   "source": [
    "The Python Standard Library is a collection of built-in modules and packages that come pre-installed with Python.\n",
    "\n",
    "It’s like a toolbox that gives you ready-made tools (functions, classes, and modules) so you don’t have to write everything from scratch.\n",
    "\n",
    "You just import them and start using them."
   ]
  },
  {
   "cell_type": "code",
   "execution_count": 1,
   "id": "f1945519",
   "metadata": {},
   "outputs": [
    {
     "name": "stdout",
     "output_type": "stream",
     "text": [
      "array('i', [1, 2, 3, 4, 5, 6])\n"
     ]
    }
   ],
   "source": [
    "import array \n",
    "arr = array.array('i',[1,2,3,4,5,6])\n",
    "print(arr)\n"
   ]
  },
  {
   "cell_type": "code",
   "execution_count": 2,
   "id": "34a4eb99",
   "metadata": {},
   "outputs": [
    {
     "name": "stdout",
     "output_type": "stream",
     "text": [
      "4.0\n",
      "3.141592653589793\n"
     ]
    }
   ],
   "source": [
    "import math \n",
    "print(math.sqrt(16))\n",
    "print(math.pi)\n"
   ]
  },
  {
   "cell_type": "code",
   "execution_count": 6,
   "id": "aebca2e0",
   "metadata": {},
   "outputs": [
    {
     "name": "stdout",
     "output_type": "stream",
     "text": [
      "9\n",
      "b\n"
     ]
    }
   ],
   "source": [
    "# random\n",
    "\n",
    "import random \n",
    "print(random.randint(1,10))\n",
    "print(random.choice(['a','b','c']))"
   ]
  },
  {
   "cell_type": "code",
   "execution_count": null,
   "id": "11cb08d3",
   "metadata": {},
   "outputs": [
    {
     "name": "stdout",
     "output_type": "stream",
     "text": [
      "c:\\Users\\dongr\\Downloads\\DATA_ANALYST_COURSE\\5-Modules\n"
     ]
    }
   ],
   "source": [
    "# file and directory access \n",
    "import os \n",
    "print(os.getcwd())\n",
    "# current working directory "
   ]
  },
  {
   "cell_type": "code",
   "execution_count": null,
   "id": "7712e8fb",
   "metadata": {},
   "outputs": [],
   "source": [
    "os.mkdir('test_dir')\n",
    "# create a new directory "
   ]
  },
  {
   "cell_type": "code",
   "execution_count": null,
   "id": "63359e9b",
   "metadata": {},
   "outputs": [],
   "source": [
    "f = open(\"myfile.txt\", \"w\")\n",
    "f.write(\"Hello Rashmi!\")\n",
    "f.close()\n",
    "#This will create a file named myfile.txt in our current directory and write \"Hello Rashmi!\" inside it.\n",
    "#open(\"newfile.txt\", \"x\") without writing \n",
    "# f = open(\"notes.txt\", \"a\")\n",
    "# f.write(\"\\nThis is an extra line.\")\n",
    "# f.close()\n",
    "#append mode - Adds new content without deleting old data. "
   ]
  },
  {
   "cell_type": "code",
   "execution_count": null,
   "id": "1e46cab1",
   "metadata": {},
   "outputs": [],
   "source": [
    "with open(\"data.txt\", \"w\") as f:\n",
    "    f.write(\"This file was created using open()\")\n",
    "#Best practice — using with\n",
    "#You don’t need to call f.close() — Python closes it automatically.\n"
   ]
  },
  {
   "cell_type": "markdown",
   "id": "846e166c",
   "metadata": {},
   "source": [
    "shutil is a standard library module in Python (no need to install).\n",
    "It stands for Shell Utilities — used for file operations like:\n",
    "\n",
    "Copying files/folders\n",
    "\n",
    "Moving files\n",
    "\n",
    "Deleting files/folders\n",
    "\n",
    "Archiving (zip/unzip)"
   ]
  },
  {
   "cell_type": "code",
   "execution_count": 10,
   "id": "be87ddef",
   "metadata": {},
   "outputs": [
    {
     "data": {
      "text/plain": [
       "'destination.txt'"
      ]
     },
     "execution_count": 10,
     "metadata": {},
     "output_type": "execute_result"
    }
   ],
   "source": [
    "# high level operations on files and colletions of files \n",
    "import shutil \n",
    "shutil.copyfile('source.txt','destination.txt')\n",
    "\n"
   ]
  },
  {
   "cell_type": "code",
   "execution_count": 14,
   "metadata": {},
   "outputs": [
    {
     "name": "stdout",
     "output_type": "stream",
     "text": [
      "{\"name\": \"Rashmi\", \"age\": 25}\n",
      "<class 'str'>\n",
      "{'name': 'Rashmi', 'age': 25}\n",
      "<class 'dict'>\n"
     ]
    }
   ],
   "source": [
    "# dat searialization \n",
    "import json \n",
    "data = {'name':'Rashmi','age':25}\n",
    "json_str=json.dumps(data)\n",
    "print(json_str)\n",
    "print(type(json_str))\n",
    "\n",
    "parsed_data= json.loads(json_str)\n",
    "print(parsed_data)\n",
    "print(type(parsed_data))"
   ]
  },
  {
   "cell_type": "code",
   "execution_count": 17,
   "metadata": {},
   "outputs": [
    {
     "name": "stdout",
     "output_type": "stream",
     "text": [
      "['name', 'age']\n",
      "['rashmi', '23']\n"
     ]
    }
   ],
   "source": [
    "# csv\n",
    "\n",
    "import csv\n",
    "\n",
    "with open('example.csv',mode='w',newline='') as file:\n",
    "    writer=csv.writer(file)\n",
    "    writer.writerow(['name','age'])\n",
    "    writer.writerow(['rashmi',23])\n",
    "\n",
    "with open('example.csv',mode='r') as file:\n",
    "    reader=csv.reader(file)\n",
    "    for row in reader:\n",
    "        print(row)"
   ]
  },
  {
   "cell_type": "code",
   "execution_count": 20,
   "id": "2e594c01",
   "metadata": {},
   "outputs": [
    {
     "name": "stdout",
     "output_type": "stream",
     "text": [
      "2025-10-22 13:41:16.835455\n",
      "2025-10-21 13:41:16.835455\n"
     ]
    }
   ],
   "source": [
    "# datetime \n",
    "from datetime import datetime,timedelta\n",
    "\n",
    "now= datetime.now()\n",
    "print(now)\n",
    "\n",
    "yesterday = now-timedelta(days=1)\n",
    "print(yesterday)"
   ]
  },
  {
   "cell_type": "code",
   "execution_count": 21,
   "metadata": {},
   "outputs": [
    {
     "name": "stdout",
     "output_type": "stream",
     "text": [
      "1761120740.6054046\n",
      "1761120742.609337\n"
     ]
    }
   ],
   "source": [
    "# time \n",
    "import time \n",
    "print(time.time())\n",
    "time.sleep(2)\n",
    "print(time.time())"
   ]
  },
  {
   "cell_type": "code",
   "execution_count": 25,
   "metadata": {},
   "outputs": [
    {
     "name": "stdout",
     "output_type": "stream",
     "text": [
      "123\n"
     ]
    }
   ],
   "source": [
    "# regular expression \n",
    "import re \n",
    "\n",
    "pattern = r'\\d+'\n",
    "text='there is 123 apples 456'\n",
    "match=re.search(pattern,text)\n",
    "print(match.group())"
   ]
  }
 ],
 "metadata": {
  "kernelspec": {
   "display_name": "data_env",
   "language": "python",
   "name": "python3"
  },
  "language_info": {
   "codemirror_mode": {
    "name": "ipython",
    "version": 3
   },
   "file_extension": ".py",
   "mimetype": "text/x-python",
   "name": "python",
   "nbconvert_exporter": "python",
   "pygments_lexer": "ipython3",
   "version": "3.10.0"
  }
 },
 "nbformat": 4,
 "nbformat_minor": 5
}
