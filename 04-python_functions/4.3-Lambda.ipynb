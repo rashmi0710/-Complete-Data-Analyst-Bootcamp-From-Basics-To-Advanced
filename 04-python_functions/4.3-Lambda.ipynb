{
 "cells": [
  {
   "cell_type": "markdown",
   "id": "6baff02a",
   "metadata": {},
   "source": [
    "Lambda function are small anonymous functions defined using the lambda keyword. they can have any number of arguments but inly one expression. they are commonly used for short operations or as arguments to higher-order functions "
   ]
  },
  {
   "cell_type": "code",
   "execution_count": 1,
   "id": "6cbbfd1a",
   "metadata": {},
   "outputs": [
    {
     "data": {
      "text/plain": [
       "<function __main__.<lambda>(arguments)>"
      ]
     },
     "execution_count": 1,
     "metadata": {},
     "output_type": "execute_result"
    }
   ],
   "source": [
    "# syntax \n",
    "lambda arguments : expression"
   ]
  },
  {
   "cell_type": "code",
   "execution_count": 2,
   "id": "303827eb",
   "metadata": {},
   "outputs": [
    {
     "data": {
      "text/plain": [
       "4"
      ]
     },
     "execution_count": 2,
     "metadata": {},
     "output_type": "execute_result"
    }
   ],
   "source": [
    "def addition(a,b):\n",
    "    return a+b\n",
    "\n",
    "addition(2,2)"
   ]
  },
  {
   "cell_type": "code",
   "execution_count": 4,
   "id": "b5567c3e",
   "metadata": {},
   "outputs": [
    {
     "name": "stdout",
     "output_type": "stream",
     "text": [
      "7\n"
     ]
    }
   ],
   "source": [
    "Addition = lambda a,b : a+b\n",
    "print(Addition(2,5))"
   ]
  },
  {
   "cell_type": "code",
   "execution_count": 9,
   "id": "2bef1f70",
   "metadata": {},
   "outputs": [
    {
     "name": "stdout",
     "output_type": "stream",
     "text": [
      "36\n"
     ]
    }
   ],
   "source": [
    "def sqauring(a):\n",
    "    return a**2\n",
    "print(sqauring(6))"
   ]
  },
  {
   "cell_type": "code",
   "execution_count": 11,
   "id": "0013ffa6",
   "metadata": {},
   "outputs": [
    {
     "data": {
      "text/plain": [
       "True"
      ]
     },
     "execution_count": 11,
     "metadata": {},
     "output_type": "execute_result"
    }
   ],
   "source": [
    "def even(num):\n",
    "    if num%2==0:\n",
    "        return True\n",
    "\n",
    "even(24)"
   ]
  },
  {
   "cell_type": "code",
   "execution_count": 13,
   "id": "1e423143",
   "metadata": {},
   "outputs": [
    {
     "data": {
      "text/plain": [
       "True"
      ]
     },
     "execution_count": 13,
     "metadata": {},
     "output_type": "execute_result"
    }
   ],
   "source": [
    "even1 = lambda num:num%2==0\n",
    "even1(24)"
   ]
  },
  {
   "cell_type": "code",
   "execution_count": 14,
   "id": "c9f8bb86",
   "metadata": {},
   "outputs": [
    {
     "data": {
      "text/plain": [
       "15"
      ]
     },
     "execution_count": 14,
     "metadata": {},
     "output_type": "execute_result"
    }
   ],
   "source": [
    "add1= lambda x,y,z:x+y+z\n",
    "add1(5,6,4)"
   ]
  },
  {
   "cell_type": "code",
   "execution_count": 15,
   "id": "34c3a112",
   "metadata": {},
   "outputs": [
    {
     "data": {
      "text/plain": [
       "4"
      ]
     },
     "execution_count": 15,
     "metadata": {},
     "output_type": "execute_result"
    }
   ],
   "source": [
    "# map() - applies a function to all items in a list\n",
    "nuber = [1,2,3,4,5,6,7,8,9]\n",
    "def sqaure(number):\n",
    "    return number**2\n",
    "\n",
    "sqaure(2)"
   ]
  },
  {
   "cell_type": "code",
   "execution_count": 16,
   "id": "a9630a86",
   "metadata": {},
   "outputs": [
    {
     "data": {
      "text/plain": [
       "[1, 4, 9, 16, 25, 36, 49, 64, 81]"
      ]
     },
     "execution_count": 16,
     "metadata": {},
     "output_type": "execute_result"
    }
   ],
   "source": [
    "list(map(lambda x:x**2,nuber))"
   ]
  },
  {
   "cell_type": "code",
   "execution_count": null,
   "id": "35b37767",
   "metadata": {},
   "outputs": [],
   "source": []
  }
 ],
 "metadata": {
  "kernelspec": {
   "display_name": "data_env",
   "language": "python",
   "name": "python3"
  },
  "language_info": {
   "codemirror_mode": {
    "name": "ipython",
    "version": 3
   },
   "file_extension": ".py",
   "mimetype": "text/x-python",
   "name": "python",
   "nbconvert_exporter": "python",
   "pygments_lexer": "ipython3",
   "version": "3.10.0"
  }
 },
 "nbformat": 4,
 "nbformat_minor": 5
}
