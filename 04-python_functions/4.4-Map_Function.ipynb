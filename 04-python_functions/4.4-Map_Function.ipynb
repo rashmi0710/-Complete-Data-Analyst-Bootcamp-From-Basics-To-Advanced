{
 "cells": [
  {
   "cell_type": "markdown",
   "id": "64398503",
   "metadata": {},
   "source": [
    "map() function ek built-in function hai python ka . isko kaam hota hai - kisi function ko har element prr apply krana jo kisi iterable (jaise list, tuple etc) ke ander hai "
   ]
  },
  {
   "cell_type": "markdown",
   "id": "58dc659b",
   "metadata": {},
   "source": [
    "syntax \n",
    "map(unction, iterable)\n",
    "function -> wo function jo har element par lagana hai\n",
    "iterable -> list, tuple, set, etc\n",
    "it returns a map object (iterator) which we can convert into list or else tuple\n"
   ]
  },
  {
   "cell_type": "code",
   "execution_count": 2,
   "id": "aaca4faf",
   "metadata": {},
   "outputs": [
    {
     "name": "stdout",
     "output_type": "stream",
     "text": [
      "[1, 4, 9, 16, 25]\n"
     ]
    }
   ],
   "source": [
    "# har number ka square nikalna hai\n",
    "def square(num):\n",
    "    return num * num\n",
    "\n",
    "numbers = [1, 2, 3, 4, 5]\n",
    "\n",
    "result = map(square, numbers)\n",
    "print(list(result))\n"
   ]
  },
  {
   "cell_type": "code",
   "execution_count": 3,
   "id": "0fc6d047",
   "metadata": {},
   "outputs": [
    {
     "data": {
      "text/plain": [
       "[1, 4, 9, 16, 25]"
      ]
     },
     "execution_count": 3,
     "metadata": {},
     "output_type": "execute_result"
    }
   ],
   "source": [
    "# lambda function with map \n",
    "\n",
    "numbers = [1, 2, 3, 4, 5]\n",
    "list(map(lambda x:x*x, numbers))"
   ]
  },
  {
   "cell_type": "code",
   "execution_count": 5,
   "id": "a90f6853",
   "metadata": {},
   "outputs": [
    {
     "name": "stdout",
     "output_type": "stream",
     "text": [
      "[5, 7, 9]\n"
     ]
    }
   ],
   "source": [
    "# MAP MULTIPLE ITERABLES \n",
    "numbers1 = [1,2,3]\n",
    "numbers2= [4,5,6]\n",
    "\n",
    "added_numbers = list(map(lambda x,y:x+y, numbers1,numbers2))\n",
    "print(added_numbers)"
   ]
  },
  {
   "cell_type": "markdown",
   "id": "4317da0f",
   "metadata": {},
   "source": [
    "str function Python ka built-in function hai — har number ko string me badal diya."
   ]
  },
  {
   "cell_type": "code",
   "execution_count": 6,
   "id": "92308587",
   "metadata": {},
   "outputs": [
    {
     "name": "stdout",
     "output_type": "stream",
     "text": [
      "['1', '2', '3', '4']\n"
     ]
    }
   ],
   "source": [
    "nums = [1, 2, 3, 4]\n",
    "result = map(str, nums)\n",
    "print(list(result))\n"
   ]
  },
  {
   "cell_type": "code",
   "execution_count": null,
   "id": "f8ea77d0",
   "metadata": {},
   "outputs": [],
   "source": []
  }
 ],
 "metadata": {
  "kernelspec": {
   "display_name": "data_env",
   "language": "python",
   "name": "python3"
  },
  "language_info": {
   "codemirror_mode": {
    "name": "ipython",
    "version": 3
   },
   "file_extension": ".py",
   "mimetype": "text/x-python",
   "name": "python",
   "nbconvert_exporter": "python",
   "pygments_lexer": "ipython3",
   "version": "3.10.0"
  }
 },
 "nbformat": 4,
 "nbformat_minor": 5
}
