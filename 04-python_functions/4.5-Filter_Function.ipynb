{
 "cells": [
  {
   "cell_type": "markdown",
   "id": "9ea3e409",
   "metadata": {},
   "source": [
    "👉 filter() function kisi iterable (jaise list, tuple, etc.) ke elements ko filter karta hai,\n",
    "yaani sirf unhi elements ko rakhta hai jinke liye function True return karta hai."
   ]
  },
  {
   "cell_type": "markdown",
   "id": "49493b55",
   "metadata": {},
   "source": [
    "filter(function, iterable)\n",
    "function → ek function jo True ya False return kare\n",
    "\n",
    "iterable → list, tuple, etc.\n",
    "\n",
    "filter() bhi ek iterator (filter object) return karta hai, jise hum list() me convert karte hain."
   ]
  },
  {
   "cell_type": "code",
   "execution_count": 1,
   "id": "8c1792b3",
   "metadata": {},
   "outputs": [
    {
     "name": "stdout",
     "output_type": "stream",
     "text": [
      "[2, 4, 6]\n"
     ]
    }
   ],
   "source": [
    "def is_even(num):\n",
    "    return num % 2 == 0\n",
    "\n",
    "numbers = [1, 2, 3, 4, 5, 6]\n",
    "\n",
    "result = filter(is_even, numbers)\n",
    "print(list(result))\n"
   ]
  },
  {
   "cell_type": "code",
   "execution_count": 2,
   "id": "1d7e8c69",
   "metadata": {},
   "outputs": [
    {
     "name": "stdout",
     "output_type": "stream",
     "text": [
      "[25, 30]\n"
     ]
    }
   ],
   "source": [
    "numbers = [10, 15, 20, 25, 30]\n",
    "\n",
    "result = filter(lambda x: x > 20, numbers)\n",
    "print(list(result))\n"
   ]
  },
  {
   "cell_type": "markdown",
   "id": "32914eee",
   "metadata": {},
   "source": [
    "String list me se empty strings hatana"
   ]
  },
  {
   "cell_type": "code",
   "execution_count": 3,
   "id": "b6bb5bc0",
   "metadata": {},
   "outputs": [
    {
     "name": "stdout",
     "output_type": "stream",
     "text": [
      "['hello', 'python', 'world']\n"
     ]
    }
   ],
   "source": [
    "texts = [\"hello\", \"\", \"python\", \"\", \"world\"]\n",
    "\n",
    "result = filter(None, texts)\n",
    "print(list(result))\n"
   ]
  },
  {
   "cell_type": "markdown",
   "id": "ea9be90e",
   "metadata": {},
   "source": [
    "Words starting with a vowel"
   ]
  },
  {
   "cell_type": "code",
   "execution_count": 4,
   "id": "edf6017e",
   "metadata": {},
   "outputs": [
    {
     "name": "stdout",
     "output_type": "stream",
     "text": [
      "['apple', 'orange', 'umbrella']\n"
     ]
    }
   ],
   "source": [
    "words = [\"apple\", \"banana\", \"orange\", \"grape\", \"umbrella\"]\n",
    "\n",
    "result = filter(lambda w: w[0].lower() in 'aeiou', words)\n",
    "print(list(result))\n"
   ]
  },
  {
   "cell_type": "code",
   "execution_count": 1,
   "id": "470daaa5",
   "metadata": {},
   "outputs": [
    {
     "data": {
      "text/plain": [
       "[{'name': 'rashmi', 'age': 32}, {'name': 'aman', 'age': 33}]"
      ]
     },
     "execution_count": 1,
     "metadata": {},
     "output_type": "execute_result"
    }
   ],
   "source": [
    "## filter() to check if the age us grater than 2 in dictionaries \n",
    "people=[\n",
    "    {'name':'rashmi','age':32},\n",
    "    {'name':'aman','age':33},\n",
    "    {'name':'aman1','age':25},\n",
    "    {'name':'aman2','age':24}\n",
    "]\n",
    "def age_greater_than_25(person):\n",
    "    return person['age']>25\n",
    "\n",
    "list(filter(age_greater_than_25,people))"
   ]
  },
  {
   "cell_type": "code",
   "execution_count": null,
   "id": "5c1e6848",
   "metadata": {},
   "outputs": [],
   "source": []
  }
 ],
 "metadata": {
  "kernelspec": {
   "display_name": "data_env",
   "language": "python",
   "name": "python3"
  },
  "language_info": {
   "codemirror_mode": {
    "name": "ipython",
    "version": 3
   },
   "file_extension": ".py",
   "mimetype": "text/x-python",
   "name": "python",
   "nbconvert_exporter": "python",
   "pygments_lexer": "ipython3",
   "version": "3.10.0"
  }
 },
 "nbformat": 4,
 "nbformat_minor": 5
}
