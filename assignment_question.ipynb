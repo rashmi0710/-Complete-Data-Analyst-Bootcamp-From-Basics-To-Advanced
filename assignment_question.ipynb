{
 "cells": [
  {
   "cell_type": "markdown",
   "metadata": {},
   "source": [
    "# Lesson 1.2: Python Basics\n",
    "## Topics Covered:\n",
    "- Syntax and Semantics\n",
    "- Variables and Data Types\n",
    "- Basic Operators (Arithmetic, Comparison, Logical)\n"
   ]
  },
  {
   "cell_type": "markdown",
   "metadata": {},
   "source": [
    "## 1. Syntax and Semantics\n",
    "\n",
    "**Question 1:** Write a Python program to print \"Hello, World!\"."
   ]
  },
  {
   "cell_type": "code",
   "execution_count": 1,
   "metadata": {},
   "outputs": [
    {
     "name": "stdout",
     "output_type": "stream",
     "text": [
      "Hello, World!\n"
     ]
    }
   ],
   "source": [
    "print(\"Hello, World!\")"
   ]
  },
  {
   "cell_type": "markdown",
   "metadata": {},
   "source": [
    "**Question 2:** Write a Python program that takes a user input and prints it."
   ]
  },
  {
   "cell_type": "code",
   "execution_count": 4,
   "metadata": {},
   "outputs": [
    {
     "name": "stdout",
     "output_type": "stream",
     "text": [
      "<class 'str'> rashmi0710\n"
     ]
    }
   ],
   "source": [
    "name = str(input(\"please enter your user name below\"))\n",
    "print(type(name), name)"
   ]
  },
  {
   "cell_type": "markdown",
   "metadata": {},
   "source": [
    "**Question 3:** Write a Python program to check if a number is positive, negative, or zero."
   ]
  },
  {
   "cell_type": "code",
   "execution_count": 7,
   "metadata": {},
   "outputs": [
    {
     "name": "stdout",
     "output_type": "stream",
     "text": [
      "Number is zero or positive\n"
     ]
    }
   ],
   "source": [
    "num = int(input(\"Please enter number: \"))\n",
    "\n",
    "if num >= 0:\n",
    "    print(\"Number is zero or positive\")\n",
    "else:\n",
    "    print(\"Number is negative\")"
   ]
  },
  {
   "cell_type": "markdown",
   "metadata": {},
   "source": [
    "**Question 4:** Write a Python program to find the largest of three numbers."
   ]
  },
  {
   "cell_type": "code",
   "execution_count": 11,
   "metadata": {},
   "outputs": [
    {
     "name": "stdout",
     "output_type": "stream",
     "text": [
      "Largest number is: 7\n"
     ]
    }
   ],
   "source": [
    "# taking inputs\n",
    "a = int(input(\"Enter first number: \"))\n",
    "b = int(input(\"Enter second number: \"))\n",
    "c = int(input(\"Enter third number: \"))\n",
    "\n",
    "# logic\n",
    "if a >= b and a >= c:\n",
    "    print(\"Largest number is:\", a)\n",
    "elif b >= a and b >= c:\n",
    "    print(\"Largest number is:\", b)\n",
    "else:\n",
    "    print(\"Largest number is:\", c)"
   ]
  },
  {
   "cell_type": "markdown",
   "metadata": {},
   "source": [
    "**Question 5:** Write a Python program to calculate the factorial of a number."
   ]
  },
  {
   "cell_type": "code",
   "execution_count": 10,
   "metadata": {},
   "outputs": [
    {
     "name": "stdout",
     "output_type": "stream",
     "text": [
      "Factorial of 5 is: 120\n"
     ]
    }
   ],
   "source": [
    "num = int(input(\"Please enter the number for calculating factorial: \"))\n",
    "\n",
    "fact = 1\n",
    "n = num\n",
    "\n",
    "while n > 0:\n",
    "    fact = fact * n\n",
    "    n = n - 1\n",
    "\n",
    "print(\"Factorial of\", num, \"is:\", fact)\n"
   ]
  },
  {
   "cell_type": "markdown",
   "metadata": {},
   "source": [
    "## 2. Variables and Data Types\n",
    "\n",
    "**Question 6:** Create variables of different data types: integer, float, string, and boolean. Print their values and types."
   ]
  },
  {
   "cell_type": "code",
   "execution_count": 1,
   "metadata": {},
   "outputs": [
    {
     "name": "stdout",
     "output_type": "stream",
     "text": [
      "32 <class 'int'>\n",
      "IIIT Naya Raipur <class 'str'>\n",
      "76.8 <class 'float'>\n",
      "yes <class 'str'>\n"
     ]
    }
   ],
   "source": [
    "age = 32\n",
    "name_of_clg = \"IIIT Naya Raipur\"\n",
    "percentage_scored = 76.80\n",
    "is_Good_Student = \"yes\"\n",
    "\n",
    "print(age, type(age))\n",
    "print(name_of_clg, type(name_of_clg))\n",
    "print(percentage_scored, type(percentage_scored))\n",
    "print(is_Good_Student, type(is_Good_Student))"
   ]
  },
  {
   "cell_type": "markdown",
   "metadata": {},
   "source": [
    "**Question 7:** Write a Python program to swap the values of two variables."
   ]
  },
  {
   "cell_type": "code",
   "execution_count": null,
   "metadata": {},
   "outputs": [
    {
     "name": "stdout",
     "output_type": "stream",
     "text": [
      "5 8\n",
      "8 5\n"
     ]
    }
   ],
   "source": [
    "num1 = int(input(\"please enter frist number for swaping\"))\n",
    "num2 = int(input(\"please enter second number for swaping\"))\n",
    "print(num1, num2)\n",
    "num3 = num1\n",
    "num1 = num2\n",
    "num2 = num3\n",
    "print(num1, num2)"
   ]
  },
  {
   "cell_type": "markdown",
   "metadata": {},
   "source": [
    "**Question 8:** Write a Python program to convert Celsius to Fahrenheit."
   ]
  },
  {
   "cell_type": "code",
   "execution_count": null,
   "metadata": {},
   "outputs": [
    {
     "name": "stdout",
     "output_type": "stream",
     "text": [
      "132.8\n"
     ]
    }
   ],
   "source": [
    "celsius = int(input(\"please enter the celsius in degree\"))\n",
    "f = 9/5*celsius+32\n",
    "print(f)"
   ]
  },
  {
   "cell_type": "markdown",
   "metadata": {},
   "source": [
    "**Question 9:** Write a Python program to concatenate two strings."
   ]
  },
  {
   "cell_type": "code",
   "execution_count": 6,
   "metadata": {},
   "outputs": [
    {
     "name": "stdout",
     "output_type": "stream",
     "text": [
      "i feel so blessedfor everything i have in my life\n"
     ]
    }
   ],
   "source": [
    "# Your code here\n",
    "stringOne = \"i feel so blessed\"\n",
    "stringTwo = \"for everything i have in my life\"\n",
    "print(stringOne + stringTwo)"
   ]
  },
  {
   "cell_type": "markdown",
   "metadata": {},
   "source": [
    "**Question 10:** Write a Python program to check if a variable is of a specific data type."
   ]
  },
  {
   "cell_type": "code",
   "execution_count": 2,
   "metadata": {},
   "outputs": [
    {
     "name": "stdout",
     "output_type": "stream",
     "text": [
      "x is not an integer\n",
      "x is not a string\n"
     ]
    }
   ],
   "source": [
    "# x = input(\"please enter the value of x\")\n",
    "x = 5689.63\n",
    "# check if x is an integer\n",
    "if isinstance(x, int):\n",
    "    print(\"x is an integer\")\n",
    "else:\n",
    "    print(\"x is not an integer\")\n",
    "\n",
    "# check if x is a string\n",
    "if isinstance(x, str):\n",
    "    print(\"x is a string\")\n",
    "else:\n",
    "    print(\"x is not a string\")\n"
   ]
  },
  {
   "cell_type": "markdown",
   "metadata": {},
   "source": [
    "## 3. Basic Operators (Arithmetic, Comparison, Logical)\n",
    "\n",
    "**Question 11:** Write a Python program to perform arithmetic operations: addition, subtraction, multiplication, and division."
   ]
  },
  {
   "cell_type": "code",
   "execution_count": null,
   "metadata": {},
   "outputs": [],
   "source": [
    "# Your code here\n",
    "a = 2\n",
    "b = 6\n"
   ]
  },
  {
   "cell_type": "markdown",
   "metadata": {},
   "source": [
    "**Question 12:** Write a Python program to demonstrate comparison operators: equal to, not equal to, greater than, less than."
   ]
  },
  {
   "cell_type": "code",
   "execution_count": null,
   "metadata": {},
   "outputs": [],
   "source": [
    "# Demonstration of Comparison Operators\n",
    "\n",
    "a = 10\n",
    "b = 20\n",
    "\n",
    "print(\"a =\", a, \"b =\", b)\n",
    "\n",
    "# Equal to (==)\n",
    "print(\"a == b:\", a == b)\n",
    "\n",
    "# Not equal to (!=)\n",
    "print(\"a != b:\", a != b)\n",
    "\n",
    "# Greater than (>)\n",
    "print(\"a > b:\", a > b)\n",
    "\n",
    "# Less than (<)\n",
    "print(\"a < b:\", a < b)"
   ]
  },
  {
   "cell_type": "markdown",
   "metadata": {},
   "source": [
    "**Question 13:** Write a Python program to demonstrate logical operators: and, or, not."
   ]
  },
  {
   "cell_type": "code",
   "execution_count": null,
   "metadata": {},
   "outputs": [],
   "source": [
    "# Your code here\n",
    "# Demonstration of Logical Operators\n",
    "\n",
    "a = True\n",
    "b = False\n",
    "\n",
    "print(\"a =\", a, \"b =\", b)\n",
    "\n",
    "# Logical AND\n",
    "print(\"a and b:\", a and b)\n",
    "\n",
    "# Logical OR\n",
    "print(\"a or b:\", a or b)\n",
    "\n",
    "# Logical NOT\n",
    "print(\"not a:\", not a)\n",
    "print(\"not b:\", not b)\n"
   ]
  },
  {
   "cell_type": "markdown",
   "metadata": {},
   "source": [
    "**Question 14:** Write a Python program to calculate the square of a number."
   ]
  },
  {
   "cell_type": "code",
   "execution_count": 1,
   "metadata": {},
   "outputs": [
    {
     "name": "stdout",
     "output_type": "stream",
     "text": [
      "The square of 5.0 is 25.0\n"
     ]
    }
   ],
   "source": [
    "# Your code here\n",
    "# Program to calculate the square of a number\n",
    "\n",
    "# Taking input from the user\n",
    "num = float(input(\"Enter a number: \"))\n",
    "\n",
    "# Calculating square\n",
    "square = num ** 2  # You can also use num * num\n",
    "\n",
    "# Displaying the result\n",
    "print(\"The square of\", num, \"is\", square)\n"
   ]
  },
  {
   "cell_type": "markdown",
   "metadata": {},
   "source": [
    "**Question 15:** Write a Python program to check if a number is even or odd."
   ]
  },
  {
   "cell_type": "code",
   "execution_count": 4,
   "metadata": {},
   "outputs": [
    {
     "name": "stdout",
     "output_type": "stream",
     "text": [
      "6 is even\n"
     ]
    }
   ],
   "source": [
    "# Your code here\n",
    "# Program to check if a number is even or odd\n",
    "\n",
    "# Taking input from the user\n",
    "num = int(input(\"Enter a number: \"))\n",
    "\n",
    "# Checking even or odd\n",
    "if num % 2 == 0:\n",
    "    print(num, \"is even\")\n",
    "else:\n",
    "    print(num, \"is odd\")\n"
   ]
  },
  {
   "cell_type": "markdown",
   "metadata": {},
   "source": [
    "**Question 16:** Write a Python program to find the sum of the first n natural numbers."
   ]
  },
  {
   "cell_type": "code",
   "execution_count": 5,
   "metadata": {},
   "outputs": [
    {
     "name": "stdout",
     "output_type": "stream",
     "text": [
      "The sum of the first 8 natural numbers is: 36\n"
     ]
    }
   ],
   "source": [
    "# Your code here\n",
    "# Program to calculate sum of first n natural numbers\n",
    "\n",
    "# Taking input from the user\n",
    "n = int(input(\"Enter a positive integer n: \"))\n",
    "\n",
    "# Using formula: sum = n * (n + 1) / 2\n",
    "sum_n = n * (n + 1) // 2  # Using integer division\n",
    "\n",
    "print(\"The sum of the first\", n, \"natural numbers is:\", sum_n)\n"
   ]
  },
  {
   "cell_type": "markdown",
   "metadata": {},
   "source": [
    "**Question 17:** Write a Python program to check if a year is a leap year."
   ]
  },
  {
   "cell_type": "code",
   "execution_count": 6,
   "metadata": {},
   "outputs": [
    {
     "name": "stdout",
     "output_type": "stream",
     "text": [
      "4963 is not a leap year\n"
     ]
    }
   ],
   "source": [
    "# Taking input from the user\n",
    "year = int(input(\"Enter a year: \"))\n",
    "\n",
    "# Checking leap year conditions\n",
    "if (year % 4 == 0 and year % 100 != 0) or (year % 400 == 0):\n",
    "    print(year, \"is a leap year\")\n",
    "else:\n",
    "    print(year, \"is not a leap year\")"
   ]
  },
  {
   "cell_type": "markdown",
   "metadata": {},
   "source": [
    "**Question 18:** Write a Python program to reverse a string."
   ]
  },
  {
   "cell_type": "code",
   "execution_count": 7,
   "metadata": {},
   "outputs": [
    {
     "name": "stdout",
     "output_type": "stream",
     "text": [
      "Reversed string: IMHSAR\n"
     ]
    }
   ],
   "source": [
    "# Program to reverse a string\n",
    "\n",
    "# Taking input from the user\n",
    "string = input(\"Enter a string: \")\n",
    "\n",
    "# Reversing the string\n",
    "reversed_string = string[::-1]  # Using slicing\n",
    "\n",
    "# Displaying the result\n",
    "print(\"Reversed string:\", reversed_string)"
   ]
  },
  {
   "cell_type": "markdown",
   "metadata": {},
   "source": [
    "**Question 19:** Write a Python program to check if a string is a palindrome."
   ]
  },
  {
   "cell_type": "code",
   "execution_count": 8,
   "metadata": {},
   "outputs": [
    {
     "name": "stdout",
     "output_type": "stream",
     "text": [
      "\"MADAM\" is a palindrome\n"
     ]
    }
   ],
   "source": [
    "# Program to check if a string is a palindrome\n",
    "\n",
    "# Taking input from the user\n",
    "string = input(\"Enter a string: \")\n",
    "\n",
    "# Removing case sensitivity and spaces (optional)\n",
    "cleaned_string = string.replace(\" \", \"\").lower()\n",
    "\n",
    "# Checking palindrome\n",
    "if cleaned_string == cleaned_string[::-1]:\n",
    "    print(f'\"{string}\" is a palindrome')\n",
    "else:\n",
    "    print(f'\"{string}\" is not a palindrome')"
   ]
  },
  {
   "cell_type": "markdown",
   "metadata": {},
   "source": [
    "**Question 20:** Write a Python program to sort a list of numbers in ascending order."
   ]
  },
  {
   "cell_type": "code",
   "execution_count": 9,
   "metadata": {},
   "outputs": [
    {
     "name": "stdout",
     "output_type": "stream",
     "text": [
      "Numbers in ascending order: [1, 5, 6, 7, 8, 9]\n"
     ]
    }
   ],
   "source": [
    "# Taking input from the user\n",
    "numbers = input(\"Enter numbers separated by spaces: \").split()\n",
    "numbers = [int(num) for num in numbers]  # Convert each input to integer\n",
    "\n",
    "# Sorting the list in ascending order\n",
    "numbers.sort()  # or use sorted(numbers)\n",
    "\n",
    "# Displaying the sorted list\n",
    "print(\"Numbers in ascending order:\", numbers)\n"
   ]
  },
  {
   "cell_type": "code",
   "execution_count": null,
   "metadata": {},
   "outputs": [],
   "source": []
  }
 ],
 "metadata": {
  "kernelspec": {
   "display_name": "Python (data_env)",
   "language": "python",
   "name": "data_env"
  },
  "language_info": {
   "codemirror_mode": {
    "name": "ipython",
    "version": 3
   },
   "file_extension": ".py",
   "mimetype": "text/x-python",
   "name": "python",
   "nbconvert_exporter": "python",
   "pygments_lexer": "ipython3",
   "version": "3.10.0"
  }
 },
 "nbformat": 4,
 "nbformat_minor": 4
}
