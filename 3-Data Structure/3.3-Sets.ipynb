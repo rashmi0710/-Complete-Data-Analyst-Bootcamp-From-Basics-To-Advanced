{
 "cells": [
  {
   "cell_type": "markdown",
   "id": "ebd73238",
   "metadata": {},
   "source": [
    "Sets\n",
    "\n",
    "Sets are built-in data type in python used to store collections of unique items. They are unordered , meaning that the elements do not follow a specific order, and they do not allow duplicates elements. sets are useful for membershi tests, eliminating duplicates entries and performing mathematical set operations like union, intersection, and symmetric difference."
   ]
  },
  {
   "cell_type": "code",
   "execution_count": 1,
   "id": "7f8b7617",
   "metadata": {},
   "outputs": [
    {
     "name": "stdout",
     "output_type": "stream",
     "text": [
      "{1, 2, 3, 4, 5}\n",
      "<class 'set'>\n"
     ]
    }
   ],
   "source": [
    "#create a set \n",
    "my_set = {1,2,3,4,5}\n",
    "print(my_set)\n",
    "print(type(my_set))"
   ]
  },
  {
   "cell_type": "code",
   "execution_count": 2,
   "id": "cce30162",
   "metadata": {},
   "outputs": [
    {
     "name": "stdout",
     "output_type": "stream",
     "text": [
      "<class 'set'>\n"
     ]
    }
   ],
   "source": [
    "# directly class \n",
    "my_empty_set = set()\n",
    "print(type(my_empty_set))"
   ]
  },
  {
   "cell_type": "code",
   "execution_count": 5,
   "id": "b6e975ab",
   "metadata": {},
   "outputs": [
    {
     "name": "stdout",
     "output_type": "stream",
     "text": [
      "<class 'set'>\n",
      "{1, 2, 3, 4, 5}\n"
     ]
    }
   ],
   "source": [
    "set1 = set([1,2,3,4,5])\n",
    "print(type(set1))\n",
    "print(set1)"
   ]
  },
  {
   "cell_type": "code",
   "execution_count": 6,
   "id": "e4de4a69",
   "metadata": {},
   "outputs": [
    {
     "name": "stdout",
     "output_type": "stream",
     "text": [
      "{1, 2, 3, 4, 5, 7}\n",
      "{1, 2, 3, 4, 5, 7}\n"
     ]
    }
   ],
   "source": [
    "# basics sets operation \n",
    "# adding and removing elements\n",
    "\n",
    "set1.add(7)\n",
    "print(set1)\n",
    "set1.add(7)\n",
    "print(set1)\n"
   ]
  },
  {
   "cell_type": "code",
   "execution_count": 7,
   "id": "c77237c5",
   "metadata": {},
   "outputs": [
    {
     "name": "stdout",
     "output_type": "stream",
     "text": [
      "{1, 2, 4, 5, 7}\n"
     ]
    }
   ],
   "source": [
    "# removing the element from a set \n",
    "set1.remove(3)\n",
    "print(set1)"
   ]
  },
  {
   "cell_type": "code",
   "execution_count": 8,
   "id": "3ef561d9",
   "metadata": {},
   "outputs": [
    {
     "ename": "KeyError",
     "evalue": "8",
     "output_type": "error",
     "traceback": [
      "\u001b[1;31m---------------------------------------------------------------------------\u001b[0m",
      "\u001b[1;31mKeyError\u001b[0m                                  Traceback (most recent call last)",
      "Cell \u001b[1;32mIn[8], line 1\u001b[0m\n\u001b[1;32m----> 1\u001b[0m \u001b[43mset1\u001b[49m\u001b[38;5;241;43m.\u001b[39;49m\u001b[43mremove\u001b[49m\u001b[43m(\u001b[49m\u001b[38;5;241;43m8\u001b[39;49m\u001b[43m)\u001b[49m\n\u001b[0;32m      2\u001b[0m \u001b[38;5;28mprint\u001b[39m(set1)\n",
      "\u001b[1;31mKeyError\u001b[0m: 8"
     ]
    }
   ],
   "source": [
    "set1.remove(8)\n",
    "print(set1)"
   ]
  },
  {
   "cell_type": "code",
   "execution_count": 9,
   "id": "91e8afbd",
   "metadata": {},
   "outputs": [
    {
     "name": "stdout",
     "output_type": "stream",
     "text": [
      "{1, 2, 4, 5, 7}\n"
     ]
    }
   ],
   "source": [
    "set1.discard(8)\n",
    "print(set1)"
   ]
  },
  {
   "cell_type": "code",
   "execution_count": 10,
   "id": "5846b17a",
   "metadata": {},
   "outputs": [
    {
     "name": "stdout",
     "output_type": "stream",
     "text": [
      "1\n",
      "{2, 4, 5, 7}\n"
     ]
    }
   ],
   "source": [
    "# pop method \n",
    "removed_element = set1.pop()\n",
    "print(removed_element)\n",
    "print(set1)"
   ]
  },
  {
   "cell_type": "code",
   "execution_count": 11,
   "id": "a86a80a5",
   "metadata": {},
   "outputs": [
    {
     "name": "stdout",
     "output_type": "stream",
     "text": [
      "set()\n"
     ]
    }
   ],
   "source": [
    "# clear all the elements \n",
    "set1.clear()\n",
    "print(set1)"
   ]
  },
  {
   "cell_type": "code",
   "execution_count": 12,
   "id": "d42ff22f",
   "metadata": {},
   "outputs": [
    {
     "name": "stdout",
     "output_type": "stream",
     "text": [
      "True\n",
      "False\n"
     ]
    }
   ],
   "source": [
    "# set membership test\n",
    "my_st1 = {1,2,3,4,5,6}\n",
    "print(3 in my_st1)\n",
    "print(10 in my_st1)"
   ]
  },
  {
   "cell_type": "code",
   "execution_count": 13,
   "id": "376acb5d",
   "metadata": {},
   "outputs": [
    {
     "name": "stdout",
     "output_type": "stream",
     "text": [
      "{1, 2, 3, 4, 5, 6, 7, 8, 9}\n"
     ]
    }
   ],
   "source": [
    "# mathematical operation \n",
    "set11 = {1,2,3,4,5,6}\n",
    "set22 = {4,5,6,7,8,9}\n",
    "# union \n",
    "union_set = set11.union((set22))\n",
    "print(union_set)"
   ]
  },
  {
   "cell_type": "code",
   "execution_count": 14,
   "id": "5da9f31d",
   "metadata": {},
   "outputs": [
    {
     "name": "stdout",
     "output_type": "stream",
     "text": [
      "{4, 5, 6}\n"
     ]
    }
   ],
   "source": [
    "# intersection\n",
    "intersection_set = set11.intersection(set22)\n",
    "print(intersection_set)"
   ]
  },
  {
   "cell_type": "code",
   "execution_count": null,
   "id": "7f094eeb",
   "metadata": {},
   "outputs": [
    {
     "name": "stdout",
     "output_type": "stream",
     "text": [
      "{4, 5, 6}\n"
     ]
    }
   ],
   "source": [
    "set11.intersection_update(set22)\n",
    "print(set11)\n",
    "## it is updated in set11"
   ]
  },
  {
   "cell_type": "code",
   "execution_count": 16,
   "id": "49b0b647",
   "metadata": {},
   "outputs": [],
   "source": [
    "set11 = {1,2,3,4,5,6}\n",
    "set22 = {4,5,6,7,8,9}"
   ]
  },
  {
   "cell_type": "code",
   "execution_count": 18,
   "id": "7f223d26",
   "metadata": {},
   "outputs": [
    {
     "name": "stdout",
     "output_type": "stream",
     "text": [
      "{1, 2, 3}\n",
      "{8, 9, 7}\n"
     ]
    }
   ],
   "source": [
    "# difference\n",
    "\n",
    "print(set11.difference(set22))\n",
    "print(set22.difference(set11))\n"
   ]
  },
  {
   "cell_type": "code",
   "execution_count": 19,
   "id": "ba96abde",
   "metadata": {},
   "outputs": [
    {
     "name": "stdout",
     "output_type": "stream",
     "text": [
      "{1, 2, 3, 7, 8, 9}\n"
     ]
    }
   ],
   "source": [
    "# symmetric diffrence \n",
    "print(set11.symmetric_difference(set22))"
   ]
  },
  {
   "cell_type": "code",
   "execution_count": 23,
   "id": "31970532",
   "metadata": {},
   "outputs": [
    {
     "name": "stdout",
     "output_type": "stream",
     "text": [
      "False\n",
      "True\n"
     ]
    }
   ],
   "source": [
    "# sets method\n",
    "set1 = {1,2,3,4,5}\n",
    "set2={3,4,5}\n",
    "\n",
    "#is subset \n",
    "print(set1.issubset(set2))\n",
    "print(set1.issuperset(set2))"
   ]
  },
  {
   "cell_type": "code",
   "execution_count": 24,
   "id": "b77e2027",
   "metadata": {},
   "outputs": [
    {
     "data": {
      "text/plain": [
       "{1, 2, 3, 4, 5, 6}"
      ]
     },
     "execution_count": 24,
     "metadata": {},
     "output_type": "execute_result"
    }
   ],
   "source": [
    "lt = [1,2,2,3,4,5,6]\n",
    "set(lt)"
   ]
  },
  {
   "cell_type": "code",
   "execution_count": 25,
   "id": "9d7f77a9",
   "metadata": {},
   "outputs": [
    {
     "name": "stdout",
     "output_type": "stream",
     "text": [
      "{'rashmi', 'basics', 'carrer', 'in', 'my', 'analysts', 'i', 'is', 'am', 'learning', 'data', 'making', 'for', 'analyst', 'name', 'nd'}\n",
      "16\n"
     ]
    }
   ],
   "source": [
    "# counting unique words in text \n",
    "text = \"my name is rashmi nd i am learning data analysts basics for making my carrer in data analyst\"\n",
    "words = text.split()\n",
    "\n",
    "# convert list of words to set to get unique words \n",
    "unique_words = set(words)\n",
    "print(unique_words)\n",
    "print(len(unique_words))"
   ]
  },
  {
   "cell_type": "code",
   "execution_count": null,
   "id": "0f829477",
   "metadata": {},
   "outputs": [],
   "source": []
  }
 ],
 "metadata": {
  "kernelspec": {
   "display_name": "data_env",
   "language": "python",
   "name": "python3"
  },
  "language_info": {
   "codemirror_mode": {
    "name": "ipython",
    "version": 3
   },
   "file_extension": ".py",
   "mimetype": "text/x-python",
   "name": "python",
   "nbconvert_exporter": "python",
   "pygments_lexer": "ipython3",
   "version": "3.10.0"
  }
 },
 "nbformat": 4,
 "nbformat_minor": 5
}
