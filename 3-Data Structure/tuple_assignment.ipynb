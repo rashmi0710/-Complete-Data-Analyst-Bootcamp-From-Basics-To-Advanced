{
 "cells": [
  {
   "cell_type": "markdown",
   "id": "6cade624",
   "metadata": {},
   "source": [
    "# Module 3: Data Structures Assignments\n",
    "## Lesson 3.2: Tuples\n",
    "### Assignment 1: Creating and Accessing Tuples\n",
    "\n",
    "Create a tuple with the first 10 positive integers. Print the tuple.\n",
    "\n",
    "### Assignment 2: Accessing Tuple Elements\n",
    "\n",
    "Print the first, middle, and last elements of the tuple created in Assignment 1.\n",
    "\n",
    "### Assignment 3: Tuple Slicing\n",
    "\n",
    "Print the first three elements, the last three elements, and the elements from index 2 to 5 of the tuple created in Assignment 1.\n",
    "\n",
    "### Assignment 4: Nested Tuples\n",
    "\n",
    "Create a nested tuple representing a 3x3 matrix and print the matrix. Access and print the element at the second row and third column.\n",
    "\n",
    "### Assignment 5: Tuple Concatenation\n",
    "\n",
    "Concatenate two tuples: (1, 2, 3) and (4, 5, 6). Print the resulting tuple.\n",
    "\n",
    "### Assignment 6: Tuple Methods\n",
    "\n",
    "Create a tuple with duplicate elements and count the occurrences of an element. Find the index of the first occurrence of an element in the tuple.\n",
    "\n",
    "### Assignment 7: Unpacking Tuples\n",
    "\n",
    "Create a tuple with 5 elements and unpack it into 5 variables. Print the variables.\n",
    "\n",
    "### Assignment 8: Tuple Conversion\n",
    "\n",
    "Convert a list of the first 5 positive integers to a tuple. Print the tuple.\n",
    "\n",
    "### Assignment 9: Tuple of Tuples\n",
    "\n",
    "Create a tuple containing 3 tuples, each with 3 elements. Print the tuple of tuples.\n",
    "\n",
    "### Assignment 10: Tuple and List\n",
    "\n",
    "Create a tuple with the first 5 positive integers. Convert it to a list, append the number 6, and convert it back to a tuple. Print the resulting tuple.\n",
    "\n",
    "### Assignment 11: Tuple and String\n",
    "\n",
    "Create a tuple with the characters of a string. Join the tuple elements into a single string. Print the string.\n",
    "\n",
    "### Assignment 12: Tuple and Dictionary\n",
    "\n",
    "Create a dictionary with tuple keys and integer values. Print the dictionary.\n",
    "\n",
    "### Assignment 13: Nested Tuple Iteration\n",
    "\n",
    "Create a nested tuple and iterate over the elements, printing each element.\n",
    "\n",
    "### Assignment 14: Tuple and Set\n",
    "\n",
    "Create a tuple with duplicate elements. Convert it to a set to remove duplicates and print the resulting set.\n",
    "\n",
    "### Assignment 15: Tuple Functions\n",
    "\n",
    "Write functions that take a tuple and return the minimum, maximum, and sum of the elements. Print the results for a sample tuple."
   ]
  },
  {
   "cell_type": "code",
   "execution_count": 3,
   "metadata": {},
   "outputs": [],
   "source": [
    "t1 = tuple([1,2,3,4,5,6,7,8,9,10])\n"
   ]
  },
  {
   "cell_type": "code",
   "execution_count": 4,
   "id": "b51b47d0",
   "metadata": {},
   "outputs": [
    {
     "name": "stdout",
     "output_type": "stream",
     "text": [
      "1\n",
      "6\n",
      "(10, 9, 8, 7, 6, 5, 4, 3, 2, 1)\n"
     ]
    }
   ],
   "source": [
    "print(t1[0])\n",
    "print(t1[5])\n",
    "print(t1[::-1])\n"
   ]
  },
  {
   "cell_type": "code",
   "execution_count": 7,
   "id": "5390ac1b",
   "metadata": {},
   "outputs": [
    {
     "name": "stdout",
     "output_type": "stream",
     "text": [
      "(1, 2, 3)\n",
      "(7, 8, 9)\n",
      "(3, 4, 5)\n"
     ]
    }
   ],
   "source": [
    "print(t1[0:3])\n",
    "print(t1[-4:-1])\n",
    "print(t1[2:5])"
   ]
  },
  {
   "cell_type": "code",
   "execution_count": 4,
   "id": "9d053dd5",
   "metadata": {},
   "outputs": [
    {
     "name": "stdout",
     "output_type": "stream",
     "text": [
      "[(1, 2, 3, 4, 5, 6)]\n"
     ]
    }
   ],
   "source": [
    "t2 = tuple([1, 2, 3])\n",
    "t3 = tuple([4, 5, 6])\n",
    "print([t2+t3])"
   ]
  },
  {
   "cell_type": "code",
   "execution_count": 5,
   "id": "9b338152",
   "metadata": {},
   "outputs": [
    {
     "name": "stdout",
     "output_type": "stream",
     "text": [
      "2\n"
     ]
    }
   ],
   "source": [
    "t4 = tuple([1,2,3,4,5,6,7,8,9,1,2,3])\n",
    "print(t4.count(1))"
   ]
  },
  {
   "cell_type": "code",
   "execution_count": 6,
   "id": "276ba0c6",
   "metadata": {},
   "outputs": [
    {
     "name": "stdout",
     "output_type": "stream",
     "text": [
      "('a', 'b', 'c', 1, 2, 3, 4)\n"
     ]
    }
   ],
   "source": [
    "t5 = 'a', 'b', 'c', 1, 2, 3, 4\n",
    "print(t5) "
   ]
  },
  {
   "cell_type": "code",
   "execution_count": 9,
   "id": "f66c21c0",
   "metadata": {},
   "outputs": [
    {
     "name": "stdout",
     "output_type": "stream",
     "text": [
      "a\n",
      "b\n",
      "c\n"
     ]
    }
   ],
   "source": [
    "x, y, z, p, q, r, s= t5\n",
    "print(x)\n",
    "print(y)\n",
    "print(z)"
   ]
  },
  {
   "cell_type": "code",
   "execution_count": 10,
   "id": "e14f2890",
   "metadata": {},
   "outputs": [
    {
     "name": "stdout",
     "output_type": "stream",
     "text": [
      "(1, 2, 3, 4, 5) <class 'tuple'>\n"
     ]
    }
   ],
   "source": [
    "lst = [1,2,3,4,5]\n",
    "t6 = tuple(lst)\n",
    "print(t6,type(t6))"
   ]
  },
  {
   "cell_type": "code",
   "execution_count": 12,
   "id": "a59d4c4f",
   "metadata": {},
   "outputs": [
    {
     "name": "stdout",
     "output_type": "stream",
     "text": [
      "([1, 2, 3], ['x', 'y', 'z'], [7, 8, 9])\n"
     ]
    }
   ],
   "source": [
    "tu = tuple([[1,2,3],['x','y','z'],[7,8,9]])\n",
    "print(tu)"
   ]
  },
  {
   "cell_type": "code",
   "execution_count": 16,
   "id": "6c927174",
   "metadata": {},
   "outputs": [
    {
     "name": "stdout",
     "output_type": "stream",
     "text": [
      "[1, 4, 7, 8, 9, 6]\n"
     ]
    }
   ],
   "source": [
    "# Step 1: Define a tuple\n",
    "tup = (1, 4, 7, 8, 9)\n",
    "\n",
    "# Step 2: Convert tuple to list\n",
    "lst1 = list(tup)   # [1, 4, 7, 8, 9]\n",
    "\n",
    "# Step 3: Append 6\n",
    "lst1.append(6)\n",
    "\n",
    "print(lst1)  # [1, 4, 7, 8, 9, 6]"
   ]
  },
  {
   "cell_type": "code",
   "execution_count": 2,
   "id": "06637d6d",
   "metadata": {},
   "outputs": [
    {
     "name": "stdout",
     "output_type": "stream",
     "text": [
      "R A S H M I\n"
     ]
    }
   ],
   "source": [
    "tupChar = ('R','A','S','H','M','I')\n",
    "tupString = ' '.join(tupChar)\n",
    "print(tupString)"
   ]
  },
  {
   "cell_type": "code",
   "execution_count": 3,
   "id": "d2a2cc94",
   "metadata": {},
   "outputs": [
    {
     "name": "stdout",
     "output_type": "stream",
     "text": [
      "Dictionary with tuple keys: {(1, 2): 10, (3, 4): 20, (5, 6): 30}\n"
     ]
    }
   ],
   "source": [
    "# Dictionary with tuple keys and integer values\n",
    "dict_tup = {\n",
    "    (1, 2): 10,\n",
    "    (3, 4): 20,\n",
    "    (5, 6): 30\n",
    "}\n",
    "\n",
    "print(\"Dictionary with tuple keys:\", dict_tup)"
   ]
  },
  {
   "cell_type": "code",
   "execution_count": 4,
   "id": "2cebe033",
   "metadata": {},
   "outputs": [
    {
     "name": "stdout",
     "output_type": "stream",
     "text": [
      "Iterating over nested tuple:\n",
      "1 2 3 4 5 6 7 "
     ]
    }
   ],
   "source": [
    "# Nested tuple\n",
    "nested_tup = ((1, 2), (3, 4, 5), (6, 7))\n",
    "\n",
    "print(\"Iterating over nested tuple:\")\n",
    "for inner in nested_tup:\n",
    "    for element in inner:\n",
    "        print(element, end=\" \")\n"
   ]
  },
  {
   "cell_type": "code",
   "execution_count": 5,
   "id": "09160303",
   "metadata": {},
   "outputs": [
    {
     "name": "stdout",
     "output_type": "stream",
     "text": [
      "Set after removing duplicates: {1, 2, 3, 4, 5}\n"
     ]
    }
   ],
   "source": [
    "# Tuple with duplicate elements\n",
    "tup_with_duplicates = (1, 2, 2, 3, 4, 4, 5)\n",
    "\n",
    "# Convert to set (removes duplicates)\n",
    "unique_set = set(tup_with_duplicates)\n",
    "\n",
    "print(\"Set after removing duplicates:\", unique_set)\n"
   ]
  },
  {
   "cell_type": "code",
   "execution_count": 6,
   "id": "160b6adb",
   "metadata": {},
   "outputs": [
    {
     "name": "stdout",
     "output_type": "stream",
     "text": [
      "Tuple: (10, 5, 20, 15)\n",
      "Minimum: 5\n",
      "Maximum: 20\n",
      "Sum: 50\n"
     ]
    }
   ],
   "source": [
    "# Function to get min, max, sum of a tuple\n",
    "def tuple_stats(t):\n",
    "    return min(t), max(t), sum(t)\n",
    "\n",
    "sample_tup = (10, 5, 20, 15)\n",
    "\n",
    "min_val, max_val, sum_val = tuple_stats(sample_tup)\n",
    "\n",
    "print(\"Tuple:\", sample_tup)\n",
    "print(\"Minimum:\", min_val)\n",
    "print(\"Maximum:\", max_val)\n",
    "print(\"Sum:\", sum_val)\n"
   ]
  },
  {
   "cell_type": "code",
   "execution_count": null,
   "id": "1f919532",
   "metadata": {},
   "outputs": [],
   "source": []
  }
 ],
 "metadata": {
  "kernelspec": {
   "display_name": "data_env",
   "language": "python",
   "name": "python3"
  },
  "language_info": {
   "codemirror_mode": {
    "name": "ipython",
    "version": 3
   },
   "file_extension": ".py",
   "mimetype": "text/x-python",
   "name": "python",
   "nbconvert_exporter": "python",
   "pygments_lexer": "ipython3",
   "version": "3.10.0"
  }
 },
 "nbformat": 4,
 "nbformat_minor": 5
}
