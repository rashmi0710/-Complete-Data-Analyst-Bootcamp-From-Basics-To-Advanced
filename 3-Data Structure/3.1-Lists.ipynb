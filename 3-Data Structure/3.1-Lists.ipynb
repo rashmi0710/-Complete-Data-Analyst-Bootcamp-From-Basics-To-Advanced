{
 "cells": [
  {
   "cell_type": "markdown",
   "id": "71901fb2",
   "metadata": {},
   "source": [
    "List\n",
    "Lists are used to store multiple items in a single variable.\n",
    "\n",
    "Lists are one of 4 built-in data types in Python used to store collections of data, the other 3 are Tuple, Set, and Dictionary, all with different qualities and usage."
   ]
  },
  {
   "cell_type": "markdown",
   "id": "408a82b5",
   "metadata": {},
   "source": [
    "List Items\n",
    "List items are ordered, changeable, and allow duplicate values.\n",
    "\n",
    "List items are indexed, the first item has index [0], the second item has index [1] etc.\n",
    "\n",
    "lists are ordered, mutable colections of items\n",
    "\n",
    "they can contain items of diffrent data types"
   ]
  },
  {
   "cell_type": "code",
   "execution_count": 43,
   "id": "3c0fee2c",
   "metadata": {},
   "outputs": [
    {
     "name": "stdout",
     "output_type": "stream",
     "text": [
      "<class 'list'>\n"
     ]
    }
   ],
   "source": [
    "lst=[1,2,3,4,5]\n",
    "print(type(lst))"
   ]
  },
  {
   "cell_type": "code",
   "execution_count": 44,
   "id": "e1c75218",
   "metadata": {},
   "outputs": [
    {
     "name": "stdout",
     "output_type": "stream",
     "text": [
      "['rash', 'aman', 'nancy', 'ridhi', 1, 2, 3, 4]\n"
     ]
    }
   ],
   "source": [
    "name = [\"rash\",\"aman\",\"nancy\",\"ridhi\",1,2,3,4]\n",
    "print(name)"
   ]
  },
  {
   "cell_type": "code",
   "execution_count": 45,
   "id": "42891264",
   "metadata": {},
   "outputs": [
    {
     "name": "stdout",
     "output_type": "stream",
     "text": [
      "[1, 'hellow', 3.14, True]\n"
     ]
    }
   ],
   "source": [
    "mixed_list = [1,\"hellow\",3.14,True]\n",
    "print(mixed_list)"
   ]
  },
  {
   "cell_type": "code",
   "execution_count": 46,
   "id": "e3568630",
   "metadata": {},
   "outputs": [
    {
     "data": {
      "text/plain": [
       "'apple'"
      ]
     },
     "execution_count": 46,
     "metadata": {},
     "output_type": "execute_result"
    }
   ],
   "source": [
    "# accessing list item\n",
    "fruits = [\"apple\",\"banana\",\"cherry\",\"avocada\",\"gauva\"]\n",
    "fruits[0]"
   ]
  },
  {
   "cell_type": "code",
   "execution_count": 47,
   "id": "7098597d",
   "metadata": {},
   "outputs": [
    {
     "name": "stdout",
     "output_type": "stream",
     "text": [
      "apple\n",
      "cherry\n",
      "gauva\n",
      "gauva\n"
     ]
    }
   ],
   "source": [
    "print(fruits[0])\n",
    "print(fruits[2])\n",
    "print(fruits[4])\n",
    "print(fruits[-1])"
   ]
  },
  {
   "cell_type": "code",
   "execution_count": 48,
   "id": "d3461692",
   "metadata": {},
   "outputs": [
    {
     "name": "stdout",
     "output_type": "stream",
     "text": [
      "['banana', 'cherry', 'avocada', 'gauva']\n",
      "['banana', 'cherry', 'avocada']\n",
      "['banana', 'cherry']\n"
     ]
    }
   ],
   "source": [
    "print(fruits[1:])\n",
    "print(fruits[1:4])\n",
    "print(fruits[1:3])"
   ]
  },
  {
   "cell_type": "code",
   "execution_count": 49,
   "id": "7b5c6e92",
   "metadata": {},
   "outputs": [
    {
     "data": {
      "text/plain": [
       "['apple', 'banana', 'cherry', 'avocada', 'gauva']"
      ]
     },
     "execution_count": 49,
     "metadata": {},
     "output_type": "execute_result"
    }
   ],
   "source": [
    "# modifying list elements \n",
    "fruits"
   ]
  },
  {
   "cell_type": "code",
   "execution_count": 50,
   "id": "b00e51ec",
   "metadata": {},
   "outputs": [],
   "source": [
    "fruits[1]=\"watermelon\""
   ]
  },
  {
   "cell_type": "code",
   "execution_count": 51,
   "id": "f3d55afe",
   "metadata": {},
   "outputs": [
    {
     "data": {
      "text/plain": [
       "['apple', 'watermelon', 'cherry', 'avocada', 'gauva']"
      ]
     },
     "execution_count": 51,
     "metadata": {},
     "output_type": "execute_result"
    }
   ],
   "source": [
    "fruits"
   ]
  },
  {
   "cell_type": "code",
   "execution_count": 52,
   "id": "47d5dff3",
   "metadata": {},
   "outputs": [
    {
     "data": {
      "text/plain": [
       "['apple', 'w', 'a', 't', 'e', 'r', 'm', 'e', 'l', 'o', 'n']"
      ]
     },
     "execution_count": 52,
     "metadata": {},
     "output_type": "execute_result"
    }
   ],
   "source": [
    "fruits[1:]=\"watermelon\"\n",
    "fruits"
   ]
  },
  {
   "cell_type": "code",
   "execution_count": 53,
   "id": "28b6de9e",
   "metadata": {},
   "outputs": [],
   "source": [
    "fruits = [\"apple\",\"banana\",\"cherry\",\"avocada\",\"gauva\"]"
   ]
  },
  {
   "cell_type": "code",
   "execution_count": 54,
   "id": "0349b36c",
   "metadata": {},
   "outputs": [
    {
     "name": "stdout",
     "output_type": "stream",
     "text": [
      "['apple', 'banana', 'cherry', 'avocada', 'gauva', 'banana', 'orange']\n"
     ]
    }
   ],
   "source": [
    "# list methods\n",
    "fruits.append(\"banana\")\n",
    "fruits.append(\"orange\") #add an item to the end\n",
    "print(fruits)\n"
   ]
  },
  {
   "cell_type": "code",
   "execution_count": 55,
   "id": "fc96db66",
   "metadata": {},
   "outputs": [],
   "source": [
    "fruits.insert(1,\"nimbu\") "
   ]
  },
  {
   "cell_type": "code",
   "execution_count": 56,
   "id": "3e574943",
   "metadata": {},
   "outputs": [
    {
     "data": {
      "text/plain": [
       "['apple', 'nimbu', 'banana', 'cherry', 'avocada', 'gauva', 'banana', 'orange']"
      ]
     },
     "execution_count": 56,
     "metadata": {},
     "output_type": "execute_result"
    }
   ],
   "source": [
    "fruits"
   ]
  },
  {
   "cell_type": "code",
   "execution_count": 57,
   "id": "a938ae05",
   "metadata": {},
   "outputs": [],
   "source": [
    "fruits.remove(\"nimbu\") #removing the frist occurance of an item"
   ]
  },
  {
   "cell_type": "code",
   "execution_count": 58,
   "id": "0b662a6c",
   "metadata": {},
   "outputs": [],
   "source": [
    "fruits.remove(\"banana\")"
   ]
  },
  {
   "cell_type": "code",
   "execution_count": 59,
   "id": "7c1fe4d7",
   "metadata": {},
   "outputs": [
    {
     "name": "stdout",
     "output_type": "stream",
     "text": [
      "orange\n"
     ]
    }
   ],
   "source": [
    "# remove and return the last \n",
    "popped_fruits=fruits.pop()\n",
    "print(popped_fruits)\n"
   ]
  },
  {
   "cell_type": "code",
   "execution_count": 60,
   "id": "bcf13a70",
   "metadata": {},
   "outputs": [
    {
     "name": "stdout",
     "output_type": "stream",
     "text": [
      "['apple', 'cherry', 'avocada', 'gauva', 'banana']\n"
     ]
    }
   ],
   "source": [
    "print(fruits)"
   ]
  },
  {
   "cell_type": "code",
   "execution_count": 61,
   "id": "dbb903fc",
   "metadata": {},
   "outputs": [
    {
     "name": "stdout",
     "output_type": "stream",
     "text": [
      "1\n"
     ]
    }
   ],
   "source": [
    "index = fruits.index(\"cherry\")\n",
    "print(index)"
   ]
  },
  {
   "cell_type": "code",
   "execution_count": 62,
   "id": "0590c902",
   "metadata": {},
   "outputs": [
    {
     "name": "stdout",
     "output_type": "stream",
     "text": [
      "2\n"
     ]
    }
   ],
   "source": [
    "fruits.insert(2,\"banana\")\n",
    "print(fruits.count(\"banana\"))"
   ]
  },
  {
   "cell_type": "code",
   "execution_count": 63,
   "id": "f146ae6e",
   "metadata": {},
   "outputs": [
    {
     "name": "stdout",
     "output_type": "stream",
     "text": [
      "['apple', 'avocada', 'banana', 'banana', 'cherry', 'gauva']\n"
     ]
    }
   ],
   "source": [
    "fruits.sort() # sort the list in asending order\n",
    "print(fruits)"
   ]
  },
  {
   "cell_type": "code",
   "execution_count": 64,
   "id": "d3d4c9f6",
   "metadata": {},
   "outputs": [
    {
     "data": {
      "text/plain": [
       "['apple', 'avocada', 'banana', 'banana', 'cherry', 'gauva']"
      ]
     },
     "execution_count": 64,
     "metadata": {},
     "output_type": "execute_result"
    }
   ],
   "source": [
    "fruits.reverse # it will reverse the list\n",
    "fruits"
   ]
  },
  {
   "cell_type": "code",
   "execution_count": 65,
   "id": "872684ab",
   "metadata": {},
   "outputs": [
    {
     "name": "stdout",
     "output_type": "stream",
     "text": [
      "[]\n"
     ]
    }
   ],
   "source": [
    "fruits.clear()\n",
    "print(fruits)"
   ]
  },
  {
   "cell_type": "code",
   "execution_count": 66,
   "id": "eccec550",
   "metadata": {},
   "outputs": [
    {
     "name": "stdout",
     "output_type": "stream",
     "text": [
      "[3, 4, 5]\n",
      "[1, 2, 3, 4, 5]\n",
      "[6, 7, 8, 9, 10]\n",
      "[1, 3, 5, 7, 9]\n",
      "[10, 9, 8, 7, 6, 5, 4, 3, 2, 1]\n"
     ]
    }
   ],
   "source": [
    "# slicing list\n",
    "number = [1,2,3,4,5,6,7,8,9,10]\n",
    "print(number[2:5])\n",
    "print(number[:5])\n",
    "print(number[5:])\n",
    "print(number[::2])\n",
    "print(number[::-1])"
   ]
  },
  {
   "cell_type": "code",
   "execution_count": 67,
   "id": "1bab0cc7",
   "metadata": {},
   "outputs": [
    {
     "name": "stdout",
     "output_type": "stream",
     "text": [
      "[1, 2, 3, 4, 5, 6, 7, 8, 9, 10]\n"
     ]
    }
   ],
   "source": [
    "print(number[::])"
   ]
  },
  {
   "cell_type": "code",
   "execution_count": 68,
   "id": "00305458",
   "metadata": {},
   "outputs": [
    {
     "name": "stdout",
     "output_type": "stream",
     "text": [
      "[1, 4, 7, 10]\n"
     ]
    }
   ],
   "source": [
    "print(number[::3])"
   ]
  },
  {
   "cell_type": "code",
   "execution_count": 69,
   "id": "ec0a0eec",
   "metadata": {},
   "outputs": [
    {
     "name": "stdout",
     "output_type": "stream",
     "text": [
      "[10, 8, 6, 4, 2]\n"
     ]
    }
   ],
   "source": [
    "print(number[::-2])"
   ]
  },
  {
   "cell_type": "code",
   "execution_count": 71,
   "id": "c6fc59ad",
   "metadata": {},
   "outputs": [
    {
     "name": "stdout",
     "output_type": "stream",
     "text": [
      "1\n",
      "2\n",
      "3\n",
      "4\n",
      "5\n",
      "6\n",
      "7\n",
      "8\n",
      "9\n",
      "10\n"
     ]
    }
   ],
   "source": [
    "## iterating over list\n",
    "for n in number:\n",
    "    print(n)"
   ]
  },
  {
   "cell_type": "code",
   "execution_count": 72,
   "id": "b1b2eaa4",
   "metadata": {},
   "outputs": [
    {
     "name": "stdout",
     "output_type": "stream",
     "text": [
      "0 1\n",
      "1 2\n",
      "2 3\n",
      "3 4\n",
      "4 5\n",
      "5 6\n",
      "6 7\n",
      "7 8\n",
      "8 9\n",
      "9 10\n"
     ]
    }
   ],
   "source": [
    "# iterating with index\n",
    "for index,n in enumerate(number):\n",
    "    print(index,n)"
   ]
  },
  {
   "cell_type": "code",
   "execution_count": null,
   "id": "0aa02b19",
   "metadata": {},
   "outputs": [
    {
     "name": "stdout",
     "output_type": "stream",
     "text": [
      "[0, 1, 4, 9, 16, 25, 36, 49, 64, 81]\n"
     ]
    }
   ],
   "source": [
    "# list comprehension \n",
    "lst = []\n",
    "for x in range(10):\n",
    "    lst.append(x**2)\n",
    "print(lst)\n",
    "#this will require more list"
   ]
  },
  {
   "cell_type": "code",
   "execution_count": 2,
   "id": "a0e18c65",
   "metadata": {},
   "outputs": [
    {
     "name": "stdout",
     "output_type": "stream",
     "text": [
      "[1, 4, 9, 16, 25]\n"
     ]
    }
   ],
   "source": [
    "lst1 = [i * i for i in range(1, 6)]\n",
    "print(lst1) "
   ]
  },
  {
   "cell_type": "markdown",
   "id": "e94216ba",
   "metadata": {},
   "source": [
    "[expression for item in iterable if condition]\n",
    "\n",
    "\n",
    "expression → kya karna hai (e.g. i*i)\n",
    "\n",
    "item → ek ek element (e.g. i)\n",
    "\n",
    "iterable → kis pe loop chalana hai (e.g. range(1,6))\n",
    "\n",
    "if condition (optional) → filter karna ho to"
   ]
  },
  {
   "cell_type": "code",
   "execution_count": 3,
   "id": "6d998408",
   "metadata": {},
   "outputs": [
    {
     "name": "stdout",
     "output_type": "stream",
     "text": [
      "[0, 1, 4, 9, 16, 25, 36, 49, 64, 81]\n"
     ]
    }
   ],
   "source": [
    "# basic list comphrension\n",
    "square=[num**2 for num in range(10)]\n",
    "print(square)"
   ]
  },
  {
   "cell_type": "code",
   "execution_count": 4,
   "id": "e98086a5",
   "metadata": {},
   "outputs": [
    {
     "name": "stdout",
     "output_type": "stream",
     "text": [
      "[0, 2, 4, 6, 8]\n"
     ]
    }
   ],
   "source": [
    "# list comphrension for even number\n",
    "lst=[]\n",
    "for i in range(10):\n",
    "    if i%2==0:\n",
    "        lst.append(i)\n",
    "print(lst)"
   ]
  },
  {
   "cell_type": "code",
   "execution_count": 6,
   "id": "4c6a5582",
   "metadata": {},
   "outputs": [
    {
     "name": "stdout",
     "output_type": "stream",
     "text": [
      "[0, 2, 4, 6, 8]\n"
     ]
    }
   ],
   "source": [
    "even_number=[num for num in range(10) if num%2==0]\n",
    "print(even_number)"
   ]
  },
  {
   "cell_type": "code",
   "execution_count": 7,
   "id": "08c0f5ec",
   "metadata": {},
   "outputs": [
    {
     "name": "stdout",
     "output_type": "stream",
     "text": [
      "[(1, 'a'), (1, 'b'), (1, 'c'), (1, 'd'), (2, 'a'), (2, 'b'), (2, 'c'), (2, 'd'), (3, 'a'), (3, 'b'), (3, 'c'), (3, 'd'), (4, 'a'), (4, 'b'), (4, 'c'), (4, 'd')]\n"
     ]
    }
   ],
   "source": [
    "# nested list comphrension\n",
    "# Nested list comprehension ka use tab hota hai jab tumhe ek loop ke andar ek aur loop chalana ho, aur dono ka result ek hi line mai likhna ho.\n",
    "lst1=[1,2,3,4]\n",
    "lst2=['a','b','c','d']\n",
    "pair = [(i,j) for i in lst1 for j in lst2]\n",
    "print(pair)"
   ]
  },
  {
   "cell_type": "code",
   "execution_count": null,
   "id": "4e12dfaf",
   "metadata": {},
   "outputs": [],
   "source": [
    "# list comprehension with function calls\n",
    "\n"
   ]
  }
 ],
 "metadata": {
  "kernelspec": {
   "display_name": "Python (data_env)",
   "language": "python",
   "name": "data_env"
  },
  "language_info": {
   "codemirror_mode": {
    "name": "ipython",
    "version": 3
   },
   "file_extension": ".py",
   "mimetype": "text/x-python",
   "name": "python",
   "nbconvert_exporter": "python",
   "pygments_lexer": "ipython3",
   "version": "3.10.0"
  }
 },
 "nbformat": 4,
 "nbformat_minor": 5
}
