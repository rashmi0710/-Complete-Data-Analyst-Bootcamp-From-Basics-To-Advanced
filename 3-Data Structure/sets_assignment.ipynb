{
 "cells": [
  {
   "cell_type": "markdown",
   "metadata": {},
   "source": [
    "# Module 3: Data Structures Assignments\n",
    "## Lesson 3.3: Sets\n",
    "### Assignment 1: Creating and Accessing Sets\n",
    "\n",
    "Create a set with the first 10 positive integers. Print the set.\n",
    "\n",
    "### Assignment 2: Adding and Removing Elements\n",
    "\n",
    "Add the number 11 to the set created in Assignment 1. Then remove the number 1 from the set. Print the modified set.\n",
    "\n",
    "### Assignment 3: Set Operations\n",
    "\n",
    "Create two sets: one with the first 5 positive integers and another with the first 5 even integers. Perform and print the results of union, intersection, difference, and symmetric difference operations on these sets.\n",
    "\n",
    "### Assignment 4: Set Comprehensions\n",
    "\n",
    "Create a new set containing the squares of the first 10 positive integers using a set comprehension. Print the new set.\n",
    "\n",
    "### Assignment 5: Filtering Sets\n",
    "\n",
    "Create a new set containing only the even numbers from the set created in Assignment 1 using a set comprehension. Print the new set.\n",
    "\n",
    "### Assignment 6: Set Methods\n",
    "\n",
    "Create a set with duplicate elements and remove the duplicates using set methods. Print the modified set.\n",
    "\n",
    "### Assignment 7: Subsets and Supersets\n",
    "\n",
    "Create two sets: one with the first 5 positive integers and another with the first 3 positive integers. Check if the second set is a subset of the first set and if the first set is a superset of the second set. Print the results.\n",
    "\n",
    "### Assignment 8: Frozenset\n",
    "\n",
    "Create a frozenset with the first 5 positive integers. Print the frozenset.\n",
    "\n",
    "### Assignment 9: Set and List Conversion\n",
    "\n",
    "Create a set with the first 5 positive integers. Convert it to a list, append the number 6, and convert it back to a set. Print the resulting set.\n",
    "\n",
    "### Assignment 10: Set and Dictionary\n",
    "\n",
    "Create a dictionary with set keys and integer values. Print the dictionary.\n",
    "\n",
    "### Assignment 11: Iterating Over Sets\n",
    "\n",
    "Create a set and iterate over the elements, printing each element.\n",
    "\n",
    "### Assignment 12: Removing Elements from Sets\n",
    "\n",
    "Create a set and remove elements from it until it is empty. Print the set after each removal.\n",
    "\n",
    "### Assignment 13: Set Symmetric Difference Update\n",
    "\n",
    "Create two sets and update the first set with the symmetric difference of the two sets. Print the modified first set.\n",
    "\n",
    "### Assignment 14: Set Membership Testing\n",
    "\n",
    "Create a set and test if certain elements are present in the set. Print the results.\n",
    "\n",
    "### Assignment 15: Set of Tuples\n",
    "\n",
    "Create a set containing tuples, where each tuple contains two elements. Print the set."
   ]
  },
  {
   "cell_type": "code",
   "execution_count": 1,
   "id": "96c462be",
   "metadata": {},
   "outputs": [
    {
     "name": "stdout",
     "output_type": "stream",
     "text": [
      "{1, 2, 3, 4, 5, 6, 7, 8, 9, 10}\n"
     ]
    }
   ],
   "source": [
    "# Create a set with the first 10 positive integers. Print the set.\n",
    "setNumber = set()\n",
    "for i in range(1,11):\n",
    "    setNumber.add(i)\n",
    "print(setNumber)"
   ]
  },
  {
   "cell_type": "code",
   "execution_count": 2,
   "id": "ab73e885",
   "metadata": {},
   "outputs": [
    {
     "name": "stdout",
     "output_type": "stream",
     "text": [
      "{2, 3, 4, 5, 6, 7, 8, 9, 10, 11}\n"
     ]
    }
   ],
   "source": [
    "# Add the number 11 to the set created in Assignment 1. Then remove the number 1 from the set. Print the modified set.\n",
    "setNumber.add(11)\n",
    "setNumber.remove(1)\n",
    "print(setNumber)"
   ]
  },
  {
   "cell_type": "code",
   "execution_count": 4,
   "id": "260e1fdc",
   "metadata": {},
   "outputs": [
    {
     "name": "stdout",
     "output_type": "stream",
     "text": [
      "{1, 2, 3, 4, 5, 6, 8, 10}\n",
      "{2, 4}\n",
      "{1, 3, 5}\n",
      "{8, 10, 6}\n",
      "{1, 3, 5, 6, 8, 10}\n"
     ]
    }
   ],
   "source": [
    "# Create two sets: one with the first 5 positive integers and another with the first 5 even integers. Perform and print the results of union, intersection, difference, and symmetric difference operations on these sets.\n",
    "set_one = {1,2,3,4,5}\n",
    "set_two = {2,4,6,8,10}\n",
    "\n",
    "# union \n",
    "print(set_one.union(set_two))\n",
    "\n",
    "# intersection\n",
    "print(set_one.intersection(set_two))\n",
    "\n",
    "# diffrence\n",
    "print(set_one.difference(set_two))\n",
    "print(set_two.difference(set_one))\n",
    "\n",
    "# symmetric\n",
    "print(set_one.symmetric_difference(set_two))"
   ]
  },
  {
   "cell_type": "code",
   "execution_count": 5,
   "id": "6b7c9790",
   "metadata": {},
   "outputs": [
    {
     "name": "stdout",
     "output_type": "stream",
     "text": [
      "{0, 1, 64, 4, 36, 9, 16, 49, 81, 25}\n"
     ]
    }
   ],
   "source": [
    "# Create a new set containing the squares of the first 10 positive integers using a set comprehension. Print the new set.\n",
    "square = {x*x for x in range(10)}\n",
    "print(square)"
   ]
  },
  {
   "cell_type": "code",
   "execution_count": 7,
   "id": "4e1aebaf",
   "metadata": {},
   "outputs": [
    {
     "name": "stdout",
     "output_type": "stream",
     "text": [
      "{2, 4, 6, 8, 10}\n"
     ]
    }
   ],
   "source": [
    "# Create a new set containing only the even numbers from the set created in Assignment 1 using a set comprehension. Print the new set.\n",
    "evenNumberSet = {x for x in setNumber if x%2==0}\n",
    "print(evenNumberSet)"
   ]
  },
  {
   "cell_type": "code",
   "execution_count": 8,
   "id": "e2aad49f",
   "metadata": {},
   "outputs": [
    {
     "name": "stdout",
     "output_type": "stream",
     "text": [
      "Original list with duplicates: [1, 2, 2, 3, 4, 4, 5, 5]\n",
      "Modified set without duplicates: {1, 2, 3, 4, 5}\n"
     ]
    }
   ],
   "source": [
    "# Create a set with duplicate elements and remove the duplicates using set methods. Print the modified set.\n",
    "# Create a set with duplicate elements\n",
    "nums = [1, 2, 2, 3, 4, 4, 5, 5]\n",
    "\n",
    "# Convert list to set (removes duplicates automatically)\n",
    "unique_set = set(nums)\n",
    "\n",
    "print(\"Original list with duplicates:\", nums)\n",
    "print(\"Modified set without duplicates:\", unique_set)\n"
   ]
  },
  {
   "cell_type": "code",
   "execution_count": 9,
   "id": "940deca6",
   "metadata": {},
   "outputs": [
    {
     "name": "stdout",
     "output_type": "stream",
     "text": [
      "Set1: {1, 2, 3, 4, 5}\n",
      "Set2: {1, 2, 3}\n",
      "Is Set2 a subset of Set1? True\n",
      "Is Set1 a superset of Set2? True\n"
     ]
    }
   ],
   "source": [
    "# Create two sets: one with the first 5 positive integers and another with the first 3 positive integers. Check if the second set is a subset of the first set and if the first set is a superset of the second set. Print the results.\n",
    "# Create two sets\n",
    "set1 = {1, 2, 3, 4, 5}   # first 5 positive integers\n",
    "set2 = {1, 2, 3}         # first 3 positive integers\n",
    "\n",
    "# Check subset and superset\n",
    "is_subset = set2.issubset(set1)\n",
    "is_superset = set1.issuperset(set2)\n",
    "\n",
    "# Print results\n",
    "print(\"Set1:\", set1)\n",
    "print(\"Set2:\", set2)\n",
    "print(\"Is Set2 a subset of Set1?\", is_subset)\n",
    "print(\"Is Set1 a superset of Set2?\", is_superset)\n"
   ]
  },
  {
   "cell_type": "code",
   "execution_count": 10,
   "id": "dfcf1ace",
   "metadata": {},
   "outputs": [
    {
     "name": "stdout",
     "output_type": "stream",
     "text": [
      "Frozenset: frozenset({1, 2, 3, 4, 5})\n"
     ]
    }
   ],
   "source": [
    "# Create a frozenset with the first 5 positive integers. Print the frozenset.\n",
    "\n",
    "# frozenset (an immutable set – once created, you can’t add or remove elements).\n",
    "# Create a frozenset with first 5 positive integers\n",
    "fset = frozenset([1, 2, 3, 4, 5])\n",
    "\n",
    "# Print the frozenset\n",
    "print(\"Frozenset:\", fset)\n"
   ]
  },
  {
   "cell_type": "code",
   "execution_count": 11,
   "id": "2e12f55d",
   "metadata": {},
   "outputs": [
    {
     "name": "stdout",
     "output_type": "stream",
     "text": [
      "Resulting set: {1, 2, 3, 4, 5, 6}\n"
     ]
    }
   ],
   "source": [
    "# Create a set with the first 5 positive integers. Convert it to a list, append the number 6, and convert it back to a set. Print the resulting set.\n",
    "# Create a set with first 5 positive integers\n",
    "s = {1, 2, 3, 4, 5}\n",
    "\n",
    "# Convert set to list\n",
    "lst = list(s)\n",
    "\n",
    "# Append number 6\n",
    "lst.append(6)\n",
    "\n",
    "# Convert back to set\n",
    "s = set(lst)\n",
    "\n",
    "# Print the resulting set\n",
    "print(\"Resulting set:\", s)\n"
   ]
  },
  {
   "cell_type": "code",
   "execution_count": 12,
   "id": "0a5d1818",
   "metadata": {},
   "outputs": [
    {
     "name": "stdout",
     "output_type": "stream",
     "text": [
      "Dictionary with frozenset keys: {frozenset({1, 2}): 10, frozenset({3, 4}): 20, frozenset({5, 6}): 30}\n"
     ]
    }
   ],
   "source": [
    "# Create a dictionary with set keys and integer values. Print the dictionary.\n",
    "# Dictionary with frozenset keys and integer values\n",
    "dict_with_fset = {\n",
    "    frozenset({1, 2}): 10,\n",
    "    frozenset({3, 4}): 20,\n",
    "    frozenset({5, 6}): 30\n",
    "}\n",
    "\n",
    "print(\"Dictionary with frozenset keys:\", dict_with_fset)\n"
   ]
  },
  {
   "cell_type": "code",
   "execution_count": 13,
   "id": "6ec10058",
   "metadata": {},
   "outputs": [
    {
     "name": "stdout",
     "output_type": "stream",
     "text": [
      "Elements in the set:\n",
      "50\n",
      "20\n",
      "40\n",
      "10\n",
      "30\n"
     ]
    }
   ],
   "source": [
    "# Create a set and iterate over the elements, printing each element.\n",
    "# Create a set\n",
    "my_set = {10, 20, 30, 40, 50}\n",
    "\n",
    "# Iterate and print each element\n",
    "print(\"Elements in the set:\")\n",
    "for element in my_set:\n",
    "    print(element)\n"
   ]
  },
  {
   "cell_type": "code",
   "execution_count": 14,
   "metadata": {},
   "outputs": [
    {
     "name": "stdout",
     "output_type": "stream",
     "text": [
      "Original set: {1, 2, 3, 4, 5}\n",
      "After removal: {2, 3, 4, 5}\n",
      "After removal: {3, 4, 5}\n",
      "After removal: {4, 5}\n",
      "After removal: {5}\n",
      "After removal: set()\n"
     ]
    }
   ],
   "source": [
    "# Create a set and remove elements from it until it is empty. Print the set after each removal.\n",
    "# Create a set\n",
    "my_set = {1, 2, 3, 4, 5}\n",
    "\n",
    "print(\"Original set:\", my_set)\n",
    "\n",
    "# Keep removing until empty\n",
    "while my_set:\n",
    "    my_set.pop()          # removes one random element\n",
    "    print(\"After removal:\", my_set)\n",
    "\n"
   ]
  },
  {
   "cell_type": "code",
   "execution_count": 15,
   "metadata": {},
   "outputs": [
    {
     "name": "stdout",
     "output_type": "stream",
     "text": [
      "Modified set1 after symmetric difference update: {1, 2, 3, 6, 7}\n"
     ]
    }
   ],
   "source": [
    "\n",
    "# Create two sets and update the first set with the symmetric difference of the two sets. Print the modified first set.\n",
    "# Create two sets\n",
    "set1 = {1, 2, 3, 4, 5}\n",
    "set2 = {4, 5, 6, 7}\n",
    "\n",
    "# Update set1 with symmetric difference of set1 and set2\n",
    "set1.symmetric_difference_update(set2)\n",
    "\n",
    "# Print modified set1\n",
    "print(\"Modified set1 after symmetric difference update:\", set1)\n"
   ]
  },
  {
   "cell_type": "code",
   "execution_count": 16,
   "metadata": {},
   "outputs": [
    {
     "name": "stdout",
     "output_type": "stream",
     "text": [
      "20 is present in the set\n",
      "25 is NOT present in the set\n",
      "50 is present in the set\n",
      "60 is NOT present in the set\n"
     ]
    }
   ],
   "source": [
    "# Create a set and test if certain elements are present in the set. Print the results.\n",
    "# Create a set\n",
    "my_set = {10, 20, 30, 40, 50}\n",
    "\n",
    "# Elements to test\n",
    "test_elements = [20, 25, 50, 60]\n",
    "\n",
    "# Check if elements are present\n",
    "for elem in test_elements:\n",
    "    if elem in my_set:\n",
    "        print(f\"{elem} is present in the set\")\n",
    "    else:\n",
    "        print(f\"{elem} is NOT present in the set\")\n"
   ]
  },
  {
   "cell_type": "code",
   "execution_count": 17,
   "metadata": {},
   "outputs": [
    {
     "name": "stdout",
     "output_type": "stream",
     "text": [
      "Set containing tuples: {(1, 2), (3, 4), (5, 6)}\n"
     ]
    }
   ],
   "source": [
    "# Create a set containing tuples, where each tuple contains two elements. Print the set.\n",
    "\n",
    "# Create a set containing tuples\n",
    "set_of_tuples = {(1, 2), (3, 4), (5, 6)}\n",
    "\n",
    "# Print the set\n",
    "print(\"Set containing tuples:\", set_of_tuples)\n"
   ]
  },
  {
   "cell_type": "code",
   "execution_count": null,
   "metadata": {},
   "outputs": [],
   "source": []
  },
  {
   "cell_type": "code",
   "execution_count": null,
   "metadata": {},
   "outputs": [],
   "source": []
  },
  {
   "cell_type": "code",
   "execution_count": null,
   "metadata": {},
   "outputs": [],
   "source": []
  },
  {
   "cell_type": "code",
   "execution_count": null,
   "id": "3a07fc6c",
   "metadata": {},
   "outputs": [],
   "source": []
  },
  {
   "cell_type": "code",
   "execution_count": null,
   "metadata": {},
   "outputs": [],
   "source": []
  }
 ],
 "metadata": {
  "kernelspec": {
   "display_name": "data_env",
   "language": "python",
   "name": "python3"
  },
  "language_info": {
   "codemirror_mode": {
    "name": "ipython",
    "version": 3
   },
   "file_extension": ".py",
   "mimetype": "text/x-python",
   "name": "python",
   "nbconvert_exporter": "python",
   "pygments_lexer": "ipython3",
   "version": "3.10.0"
  }
 },
 "nbformat": 4,
 "nbformat_minor": 5
}
