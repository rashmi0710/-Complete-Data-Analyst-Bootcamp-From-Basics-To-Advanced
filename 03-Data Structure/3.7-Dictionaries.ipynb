{
 "cells": [
  {
   "cell_type": "markdown",
   "id": "053dbf77",
   "metadata": {},
   "source": [
    "introduction to dictionaries \n",
    "\n",
    "dictionaries are unordered collections of items. they store data in key-value pairs. keys must be unique and immutable."
   ]
  },
  {
   "cell_type": "code",
   "execution_count": 1,
   "id": "dca106df",
   "metadata": {},
   "outputs": [
    {
     "name": "stdout",
     "output_type": "stream",
     "text": [
      "<class 'dict'>\n"
     ]
    }
   ],
   "source": [
    "# creating dictionaries\n",
    "empty_dict = {}\n",
    "print(type(empty_dict))"
   ]
  },
  {
   "cell_type": "code",
   "execution_count": 2,
   "id": "518adf72",
   "metadata": {},
   "outputs": [
    {
     "data": {
      "text/plain": [
       "{}"
      ]
     },
     "execution_count": 2,
     "metadata": {},
     "output_type": "execute_result"
    }
   ],
   "source": [
    "empty_dict = dict()\n",
    "empty_dict"
   ]
  },
  {
   "cell_type": "code",
   "execution_count": 3,
   "id": "8bdf23a3",
   "metadata": {},
   "outputs": [
    {
     "name": "stdout",
     "output_type": "stream",
     "text": [
      "{'name': 'Rashmi', 'age': 23, 'grade': 24}\n",
      "<class 'dict'>\n"
     ]
    }
   ],
   "source": [
    "student = {\"name\":\"Rashmi\",\n",
    "           \"age\":23,\n",
    "           \"grade\":24}\n",
    "print(student)\n",
    "print(type(student))"
   ]
  },
  {
   "cell_type": "code",
   "execution_count": null,
   "id": "596b1906",
   "metadata": {},
   "outputs": [
    {
     "name": "stdout",
     "output_type": "stream",
     "text": [
      "{'name': 24, 'age': 23}\n"
     ]
    }
   ],
   "source": [
    "# error\n",
    "student = {\"name\":\"Rashmi\",\n",
    "           \"age\":23,\n",
    "           \"name\":24}\n",
    "print(student)\n",
    "# keys should be unique always "
   ]
  },
  {
   "cell_type": "code",
   "execution_count": 5,
   "id": "fe14e09d",
   "metadata": {},
   "outputs": [
    {
     "name": "stdout",
     "output_type": "stream",
     "text": [
      "{'name': 'Rashmi', 'age': 23, 'grade': 'A'}\n"
     ]
    }
   ],
   "source": [
    "# accessing Dictionary elements\n",
    "student = {\"name\":\"Rashmi\",\n",
    "           \"age\":23,\n",
    "           \"grade\":'A'}\n",
    "print(student)"
   ]
  },
  {
   "cell_type": "code",
   "execution_count": 8,
   "id": "5242211c",
   "metadata": {},
   "outputs": [
    {
     "name": "stdout",
     "output_type": "stream",
     "text": [
      "A\n",
      "23\n",
      "A\n",
      "None\n",
      "Not Available\n"
     ]
    }
   ],
   "source": [
    "print(student['grade'])\n",
    "print(student['age'])\n",
    "\n",
    "# accessing using get() methos \n",
    "print(student.get('grade'))\n",
    "print(student.get('last_name'))\n",
    "print(student.get('last_name',\"Not Available\"))"
   ]
  },
  {
   "cell_type": "code",
   "execution_count": 9,
   "id": "f21b6bd8",
   "metadata": {},
   "outputs": [
    {
     "name": "stdout",
     "output_type": "stream",
     "text": [
      "{'name': 'Rashmi', 'age': 23, 'grade': 'A'}\n"
     ]
    }
   ],
   "source": [
    "# modifying dictionary elemeny \n",
    "# dictionary are mutable so you can add, update or delete elements \n",
    "print(student)"
   ]
  },
  {
   "cell_type": "code",
   "execution_count": null,
   "id": "1e1ac74a",
   "metadata": {},
   "outputs": [
    {
     "name": "stdout",
     "output_type": "stream",
     "text": [
      "{'name': 'Rashmi', 'age': 33, 'grade': 'A'}\n",
      "{'name': 'Rashmi', 'age': 33, 'grade': 'A', 'address': 'India'}\n"
     ]
    }
   ],
   "source": [
    "student[\"age\"] = 33 #updated value for the key\n",
    "print(student)\n",
    "student[\"address\"]=\"India\" #added a new key and value pair\n",
    "print(student)"
   ]
  },
  {
   "cell_type": "code",
   "execution_count": 11,
   "id": "fcbc8dde",
   "metadata": {},
   "outputs": [],
   "source": [
    "# deleting the key \n",
    "\n",
    "del student['grade'] "
   ]
  },
  {
   "cell_type": "code",
   "execution_count": 12,
   "id": "0f16d226",
   "metadata": {},
   "outputs": [
    {
     "name": "stdout",
     "output_type": "stream",
     "text": [
      "{'name': 'Rashmi', 'age': 33, 'address': 'India'}\n"
     ]
    }
   ],
   "source": [
    "print(student)"
   ]
  },
  {
   "cell_type": "code",
   "execution_count": 13,
   "id": "0cbc42cc",
   "metadata": {},
   "outputs": [
    {
     "name": "stdout",
     "output_type": "stream",
     "text": [
      "dict_keys(['name', 'age', 'address'])\n",
      "dict_values(['Rashmi', 33, 'India'])\n",
      "dict_items([('name', 'Rashmi'), ('age', 33), ('address', 'India')])\n"
     ]
    }
   ],
   "source": [
    "## common dictionary methods \n",
    "\n",
    "keys= student.keys()\n",
    "print(keys)\n",
    "values = student.values()\n",
    "print(values)\n",
    "\n",
    "items = student.items()\n",
    "print(items)"
   ]
  },
  {
   "cell_type": "code",
   "execution_count": 14,
   "id": "9bcf4697",
   "metadata": {},
   "outputs": [
    {
     "name": "stdout",
     "output_type": "stream",
     "text": [
      "{'name': 'Rashmi', 'age': 33, 'address': 'India'}\n",
      "{'name': 'Rashmi', 'age': 33, 'address': 'India'}\n"
     ]
    }
   ],
   "source": [
    "#shallow copy \n",
    "student_copy = student\n",
    "print(student)\n",
    "print(student_copy)"
   ]
  },
  {
   "cell_type": "code",
   "execution_count": 15,
   "id": "8f27ccd7",
   "metadata": {},
   "outputs": [
    {
     "name": "stdout",
     "output_type": "stream",
     "text": [
      "{'name': 'rashiya', 'age': 33, 'address': 'India'}\n",
      "{'name': 'rashiya', 'age': 33, 'address': 'India'}\n"
     ]
    }
   ],
   "source": [
    "student[\"name\"] = \"rashiya\"\n",
    "print(student)\n",
    "print(student_copy)"
   ]
  },
  {
   "cell_type": "code",
   "execution_count": 16,
   "id": "a27d92b2",
   "metadata": {},
   "outputs": [
    {
     "name": "stdout",
     "output_type": "stream",
     "text": [
      "{'name': 'rashiya', 'age': 33, 'address': 'India'}\n",
      "{'name': 'rashiya', 'age': 33, 'address': 'India'}\n"
     ]
    }
   ],
   "source": [
    "student_copy1 = student.copy() ##shallow copy \n",
    "print(student_copy1)\n",
    "print(student)"
   ]
  },
  {
   "cell_type": "code",
   "execution_count": 17,
   "id": "d39bafa2",
   "metadata": {},
   "outputs": [
    {
     "name": "stdout",
     "output_type": "stream",
     "text": [
      "{'name': 'rashmii', 'age': 33, 'address': 'India'}\n",
      "{'name': 'rashiya', 'age': 33, 'address': 'India'}\n"
     ]
    }
   ],
   "source": [
    "student[\"name\"] = \"rashmii\"\n",
    "print(student)\n",
    "print(student_copy1)"
   ]
  },
  {
   "cell_type": "code",
   "execution_count": 18,
   "id": "b824408d",
   "metadata": {},
   "outputs": [
    {
     "name": "stdout",
     "output_type": "stream",
     "text": [
      "name\n",
      "age\n",
      "address\n"
     ]
    }
   ],
   "source": [
    "### iterating over dictionaries \n",
    "### you can use loops to iterate over dictionetries , key, values or items \n",
    "\n",
    "##iterating over keys \n",
    "for keys in student.keys():\n",
    "    print(keys)"
   ]
  },
  {
   "cell_type": "code",
   "execution_count": 20,
   "id": "7ab09d46",
   "metadata": {},
   "outputs": [
    {
     "name": "stdout",
     "output_type": "stream",
     "text": [
      "rashmii\n",
      "33\n",
      "India\n"
     ]
    }
   ],
   "source": [
    "for value in student.values():\n",
    "    print(value)"
   ]
  },
  {
   "cell_type": "code",
   "execution_count": 22,
   "id": "c760eb10",
   "metadata": {},
   "outputs": [
    {
     "name": "stdout",
     "output_type": "stream",
     "text": [
      "name:rashmii\n",
      "age:33\n",
      "address:India\n"
     ]
    }
   ],
   "source": [
    "# iterate over key value pairs \n",
    "for key,value in student .items():\n",
    "    print(f\"{key}:{value}\")"
   ]
  },
  {
   "cell_type": "code",
   "execution_count": 23,
   "id": "416d91f8",
   "metadata": {},
   "outputs": [
    {
     "name": "stdout",
     "output_type": "stream",
     "text": [
      "student1: {'name': 'Rashmi', 'age': 20, 'grade': 'A', 'marks': {'Math': 95, 'English': 88, 'Science': 92}}\n",
      "student2: {'name': 'Dev', 'age': 21, 'grade': 'B', 'marks': {'Math': 85, 'English': 78, 'Science': 82}}\n",
      "student3: {'name': 'Raju', 'age': 19, 'grade': 'A+', 'marks': {'Math': 98, 'English': 92, 'Science': 96}}\n"
     ]
    }
   ],
   "source": [
    "# Nested dictionary of students\n",
    "students = {\n",
    "    \"student1\": {\n",
    "        \"name\": \"Rashmi\",\n",
    "        \"age\": 20,\n",
    "        \"grade\": \"A\",\n",
    "        \"marks\": {\"Math\": 95, \"English\": 88, \"Science\": 92}\n",
    "    },\n",
    "    \"student2\": {\n",
    "        \"name\": \"Dev\",\n",
    "        \"age\": 21,\n",
    "        \"grade\": \"B\",\n",
    "        \"marks\": {\"Math\": 85, \"English\": 78, \"Science\": 82}\n",
    "    },\n",
    "    \"student3\": {\n",
    "        \"name\": \"Raju\",\n",
    "        \"age\": 19,\n",
    "        \"grade\": \"A+\",\n",
    "        \"marks\": {\"Math\": 98, \"English\": 92, \"Science\": 96}\n",
    "    }\n",
    "}\n",
    "\n",
    "# Print the nested dictionary\n",
    "for key, value in students.items():\n",
    "    print(f\"{key}: {value}\")\n"
   ]
  },
  {
   "cell_type": "code",
   "execution_count": 24,
   "id": "3e72cac3",
   "metadata": {},
   "outputs": [
    {
     "name": "stdout",
     "output_type": "stream",
     "text": [
      "Rashmi\n",
      "21\n"
     ]
    }
   ],
   "source": [
    "# access nested dictionaries elements \n",
    "print(students[\"student1\"][\"name\"])\n",
    "print(students[\"student2\"][\"age\"])"
   ]
  },
  {
   "cell_type": "code",
   "execution_count": 25,
   "id": "0ccc13ff",
   "metadata": {},
   "outputs": [
    {
     "name": "stdout",
     "output_type": "stream",
     "text": [
      "student1:{'name': 'Rashmi', 'age': 20, 'grade': 'A', 'marks': {'Math': 95, 'English': 88, 'Science': 92}}\n",
      "name:Rashmi\n",
      "age:20\n",
      "grade:A\n",
      "marks:{'Math': 95, 'English': 88, 'Science': 92}\n",
      "student2:{'name': 'Dev', 'age': 21, 'grade': 'B', 'marks': {'Math': 85, 'English': 78, 'Science': 82}}\n",
      "name:Dev\n",
      "age:21\n",
      "grade:B\n",
      "marks:{'Math': 85, 'English': 78, 'Science': 82}\n",
      "student3:{'name': 'Raju', 'age': 19, 'grade': 'A+', 'marks': {'Math': 98, 'English': 92, 'Science': 96}}\n",
      "name:Raju\n",
      "age:19\n",
      "grade:A+\n",
      "marks:{'Math': 98, 'English': 92, 'Science': 96}\n"
     ]
    }
   ],
   "source": [
    "## iterating over nested dictionaries \n",
    "for student_id,student_info in students.items():\n",
    "    print(f\"{student_id}:{student_info}\")\n",
    "    for key,value in student_info.items():\n",
    "        print(f\"{key}:{value}\")"
   ]
  },
  {
   "cell_type": "code",
   "execution_count": 28,
   "id": "aca3e86c",
   "metadata": {},
   "outputs": [
    {
     "name": "stdout",
     "output_type": "stream",
     "text": [
      "{1: 1, 2: 4, 3: 9, 4: 16, 5: 25, 6: 36, 7: 49, 8: 64, 9: 81, 10: 100}\n"
     ]
    }
   ],
   "source": [
    "# Create dictionary of squares from 1 to 10\n",
    "square = {x: x**2 for x in range(1, 11)}\n",
    "\n",
    "# Print the dictionary\n",
    "print(square)\n"
   ]
  },
  {
   "cell_type": "code",
   "execution_count": 29,
   "id": "a2852911",
   "metadata": {},
   "outputs": [
    {
     "name": "stdout",
     "output_type": "stream",
     "text": [
      "{2: 4, 4: 16, 6: 36, 8: 64, 10: 100}\n"
     ]
    }
   ],
   "source": [
    "even_squares = {x: x**2 for x in range(1, 11) if x % 2 == 0}\n",
    "print(even_squares)\n"
   ]
  },
  {
   "cell_type": "code",
   "execution_count": null,
   "id": "b67b4c26",
   "metadata": {},
   "outputs": [],
   "source": [
    "# practical examples\n",
    "\n",
    "## use a dictionary to count the frequncy of elements in list \n",
    "\n",
    "numbers = [1,2,2,3,3,4,4,4]\n",
    "frequency = {}\n",
    "for number in numbers:\n",
    "    if number in frequency:\n",
    "        frequency[number]+=1\n",
    "    else:\n",
    "        frequency[number]=1\n",
    "\n"
   ]
  },
  {
   "cell_type": "code",
   "execution_count": 31,
   "id": "f3db5c53",
   "metadata": {},
   "outputs": [
    {
     "name": "stdout",
     "output_type": "stream",
     "text": [
      "{1: 1, 2: 2, 3: 2, 4: 3}\n"
     ]
    }
   ],
   "source": [
    "print(frequency)"
   ]
  },
  {
   "cell_type": "code",
   "execution_count": 33,
   "id": "2db7a092",
   "metadata": {},
   "outputs": [
    {
     "name": "stdout",
     "output_type": "stream",
     "text": [
      "{'a': 1, 'b': 2, 'c': 3, 'd': 4}\n"
     ]
    }
   ],
   "source": [
    "# merger 2 dictionary into one \n",
    "\n",
    "dict1 = {\"a\":1, \"b\":2}\n",
    "dict2= {\"c\":3,\"d\":4}\n",
    "merged_dict={**dict1,**dict2}\n",
    "print(merged_dict)"
   ]
  },
  {
   "cell_type": "code",
   "execution_count": null,
   "id": "3f1fcde8",
   "metadata": {},
   "outputs": [],
   "source": []
  }
 ],
 "metadata": {
  "kernelspec": {
   "display_name": "data_env",
   "language": "python",
   "name": "python3"
  },
  "language_info": {
   "codemirror_mode": {
    "name": "ipython",
    "version": 3
   },
   "file_extension": ".py",
   "mimetype": "text/x-python",
   "name": "python",
   "nbconvert_exporter": "python",
   "pygments_lexer": "ipython3",
   "version": "3.10.0"
  }
 },
 "nbformat": 4,
 "nbformat_minor": 5
}
