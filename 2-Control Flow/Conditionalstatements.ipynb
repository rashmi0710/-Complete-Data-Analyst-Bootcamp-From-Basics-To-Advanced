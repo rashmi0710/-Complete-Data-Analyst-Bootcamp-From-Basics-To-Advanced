{
 "cells": [
  {
   "cell_type": "markdown",
   "id": "cd501c52",
   "metadata": {},
   "source": [
    "if statement"
   ]
  },
  {
   "cell_type": "code",
   "execution_count": 1,
   "id": "7f539fe9",
   "metadata": {},
   "outputs": [
    {
     "name": "stdout",
     "output_type": "stream",
     "text": [
      "you allowed to vote in election\n"
     ]
    }
   ],
   "source": [
    "age = 20 \n",
    "if age>=18:\n",
    "    print(\"you allowed to vote in election\")"
   ]
  },
  {
   "cell_type": "markdown",
   "id": "5fe7f183",
   "metadata": {},
   "source": [
    "else statement\n",
    "The else statement in Python is used to define a block of code that executes when a certain condition is not met. It is commonly used with if statements and loops."
   ]
  },
  {
   "cell_type": "code",
   "execution_count": 2,
   "id": "bb03cf30",
   "metadata": {},
   "outputs": [
    {
     "name": "stdout",
     "output_type": "stream",
     "text": [
      "You are an adult.\n"
     ]
    }
   ],
   "source": [
    "age = 19\n",
    "\n",
    "if age >= 18:\n",
    "    print(\"You are an adult.\")\n",
    "else:\n",
    "    print(\"You are a minor.\")\n"
   ]
  },
  {
   "cell_type": "markdown",
   "id": "648edfc5",
   "metadata": {},
   "source": [
    "elif means “else if”.\n",
    "\n",
    "It lets you check multiple conditions in sequence.\n",
    "\n",
    "Only the first condition that is True will run; the rest are skipped.\n",
    "\n",
    "If none of the conditions are True, the optional else block runs."
   ]
  },
  {
   "cell_type": "markdown",
   "id": "09f66774",
   "metadata": {},
   "source": [
    "<!-- if condition1:\n",
    "    # runs if condition1 is True\n",
    "elif condition2:\n",
    "    # runs if condition2 is True\n",
    "elif condition3:\n",
    "    # runs if condition3 is True\n",
    "else:\n",
    "    # runs if none of the above conditions are True -->\n"
   ]
  },
  {
   "cell_type": "code",
   "execution_count": 2,
   "id": "29c419dc",
   "metadata": {},
   "outputs": [
    {
     "name": "stdout",
     "output_type": "stream",
     "text": [
      "Grade: C\n"
     ]
    }
   ],
   "source": [
    "marks = int(input(\"Enter your marks: \"))\n",
    "\n",
    "if marks >= 90:\n",
    "    print(\"Grade: A\")\n",
    "elif marks >= 75:\n",
    "    print(\"Grade: B\")\n",
    "elif marks >= 50:\n",
    "    print(\"Grade: C\")\n",
    "else:\n",
    "    print(\"Grade: F\")\n"
   ]
  },
  {
   "cell_type": "markdown",
   "id": "11bfcfac",
   "metadata": {},
   "source": [
    "nested conditional statement"
   ]
  },
  {
   "cell_type": "markdown",
   "id": "ebc6458f",
   "metadata": {},
   "source": [
    "It simply means:\n",
    "\n",
    "A loop inside a loop (nested loop)\n",
    "\n",
    "That also contains conditional statements (if, elif, else) inside it.\n",
    "\n",
    "So, you’re combining loops and conditions together."
   ]
  },
  {
   "cell_type": "code",
   "execution_count": 4,
   "id": "c47191b8",
   "metadata": {},
   "outputs": [
    {
     "name": "stdout",
     "output_type": "stream",
     "text": [
      "1 is Odd\n",
      "2 is Even\n",
      "3 is Odd\n",
      "4 is Even\n",
      "5 is Odd\n"
     ]
    }
   ],
   "source": [
    "# Loop through numbers and check even/odd\n",
    "for i in range(1, 6):   # Outer loop\n",
    "    if i % 2 == 0:      # Condition inside loop\n",
    "        print(i, \"is Even\")\n",
    "    else:\n",
    "        print(i, \"is Odd\")\n"
   ]
  },
  {
   "cell_type": "code",
   "execution_count": 5,
   "id": "f786a91a",
   "metadata": {},
   "outputs": [
    {
     "name": "stdout",
     "output_type": "stream",
     "text": [
      "1 x 1 = 1 (Odd)\n",
      "1 x 2 = 2 (Even)\n",
      "1 x 3 = 3 (Odd)\n",
      "2 x 1 = 2 (Even)\n",
      "2 x 2 = 4 (Even)\n",
      "2 x 3 = 6 (Even)\n",
      "3 x 1 = 3 (Odd)\n",
      "3 x 2 = 6 (Even)\n",
      "3 x 3 = 9 (Odd)\n"
     ]
    }
   ],
   "source": [
    "# Multiplication table with condition\n",
    "for i in range(1, 4):       # Outer loop\n",
    "    for j in range(1, 4):   # Inner loop\n",
    "        product = i * j\n",
    "        if product % 2 == 0:    # Conditional inside nested loop\n",
    "            print(f\"{i} x {j} = {product} (Even)\")\n",
    "        else:\n",
    "            print(f\"{i} x {j} = {product} (Odd)\")\n"
   ]
  },
  {
   "cell_type": "code",
   "execution_count": null,
   "id": "24ac2b6e",
   "metadata": {},
   "outputs": [],
   "source": []
  }
 ],
 "metadata": {
  "kernelspec": {
   "display_name": "data_env",
   "language": "python",
   "name": "python3"
  },
  "language_info": {
   "codemirror_mode": {
    "name": "ipython",
    "version": 3
   },
   "file_extension": ".py",
   "mimetype": "text/x-python",
   "name": "python",
   "nbconvert_exporter": "python",
   "pygments_lexer": "ipython3",
   "version": "3.10.0"
  }
 },
 "nbformat": 4,
 "nbformat_minor": 5
}
