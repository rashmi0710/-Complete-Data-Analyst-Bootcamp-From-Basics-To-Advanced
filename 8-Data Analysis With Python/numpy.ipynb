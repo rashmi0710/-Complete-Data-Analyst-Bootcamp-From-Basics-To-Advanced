{
 "cells": [
  {
   "cell_type": "markdown",
   "id": "0c17a9ab",
   "metadata": {},
   "source": [
    "NumPy (Numerical Python) is a Python library that provides support for efficient numerical operations on\n",
    "large, multi-dimensional arrays and serves as a fundamental building block for data analysis in Python. The\n",
    "conventional alias for importing NumPy is np. In other words, NumPy is imported as import numpy as np.\n",
    "NumPy implements the ndarray object, which allows the creation of a multi-dimensional array of\n",
    "homogeneous data types (columns with the same data type) and efficient data processing. An ndarray object\n",
    "can have any number of dimensions and can store elements of various numeric data types. To create a NumPy\n",
    "ndarray object, one of the following options can be used:\n",
    "\n",
    "\n",
    "• Creating an ndarray by converting a Python list or tuple using the np.array() function.\n",
    "\n",
    "\n",
    "• Using built-in functions like np.zeros() and np.ones() for creating an array of all 0's or all 1's,\n",
    "respectively.\n",
    "\n",
    "\n",
    "• Generating an array with random numbers using np.random.rand(n, m), where n and m are the\n",
    "number of rows and columns, respectively.\n",
    "\n",
    "\n",
    "• Loading data from a file. Ex: np.genfromtxt('data.csv', delimiter=',')"
   ]
  },
  {
   "cell_type": "code",
   "execution_count": 2,
   "id": "66b5d0d8",
   "metadata": {},
   "outputs": [],
   "source": [
    "import numpy as np \n"
   ]
  },
  {
   "cell_type": "markdown",
   "id": "cb82e676",
   "metadata": {},
   "source": [
    "->how to create arrays using numpy"
   ]
  },
  {
   "cell_type": "code",
   "execution_count": null,
   "id": "2080ffd6",
   "metadata": {},
   "outputs": [
    {
     "name": "stdout",
     "output_type": "stream",
     "text": [
      "[1 2 3 4 5]\n",
      "<class 'numpy.ndarray'>\n",
      "(5,)\n"
     ]
    }
   ],
   "source": [
    "# 1D arrays\n",
    "arr1=np.array([1,2,3,4,5])\n",
    "print(arr1)\n",
    "print(type(arr1))\n",
    "print(arr1.shape)"
   ]
  },
  {
   "cell_type": "code",
   "execution_count": null,
   "id": "a7ea1e83",
   "metadata": {},
   "outputs": [
    {
     "data": {
      "text/plain": [
       "array([[1, 2, 3, 4, 5]])"
      ]
     },
     "execution_count": 7,
     "metadata": {},
     "output_type": "execute_result"
    }
   ],
   "source": [
    "# 2d array\n",
    "arr2=np.array([1,2,3,4,5])\n",
    "arr2.reshape(1,5) #1 roe and 5 columns "
   ]
  },
  {
   "cell_type": "code",
   "execution_count": 3,
   "id": "6e8f91e0",
   "metadata": {},
   "outputs": [
    {
     "name": "stdout",
     "output_type": "stream",
     "text": [
      "[[1 2 9 5 5]\n",
      " [2 3 4 6 7]]\n",
      "(2, 5)\n"
     ]
    }
   ],
   "source": [
    "# 2d array\n",
    "arr2 = np.array([[1,2,9,5,5],[2,3,4,6,7]])\n",
    "print(arr2)\n",
    "print(arr2.shape)"
   ]
  },
  {
   "cell_type": "code",
   "execution_count": null,
   "id": "86da7b23",
   "metadata": {},
   "outputs": [
    {
     "data": {
      "text/plain": [
       "array([[0],\n",
       "       [2],\n",
       "       [4],\n",
       "       [6],\n",
       "       [8]])"
      ]
     },
     "execution_count": 13,
     "metadata": {},
     "output_type": "execute_result"
    }
   ],
   "source": [
    "# How do you reshape a NumPy array? .reshape()\n",
    "np.arange(0,10,2).reshape(5,1)"
   ]
  },
  {
   "cell_type": "code",
   "execution_count": null,
   "id": "bae3a3de",
   "metadata": {},
   "outputs": [
    {
     "data": {
      "text/plain": [
       "array([[1., 1., 1., 1.],\n",
       "       [1., 1., 1., 1.],\n",
       "       [1., 1., 1., 1.]])"
      ]
     },
     "execution_count": 14,
     "metadata": {},
     "output_type": "execute_result"
    }
   ],
   "source": [
    "# some in built function in mumpy\n",
    "np.ones((3,4))"
   ]
  },
  {
   "cell_type": "code",
   "execution_count": 15,
   "id": "aa036262",
   "metadata": {},
   "outputs": [
    {
     "data": {
      "text/plain": [
       "array([[1., 0., 0.],\n",
       "       [0., 1., 0.],\n",
       "       [0., 0., 1.]])"
      ]
     },
     "execution_count": 15,
     "metadata": {},
     "output_type": "execute_result"
    }
   ],
   "source": [
    "# identity matrix\n",
    "np.eye(3)"
   ]
  },
  {
   "cell_type": "code",
   "execution_count": 16,
   "id": "b26ed712",
   "metadata": {},
   "outputs": [
    {
     "name": "stdout",
     "output_type": "stream",
     "text": [
      "0\n",
      "1\n",
      "2\n",
      "3\n"
     ]
    }
   ],
   "source": [
    "# Check Number of Dimensions?\n",
    "a = np.array(42)\n",
    "b = np.array([1, 2, 3, 4, 5])\n",
    "c = np.array([[1, 2, 3], [4, 5, 6]])\n",
    "d = np.array([[[1, 2, 3], [4, 5, 6]], [[1, 2, 3], [4, 5, 6]]])\n",
    "\n",
    "print(a.ndim)\n",
    "print(b.ndim)\n",
    "print(c.ndim)\n",
    "print(d.ndim)"
   ]
  },
  {
   "cell_type": "code",
   "execution_count": 22,
   "id": "034b7e33",
   "metadata": {},
   "outputs": [
    {
     "name": "stdout",
     "output_type": "stream",
     "text": [
      "Array:\n",
      " [[[1 2 3]\n",
      "  [5 6 8]]]\n",
      "shape: (1, 2, 3)\n",
      "number of dimensions: 3\n",
      "size(number if elements): 6\n",
      "Data Type: int64\n",
      "Item size (in bytes): 8\n"
     ]
    }
   ],
   "source": [
    "arr3 = np.array([[[1,2,3],[5,6,8]]])\n",
    "print(\"Array:\\n\", arr3) \n",
    "print(\"shape:\",arr3.shape)\n",
    "print(\"number of dimensions:\",arr3.ndim)\n",
    "print(\"size(number if elements):\",arr3.size)\n",
    "print(\"Data Type:\",arr3.dtype)\n",
    "print(\"Item size (in bytes):\",arr3.itemsize)"
   ]
  },
  {
   "cell_type": "code",
   "execution_count": 24,
   "id": "7417fae6",
   "metadata": {},
   "outputs": [
    {
     "name": "stdout",
     "output_type": "stream",
     "text": [
      "addition: [11 22 33 44 55]\n",
      "Substraction: [ -9 -18 -27 -36 -45]\n",
      "multiplication: [ 10  40  90 160 250]\n",
      "division: [0.1 0.1 0.1 0.1 0.1]\n"
     ]
    }
   ],
   "source": [
    "# numpy vectorized operation \n",
    "arr4 = np.array([1,2,3,4,5])\n",
    "arr5 = np.array([10,20,30,40,50])\n",
    "\n",
    "# element wise addition \n",
    "print(\"addition:\",arr4 + arr5)\n",
    "\n",
    "# element wise substraction \n",
    "print(\"Substraction:\",arr4 - arr5)\n",
    "\n",
    "# element wise multiplication \n",
    "print(\"multiplication:\",arr4 * arr5)\n",
    "\n",
    "# element wise divison \n",
    "print(\"division:\",arr4 / arr5)"
   ]
  },
  {
   "cell_type": "code",
   "execution_count": 26,
   "id": "b32a72e3",
   "metadata": {},
   "outputs": [
    {
     "name": "stdout",
     "output_type": "stream",
     "text": [
      "[1.         2.23606798 3.         2.44948974 1.73205081]\n",
      "[2.71828183e+00 1.48413159e+02 8.10308393e+03 4.03428793e+02\n",
      " 2.00855369e+01]\n",
      "[ 0.84147098 -0.95892427  0.41211849 -0.2794155   0.14112001]\n",
      "[0.         1.60943791 2.19722458 1.79175947 1.09861229]\n"
     ]
    }
   ],
   "source": [
    "# universal function - function applied on entire array \n",
    "arr6= np.array([1,5,9,6,3])\n",
    "\n",
    "# square root \n",
    "print(np.sqrt(arr6))\n",
    "\n",
    "# Exponential\n",
    "print(np.exp(arr6))\n",
    "\n",
    "#sine\n",
    "print(np.sin(arr6))\n",
    "\n",
    "# natural log \n",
    "print(np.log(arr6))"
   ]
  },
  {
   "cell_type": "code",
   "execution_count": 29,
   "id": "050eca02",
   "metadata": {},
   "outputs": [
    {
     "name": "stdout",
     "output_type": "stream",
     "text": [
      "Array: \n",
      " [[ 1  2  3  4]\n",
      " [ 5  6  7 56]\n",
      " [18 19 10 12]]\n"
     ]
    }
   ],
   "source": [
    "# array slicing and Indexing \n",
    "\n",
    "arr = np.array([[1,2,3,4],[5,6,7,56],[18,19,10,12]])\n",
    "print(\"Array: \\n\", arr)"
   ]
  },
  {
   "cell_type": "code",
   "execution_count": 31,
   "id": "7e243015",
   "metadata": {},
   "outputs": [
    {
     "data": {
      "text/plain": [
       "np.int64(1)"
      ]
     },
     "execution_count": 31,
     "metadata": {},
     "output_type": "execute_result"
    }
   ],
   "source": [
    "arr[0][0]"
   ]
  },
  {
   "cell_type": "code",
   "execution_count": null,
   "id": "074a37ae",
   "metadata": {},
   "outputs": [
    {
     "data": {
      "text/plain": [
       "array([[ 7, 56],\n",
       "       [10, 12]])"
      ]
     },
     "execution_count": 32,
     "metadata": {},
     "output_type": "execute_result"
    }
   ],
   "source": [
    "arr[1:,2:]"
   ]
  },
  {
   "cell_type": "code",
   "execution_count": 40,
   "id": "1eb73c39",
   "metadata": {},
   "outputs": [
    {
     "name": "stdout",
     "output_type": "stream",
     "text": [
      "[1 2 3 4]\n",
      "___________________________________________________\n",
      "\n",
      "[ 5  6  7 56]\n",
      "___________________________________________________\n",
      "\n",
      "[18 19 10 12]\n"
     ]
    }
   ],
   "source": [
    "print(arr[0])\n",
    "print(\"___________________________________________________\\n\")\n",
    "print(arr[1])\n",
    "print(\"___________________________________________________\\n\")\n",
    "print(arr[2])"
   ]
  },
  {
   "cell_type": "code",
   "execution_count": 45,
   "id": "1cd4139c",
   "metadata": {},
   "outputs": [
    {
     "name": "stdout",
     "output_type": "stream",
     "text": [
      "2\n",
      "___________________________________________________\n",
      "\n",
      "7\n",
      "___________________________________________________\n",
      "\n",
      "12\n"
     ]
    }
   ],
   "source": [
    "print(arr[0][1])\n",
    "print(\"___________________________________________________\\n\")\n",
    "print(arr[1][2])\n",
    "print(\"___________________________________________________\\n\")\n",
    "print(arr[2][3])"
   ]
  },
  {
   "cell_type": "code",
   "execution_count": 46,
   "id": "481e29f9",
   "metadata": {},
   "outputs": [
    {
     "name": "stdout",
     "output_type": "stream",
     "text": [
      "[[ 1  2  3  4]\n",
      " [ 5  6  7 56]\n",
      " [18 19 10 12]]\n",
      "___________________________________________________\n",
      "\n",
      "[[ 5  6  7 56]\n",
      " [18 19 10 12]]\n",
      "___________________________________________________\n",
      "\n",
      "[[18 19 10 12]]\n"
     ]
    }
   ],
   "source": [
    "print(arr[0:])\n",
    "print(\"___________________________________________________\\n\")\n",
    "print(arr[1:])\n",
    "print(\"___________________________________________________\\n\")\n",
    "print(arr[2:])"
   ]
  },
  {
   "cell_type": "code",
   "execution_count": 58,
   "id": "e0471482",
   "metadata": {},
   "outputs": [
    {
     "name": "stdout",
     "output_type": "stream",
     "text": [
      "[[ 2  3  4]\n",
      " [ 6  7 56]\n",
      " [19 10 12]]\n",
      "___________________________________________________\n",
      "\n",
      "[[ 7 56]\n",
      " [10 12]]\n",
      "___________________________________________________\n",
      "\n",
      "[[18 19 10 12]]\n"
     ]
    }
   ],
   "source": [
    "print(arr[0:,1:])\n",
    "print(\"___________________________________________________\\n\")\n",
    "print(arr[1:,2:])\n",
    "print(\"___________________________________________________\\n\")\n",
    "print(arr[2:])"
   ]
  },
  {
   "cell_type": "code",
   "execution_count": 59,
   "id": "723ae0fc",
   "metadata": {},
   "outputs": [
    {
     "name": "stdout",
     "output_type": "stream",
     "text": [
      "[[  1   2 200   4]\n",
      " [  5   6   7  56]\n",
      " [ 18  19  10  12]]\n"
     ]
    }
   ],
   "source": [
    "# modifying array elemens \n",
    "arr[0,2] = 200\n",
    "print(arr)"
   ]
  },
  {
   "cell_type": "code",
   "execution_count": 60,
   "id": "fcfd87c3",
   "metadata": {},
   "outputs": [
    {
     "name": "stdout",
     "output_type": "stream",
     "text": [
      "[[  1   2 200   4]\n",
      " [100 100 100 100]\n",
      " [100 100 100 100]]\n"
     ]
    }
   ],
   "source": [
    "arr[1:]=100\n",
    "print(arr)"
   ]
  },
  {
   "cell_type": "markdown",
   "id": "407e0a8e",
   "metadata": {},
   "source": [
    "## Matrix Inversion in NumPy?\n",
    "\n",
    " process of finding the inverse of a square matrix. The identity matrix is produced when multiplying the original matrix by the inverse of the matrix. In other words, if A is a square matrix and A^(-1) is its inverse, then A * A^(-1) = I, where I is the identity matrix.\n",
    "\n",
    "NumPy provides a convenient function called numpy.linalg.inv() to compute the inverse of a square matrix. Here's how you can use it:\n",
    "\n",
    "\n",
    "\n",
    "\n"
   ]
  },
  {
   "cell_type": "code",
   "execution_count": 30,
   "id": "83a80061",
   "metadata": {},
   "outputs": [
    {
     "name": "stdout",
     "output_type": "stream",
     "text": [
      "Original Matrix:\n",
      " [[1 2 3]\n",
      " [0 1 4]\n",
      " [5 6 0]]\n",
      "Inverse Matrix:\n",
      " [[-24.  18.   5.]\n",
      " [ 20. -15.  -4.]\n",
      " [ -5.   4.   1.]]\n"
     ]
    }
   ],
   "source": [
    "import numpy as np\n",
    "\n",
    "# Define a square matrix\n",
    "A = np.array([[1, 2, 3],\n",
    "              [0, 1, 4],\n",
    "              [5, 6, 0]])\n",
    "\n",
    "# Calculate the inverse of the matrix\n",
    "A_inverse = np.linalg.inv(A)\n",
    "\n",
    "# Print results\n",
    "print(\"Original Matrix:\\n\", A)\n",
    "print(\"Inverse Matrix:\\n\", A_inverse)"
   ]
  },
  {
   "cell_type": "markdown",
   "id": "fd50ded4",
   "metadata": {},
   "source": [
    "## multidimensional array to 1D array.\n",
    "\n",
    "You can convert a multidimensional array to a 1D array which is also known as flattening the array in NumPy using various methods. Two common methods are using for the Convert a multidimensional array to 1D array."
   ]
  },
  {
   "cell_type": "code",
   "execution_count": 32,
   "id": "7b91c10a",
   "metadata": {},
   "outputs": [
    {
     "name": "stdout",
     "output_type": "stream",
     "text": [
      "one dimensional array [1 2 3 4 5 6 7 8 9]\n"
     ]
    }
   ],
   "source": [
    "# Create a multidimensional array\n",
    "multidimensional_array = np.array([[1, 2, 3], [4, 5, 6], [7, 8, 9]])\n",
    "\n",
    "# Use the flatten() method to convert it to a 1D array\n",
    "one_dimensional_array = multidimensional_array.flatten()\n",
    "\n",
    "print(\"one dimensional array\", one_dimensional_array)"
   ]
  },
  {
   "cell_type": "code",
   "execution_count": 34,
   "id": "b5ece795",
   "metadata": {},
   "outputs": [
    {
     "name": "stdout",
     "output_type": "stream",
     "text": [
      "one dimensional array [1 2 3 4 5 6 7 8 9]\n"
     ]
    }
   ],
   "source": [
    "# Create a multidimensional array\n",
    "multidimensional_array = np.array([[1, 2, 3], [4, 5, 6], [7, 8, 9]])\n",
    "\n",
    "# Use the ravel() method to convert it to a 1D array\n",
    "one_dimensional_array = multidimensional_array.ravel()\n",
    "\n",
    "print(\"one dimensional array\", one_dimensional_array)"
   ]
  },
  {
   "cell_type": "code",
   "execution_count": 33,
   "id": "b6e6b14d",
   "metadata": {},
   "outputs": [
    {
     "name": "stdout",
     "output_type": "stream",
     "text": [
      "normalized data: [-1.41421356 -0.70710678  0.          0.70710678  1.41421356]\n"
     ]
    }
   ],
   "source": [
    "# statisticalconcepts- Normalization\n",
    "# to have a mean of 0 and standard deviation of 1 \n",
    "data = np.array([1,2,3,4,5])\n",
    "\n",
    "mean = np.mean(data)\n",
    "std_dev =  np.std(data)\n",
    "\n",
    "# normalization the data\n",
    "normalized_Data = (data - mean ) / std_dev\n",
    "print(\"normalized data:\", normalized_Data)\n",
    "\n"
   ]
  },
  {
   "cell_type": "code",
   "execution_count": 67,
   "id": "d21a9698",
   "metadata": {},
   "outputs": [
    {
     "name": "stdout",
     "output_type": "stream",
     "text": [
      "mean 3.0\n",
      "median 3.0\n",
      "standard deviation 1.4142135623730951\n",
      "variance : 2.0\n"
     ]
    }
   ],
   "source": [
    "# mean \n",
    "mean = np.mean(data)\n",
    "print(\"mean\",mean)\n",
    "\n",
    "# median\n",
    "median = np.median(data)\n",
    "print(\"median\",median)\n",
    "\n",
    "# standard deviation\n",
    "std_dev = np.std(data)\n",
    "print(\"standard deviation\",std_dev)\n",
    "\n",
    "# variance \n",
    "varience = np.var(data)\n",
    "print(\"variance :\", varience)"
   ]
  },
  {
   "cell_type": "code",
   "execution_count": 72,
   "id": "c75120dd",
   "metadata": {},
   "outputs": [
    {
     "data": {
      "text/plain": [
       "array([6, 7, 8])"
      ]
     },
     "execution_count": 72,
     "metadata": {},
     "output_type": "execute_result"
    }
   ],
   "source": [
    "#  logical operation \n",
    "data1 = np.array([1,2,3,4,5,6,7,8,9,10])\n",
    "data1[(data1>5) & (data1<=8)]"
   ]
  },
  {
   "cell_type": "markdown",
   "id": "e2104f83",
   "metadata": {},
   "source": [
    "# How to generate random numbers with NumPy?\n",
    "\n",
    "\n",
    "NumPy provides a wide range of functions for generating random numbers. You can generate random numbers from various probability distributions, set seeds for reproducibility and more. Here are some common ways to generate random numbers with NumPy:"
   ]
  },
  {
   "cell_type": "markdown",
   "id": "6b2ab63c",
   "metadata": {},
   "source": [
    "## 1. Using np.random.rand()\n",
    "\n",
    "Generating a Random Float between 0 and 1 using np.random.rand()"
   ]
  },
  {
   "cell_type": "code",
   "execution_count": 23,
   "id": "46f99cd5",
   "metadata": {},
   "outputs": [
    {
     "name": "stdout",
     "output_type": "stream",
     "text": [
      "[[0.07292194 0.4137425  0.57418681 0.08596755]\n",
      " [0.76649191 0.07809681 0.13549561 0.90551285]\n",
      " [0.14841364 0.39648253 0.5251815  0.43167145]\n",
      " [0.52331847 0.70757396 0.57391935 0.08332635]]\n"
     ]
    }
   ],
   "source": [
    "random_float = np.random.rand(4,4)\n",
    "print(random_float)"
   ]
  },
  {
   "cell_type": "markdown",
   "id": "f8975e55",
   "metadata": {},
   "source": [
    "## 2. Using np.random.randint()\n",
    "\n",
    "Generating a Random Integer within a Range using np.random.randint()."
   ]
  },
  {
   "cell_type": "code",
   "execution_count": 21,
   "id": "9535793f",
   "metadata": {},
   "outputs": [
    {
     "name": "stdout",
     "output_type": "stream",
     "text": [
      "[[1 1 1]\n",
      " [2 2 2]\n",
      " [1 2 1]]\n"
     ]
    }
   ],
   "source": [
    "random_integer = np.random.randint(3,size=(3,3))\n",
    "print(random_integer)"
   ]
  },
  {
   "cell_type": "markdown",
   "id": "150e5847",
   "metadata": {},
   "source": [
    "## 3.Using np.random.randn()"
   ]
  },
  {
   "cell_type": "code",
   "execution_count": 25,
   "id": "62c4694b",
   "metadata": {},
   "outputs": [
    {
     "name": "stdout",
     "output_type": "stream",
     "text": [
      "[[ 0.77234298 -0.17847276  1.79742051  0.03497425 -0.35306149]\n",
      " [ 0.62481712 -0.16323069  0.3475302  -1.26262988  0.83625322]]\n"
     ]
    }
   ],
   "source": [
    "random_float = np.random.randn(2,5)\n",
    "print(random_float)"
   ]
  },
  {
   "cell_type": "markdown",
   "id": "16fe2360",
   "metadata": {},
   "source": [
    "##  11. How can you concatenate two NumPy arrays vertically?\n",
    "We can concatenate two NumPy arrays vertically (along the rows) using the np.vstack() function or the np.concatenate() function with the axis parameter set to 0. Here's how to do it with both methods:"
   ]
  },
  {
   "cell_type": "code",
   "execution_count": 26,
   "id": "89428b38",
   "metadata": {},
   "outputs": [],
   "source": [
    "array1 = np.array([[11,22,33],[44,55,66],[77,88,99]])\n",
    "array2 = np.array([[21,22,23],[31,32,33],[41,42,43]])\n",
    "array= np.vstack((array1, array2))"
   ]
  },
  {
   "cell_type": "code",
   "execution_count": 27,
   "id": "f7f0b6b3",
   "metadata": {},
   "outputs": [
    {
     "name": "stdout",
     "output_type": "stream",
     "text": [
      "[[11 22 33]\n",
      " [44 55 66]\n",
      " [77 88 99]\n",
      " [21 22 23]\n",
      " [31 32 33]\n",
      " [41 42 43]]\n"
     ]
    }
   ],
   "source": [
    "print(array)"
   ]
  },
  {
   "cell_type": "code",
   "execution_count": 28,
   "id": "7680231c",
   "metadata": {},
   "outputs": [],
   "source": [
    "array_new= np.concatenate((array1, array2), axis=0)"
   ]
  },
  {
   "cell_type": "code",
   "execution_count": 29,
   "id": "c4fde293",
   "metadata": {},
   "outputs": [
    {
     "name": "stdout",
     "output_type": "stream",
     "text": [
      "[[11 22 33]\n",
      " [44 55 66]\n",
      " [77 88 99]\n",
      " [21 22 23]\n",
      " [31 32 33]\n",
      " [41 42 43]]\n"
     ]
    }
   ],
   "source": [
    "print(array_new)"
   ]
  },
  {
   "cell_type": "code",
   "execution_count": null,
   "id": "00c18b0a",
   "metadata": {},
   "outputs": [],
   "source": []
  }
 ],
 "metadata": {
  "kernelspec": {
   "display_name": "data_env",
   "language": "python",
   "name": "python3"
  },
  "language_info": {
   "codemirror_mode": {
    "name": "ipython",
    "version": 3
   },
   "file_extension": ".py",
   "mimetype": "text/x-python",
   "name": "python",
   "nbconvert_exporter": "python",
   "pygments_lexer": "ipython3",
   "version": "3.10.0"
  }
 },
 "nbformat": 4,
 "nbformat_minor": 5
}
