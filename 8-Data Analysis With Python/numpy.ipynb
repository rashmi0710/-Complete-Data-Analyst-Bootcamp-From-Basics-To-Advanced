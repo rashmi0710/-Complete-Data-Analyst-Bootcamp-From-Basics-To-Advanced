{
 "cells": [
  {
   "cell_type": "markdown",
   "id": "0c17a9ab",
   "metadata": {},
   "source": [
    "NumPy (Numerical Python) is a Python library that provides support for efficient numerical operations on\n",
    "large, multi-dimensional arrays and serves as a fundamental building block for data analysis in Python. The\n",
    "conventional alias for importing NumPy is np. In other words, NumPy is imported as import numpy as np.\n",
    "NumPy implements the ndarray object, which allows the creation of a multi-dimensional array of\n",
    "homogeneous data types (columns with the same data type) and efficient data processing. An ndarray object\n",
    "can have any number of dimensions and can store elements of various numeric data types. To create a NumPy\n",
    "ndarray object, one of the following options can be used:\n",
    "\n",
    "\n",
    "• Creating an ndarray by converting a Python list or tuple using the np.array() function.\n",
    "\n",
    "\n",
    "• Using built-in functions like np.zeros() and np.ones() for creating an array of all 0's or all 1's,\n",
    "respectively.\n",
    "\n",
    "\n",
    "• Generating an array with random numbers using np.random.rand(n, m), where n and m are the\n",
    "number of rows and columns, respectively.\n",
    "\n",
    "\n",
    "• Loading data from a file. Ex: np.genfromtxt('data.csv', delimiter=',')"
   ]
  },
  {
   "cell_type": "code",
   "execution_count": 2,
   "id": "66b5d0d8",
   "metadata": {},
   "outputs": [],
   "source": [
    "import numpy as np \n"
   ]
  },
  {
   "cell_type": "code",
   "execution_count": 4,
   "id": "2080ffd6",
   "metadata": {},
   "outputs": [
    {
     "name": "stdout",
     "output_type": "stream",
     "text": [
      "[1 2 3 4 5]\n",
      "<class 'numpy.ndarray'>\n",
      "(5,)\n"
     ]
    }
   ],
   "source": [
    "# how to create arrays using numpy\n",
    "\n",
    "# 1D arrays\n",
    "arr1=np.array([1,2,3,4,5])\n",
    "print(arr1)\n",
    "print(type(arr1))\n",
    "print(arr1.shape)"
   ]
  },
  {
   "cell_type": "code",
   "execution_count": null,
   "id": "a7ea1e83",
   "metadata": {},
   "outputs": [
    {
     "data": {
      "text/plain": [
       "array([[1, 2, 3, 4, 5]])"
      ]
     },
     "execution_count": 7,
     "metadata": {},
     "output_type": "execute_result"
    }
   ],
   "source": [
    "# 2 d array\n",
    "arr2=np.array([1,2,3,4,5])\n",
    "arr2.reshape(1,5) #1 roe and 5 columns "
   ]
  },
  {
   "cell_type": "code",
   "execution_count": 12,
   "id": "6e8f91e0",
   "metadata": {},
   "outputs": [
    {
     "name": "stdout",
     "output_type": "stream",
     "text": [
      "[[1 2 9 5 5]\n",
      " [2 3 4 6 7]]\n"
     ]
    },
    {
     "data": {
      "text/plain": [
       "(2, 5)"
      ]
     },
     "execution_count": 12,
     "metadata": {},
     "output_type": "execute_result"
    }
   ],
   "source": [
    "# 2d array\n",
    "arr2 = np.array([[1,2,9,5,5],[2,3,4,6,7]])\n",
    "print(arr2)\n",
    "arr2.shape"
   ]
  },
  {
   "cell_type": "code",
   "execution_count": 13,
   "id": "86da7b23",
   "metadata": {},
   "outputs": [
    {
     "data": {
      "text/plain": [
       "array([[0],\n",
       "       [2],\n",
       "       [4],\n",
       "       [6],\n",
       "       [8]])"
      ]
     },
     "execution_count": 13,
     "metadata": {},
     "output_type": "execute_result"
    }
   ],
   "source": [
    "np.arange(0,10,2).reshape(5,1)"
   ]
  },
  {
   "cell_type": "code",
   "execution_count": 14,
   "id": "bae3a3de",
   "metadata": {},
   "outputs": [
    {
     "data": {
      "text/plain": [
       "array([[1., 1., 1., 1.],\n",
       "       [1., 1., 1., 1.],\n",
       "       [1., 1., 1., 1.]])"
      ]
     },
     "execution_count": 14,
     "metadata": {},
     "output_type": "execute_result"
    }
   ],
   "source": [
    "# some in built function in mumpy\n",
    "\n",
    "np.ones((3,4))"
   ]
  },
  {
   "cell_type": "code",
   "execution_count": 15,
   "id": "aa036262",
   "metadata": {},
   "outputs": [
    {
     "data": {
      "text/plain": [
       "array([[1., 0., 0.],\n",
       "       [0., 1., 0.],\n",
       "       [0., 0., 1.]])"
      ]
     },
     "execution_count": 15,
     "metadata": {},
     "output_type": "execute_result"
    }
   ],
   "source": [
    "# identity matrix\n",
    "np.eye(3)"
   ]
  },
  {
   "cell_type": "code",
   "execution_count": 16,
   "id": "b26ed712",
   "metadata": {},
   "outputs": [
    {
     "name": "stdout",
     "output_type": "stream",
     "text": [
      "0\n",
      "1\n",
      "2\n",
      "3\n"
     ]
    }
   ],
   "source": [
    "# Check Number of Dimensions?\n",
    "a = np.array(42)\n",
    "b = np.array([1, 2, 3, 4, 5])\n",
    "c = np.array([[1, 2, 3], [4, 5, 6]])\n",
    "d = np.array([[[1, 2, 3], [4, 5, 6]], [[1, 2, 3], [4, 5, 6]]])\n",
    "\n",
    "print(a.ndim)\n",
    "print(b.ndim)\n",
    "print(c.ndim)\n",
    "print(d.ndim)"
   ]
  },
  {
   "cell_type": "code",
   "execution_count": 22,
   "id": "034b7e33",
   "metadata": {},
   "outputs": [
    {
     "name": "stdout",
     "output_type": "stream",
     "text": [
      "Array:\n",
      " [[[1 2 3]\n",
      "  [5 6 8]]]\n",
      "shape: (1, 2, 3)\n",
      "number of dimensions: 3\n",
      "size(number if elements): 6\n",
      "Data Type: int64\n",
      "Item size (in bytes): 8\n"
     ]
    }
   ],
   "source": [
    "arr3 = np.array([[[1,2,3],[5,6,8]]])\n",
    "print(\"Array:\\n\", arr3) \n",
    "print(\"shape:\",arr3.shape)\n",
    "print(\"number of dimensions:\",arr3.ndim)\n",
    "print(\"size(number if elements):\",arr3.size)\n",
    "print(\"Data Type:\",arr3.dtype)\n",
    "print(\"Item size (in bytes):\",arr3.itemsize)"
   ]
  },
  {
   "cell_type": "code",
   "execution_count": 24,
   "id": "7417fae6",
   "metadata": {},
   "outputs": [
    {
     "name": "stdout",
     "output_type": "stream",
     "text": [
      "addition: [11 22 33 44 55]\n",
      "Substraction: [ -9 -18 -27 -36 -45]\n",
      "multiplication: [ 10  40  90 160 250]\n",
      "division: [0.1 0.1 0.1 0.1 0.1]\n"
     ]
    }
   ],
   "source": [
    "# numpy vectorized operation \n",
    "arr4 = np.array([1,2,3,4,5])\n",
    "arr5 = np.array([10,20,30,40,50])\n",
    "\n",
    "# element wise addition \n",
    "print(\"addition:\",arr4 + arr5)\n",
    "\n",
    "# element wise substraction \n",
    "print(\"Substraction:\",arr4 - arr5)\n",
    "\n",
    "# element wise multiplication \n",
    "print(\"multiplication:\",arr4 * arr5)\n",
    "\n",
    "# element wise divison \n",
    "print(\"division:\",arr4 / arr5)"
   ]
  },
  {
   "cell_type": "code",
   "execution_count": 26,
   "id": "b32a72e3",
   "metadata": {},
   "outputs": [
    {
     "name": "stdout",
     "output_type": "stream",
     "text": [
      "[1.         2.23606798 3.         2.44948974 1.73205081]\n",
      "[2.71828183e+00 1.48413159e+02 8.10308393e+03 4.03428793e+02\n",
      " 2.00855369e+01]\n",
      "[ 0.84147098 -0.95892427  0.41211849 -0.2794155   0.14112001]\n",
      "[0.         1.60943791 2.19722458 1.79175947 1.09861229]\n"
     ]
    }
   ],
   "source": [
    "# universal function - function applied on entire array \n",
    "arr6= np.array([1,5,9,6,3])\n",
    "\n",
    "# square root \n",
    "print(np.sqrt(arr6))\n",
    "\n",
    "# Exponential\n",
    "print(np.exp(arr6))\n",
    "\n",
    "#sine\n",
    "print(np.sin(arr6))\n",
    "\n",
    "# natural log \n",
    "print(np.log(arr6))"
   ]
  },
  {
   "cell_type": "code",
   "execution_count": 29,
   "id": "050eca02",
   "metadata": {},
   "outputs": [
    {
     "name": "stdout",
     "output_type": "stream",
     "text": [
      "Array: \n",
      " [[ 1  2  3  4]\n",
      " [ 5  6  7 56]\n",
      " [18 19 10 12]]\n"
     ]
    }
   ],
   "source": [
    "# array slicing and Indexing \n",
    "\n",
    "arr = np.array([[1,2,3,4],[5,6,7,56],[18,19,10,12]])\n",
    "print(\"Array: \\n\", arr)"
   ]
  },
  {
   "cell_type": "code",
   "execution_count": 31,
   "id": "7e243015",
   "metadata": {},
   "outputs": [
    {
     "data": {
      "text/plain": [
       "np.int64(1)"
      ]
     },
     "execution_count": 31,
     "metadata": {},
     "output_type": "execute_result"
    }
   ],
   "source": [
    "arr[0][0]"
   ]
  },
  {
   "cell_type": "code",
   "execution_count": null,
   "id": "074a37ae",
   "metadata": {},
   "outputs": [
    {
     "data": {
      "text/plain": [
       "array([[ 7, 56],\n",
       "       [10, 12]])"
      ]
     },
     "execution_count": 32,
     "metadata": {},
     "output_type": "execute_result"
    }
   ],
   "source": [
    "arr[1:,2:]"
   ]
  },
  {
   "cell_type": "code",
   "execution_count": 40,
   "id": "1eb73c39",
   "metadata": {},
   "outputs": [
    {
     "name": "stdout",
     "output_type": "stream",
     "text": [
      "[1 2 3 4]\n",
      "___________________________________________________\n",
      "\n",
      "[ 5  6  7 56]\n",
      "___________________________________________________\n",
      "\n",
      "[18 19 10 12]\n"
     ]
    }
   ],
   "source": [
    "print(arr[0])\n",
    "print(\"___________________________________________________\\n\")\n",
    "print(arr[1])\n",
    "print(\"___________________________________________________\\n\")\n",
    "print(arr[2])"
   ]
  },
  {
   "cell_type": "code",
   "execution_count": 45,
   "id": "1cd4139c",
   "metadata": {},
   "outputs": [
    {
     "name": "stdout",
     "output_type": "stream",
     "text": [
      "2\n",
      "___________________________________________________\n",
      "\n",
      "7\n",
      "___________________________________________________\n",
      "\n",
      "12\n"
     ]
    }
   ],
   "source": [
    "print(arr[0][1])\n",
    "print(\"___________________________________________________\\n\")\n",
    "print(arr[1][2])\n",
    "print(\"___________________________________________________\\n\")\n",
    "print(arr[2][3])"
   ]
  },
  {
   "cell_type": "code",
   "execution_count": 46,
   "id": "481e29f9",
   "metadata": {},
   "outputs": [
    {
     "name": "stdout",
     "output_type": "stream",
     "text": [
      "[[ 1  2  3  4]\n",
      " [ 5  6  7 56]\n",
      " [18 19 10 12]]\n",
      "___________________________________________________\n",
      "\n",
      "[[ 5  6  7 56]\n",
      " [18 19 10 12]]\n",
      "___________________________________________________\n",
      "\n",
      "[[18 19 10 12]]\n"
     ]
    }
   ],
   "source": [
    "print(arr[0:])\n",
    "print(\"___________________________________________________\\n\")\n",
    "print(arr[1:])\n",
    "print(\"___________________________________________________\\n\")\n",
    "print(arr[2:])"
   ]
  },
  {
   "cell_type": "code",
   "execution_count": 58,
   "id": "e0471482",
   "metadata": {},
   "outputs": [
    {
     "name": "stdout",
     "output_type": "stream",
     "text": [
      "[[ 2  3  4]\n",
      " [ 6  7 56]\n",
      " [19 10 12]]\n",
      "___________________________________________________\n",
      "\n",
      "[[ 7 56]\n",
      " [10 12]]\n",
      "___________________________________________________\n",
      "\n",
      "[[18 19 10 12]]\n"
     ]
    }
   ],
   "source": [
    "print(arr[0:,1:])\n",
    "print(\"___________________________________________________\\n\")\n",
    "print(arr[1:,2:])\n",
    "print(\"___________________________________________________\\n\")\n",
    "print(arr[2:])"
   ]
  },
  {
   "cell_type": "code",
   "execution_count": 59,
   "id": "723ae0fc",
   "metadata": {},
   "outputs": [
    {
     "name": "stdout",
     "output_type": "stream",
     "text": [
      "[[  1   2 200   4]\n",
      " [  5   6   7  56]\n",
      " [ 18  19  10  12]]\n"
     ]
    }
   ],
   "source": [
    "# modifying array elemens \n",
    "arr[0,2] = 200\n",
    "print(arr)"
   ]
  },
  {
   "cell_type": "code",
   "execution_count": 60,
   "id": "fcfd87c3",
   "metadata": {},
   "outputs": [
    {
     "name": "stdout",
     "output_type": "stream",
     "text": [
      "[[  1   2 200   4]\n",
      " [100 100 100 100]\n",
      " [100 100 100 100]]\n"
     ]
    }
   ],
   "source": [
    "arr[1:]=100\n",
    "print(arr)"
   ]
  },
  {
   "cell_type": "code",
   "execution_count": 65,
   "id": "b6e6b14d",
   "metadata": {},
   "outputs": [
    {
     "name": "stdout",
     "output_type": "stream",
     "text": [
      "normalized data: [-1.41421356 -0.70710678  0.          0.70710678  1.41421356]\n"
     ]
    }
   ],
   "source": [
    "# statisticalconcepts- Normalization\n",
    "# to have a mean of 0 and standard deviation of 1 \n",
    "data = np.array([1,2,3,4,5])\n",
    "\n",
    "mean = np.mean(data)\n",
    "std_dev =  np.std(data)\n",
    "\n",
    "# normalization the data\n",
    "normalized_Data = (data - mean ) / std_dev\n",
    "print(\"normalized data:\", normalized_Data)\n",
    "\n"
   ]
  },
  {
   "cell_type": "code",
   "execution_count": 67,
   "id": "d21a9698",
   "metadata": {},
   "outputs": [
    {
     "name": "stdout",
     "output_type": "stream",
     "text": [
      "mean 3.0\n",
      "median 3.0\n",
      "standard deviation 1.4142135623730951\n",
      "variance : 2.0\n"
     ]
    }
   ],
   "source": [
    "# mean \n",
    "mean = np.mean(data)\n",
    "print(\"mean\",mean)\n",
    "\n",
    "# median\n",
    "median = np.median(data)\n",
    "print(\"median\",median)\n",
    "\n",
    "# standard deviation\n",
    "std_dev = np.std(data)\n",
    "print(\"standard deviation\",std_dev)\n",
    "\n",
    "# variance \n",
    "varience = np.var(data)\n",
    "print(\"variance :\", varience)"
   ]
  },
  {
   "cell_type": "code",
   "execution_count": 72,
   "id": "c75120dd",
   "metadata": {},
   "outputs": [
    {
     "data": {
      "text/plain": [
       "array([6, 7, 8])"
      ]
     },
     "execution_count": 72,
     "metadata": {},
     "output_type": "execute_result"
    }
   ],
   "source": [
    "#  logical operation \n",
    "data1 = np.array([1,2,3,4,5,6,7,8,9,10])\n",
    "data1[(data1>5) & (data1<=8)]"
   ]
  },
  {
   "cell_type": "code",
   "execution_count": null,
   "id": "e2104f83",
   "metadata": {},
   "outputs": [],
   "source": []
  }
 ],
 "metadata": {
  "kernelspec": {
   "display_name": "data_env",
   "language": "python",
   "name": "python3"
  },
  "language_info": {
   "codemirror_mode": {
    "name": "ipython",
    "version": 3
   },
   "file_extension": ".py",
   "mimetype": "text/x-python",
   "name": "python",
   "nbconvert_exporter": "python",
   "pygments_lexer": "ipython3",
   "version": "3.10.0"
  }
 },
 "nbformat": 4,
 "nbformat_minor": 5
}
